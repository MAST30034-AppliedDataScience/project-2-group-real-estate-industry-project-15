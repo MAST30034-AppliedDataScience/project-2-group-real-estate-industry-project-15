{
 "cells": [
  {
   "cell_type": "markdown",
   "metadata": {},
   "source": [
    "# Summary Notebook - Group 15"
   ]
  },
  {
   "cell_type": "markdown",
   "metadata": {},
   "source": [
    "WILL DELTE THIS. Add your headings with two hashes '##'. further subheadings can be added with '###'"
   ]
  },
  {
   "cell_type": "markdown",
   "metadata": {},
   "source": [
    "## Introduction"
   ]
  },
  {
   "cell_type": "markdown",
   "metadata": {},
   "source": [
    "## Public Transport\n",
    "\n",
    "### Top 5 Suburbs with Greatest Accessibility to Public Transport\n",
    "\n",
    "The top 5 suburbs that are most accessible by public transport (based on train and tram stops) are:\n",
    "1. **Melbourne**\n",
    "2. **Camberwell**\n",
    "3. **Richmond**\n",
    "4. **Hawthorn**\n",
    "5. **St Kilda**\n",
    "\n",
    "![Most Accessible Public Transport](../plots/most_accessible_public_transport.png)\n",
    "\n",
    "### Map of Train Stops and Tram Stops\n",
    "\n",
    "Below are the maps showing the distribution of train stops and tram stops across the suburbs:\n",
    "\n",
    "<div style=\"display: flex; justify-content: space-between;\">\n",
    "    <img src=\"../plots/train_stops_map.png\" alt=\"Train Stops Map\" style=\"width: 48%;\"/>\n",
    "    <img src=\"../plots/tram_stops_map.png\" alt=\"Tram Stops Map\" style=\"width: 48%;\"/>\n",
    "</div>\n",
    "\n",
    "From the maps above, we can see that the trams are mainly focused around the city and the train stations are more spread out comparatively."
   ]
  },
  {
   "cell_type": "markdown",
   "metadata": {},
   "source": [
    "## Education\n",
    "\n",
    "### Top 5 Suburbs with the Highest Education Density\n",
    "\n",
    "The top 5 suburbs that have the highest density of education institutions (across education stages primary to tertiary) are:\n",
    "1. **St Kilda East**\n",
    "2. **Fitzroy**\n",
    "3. **Collingwood**\n",
    "4. **Ormond**\n",
    "5. **Canterbury**\n",
    "\n",
    "![Combined Education Suburb Plots](../plots/combined_education_suburb_plots.png)\n",
    "\n",
    "### Education Density Heatmap\n",
    "\n",
    "Below is a heatmap showing distribution and density of education institutions across the suburbs, labelling the top 10 suburbs based on density and the location of the top 10 secondary schools in VIC:\n",
    "\n",
    "![Education heatmap Screenshot](../plots/education_interactive_heatmap_screenshot.png)\n",
    "\n",
    "<a href=\"../plots/education_density_heatmap_with_labels.html\" target=\"_blank\">Open Map</a>\n"
   ]
  },
  {
   "cell_type": "markdown",
   "metadata": {},
   "source": [
    "## Income Analysis\n",
    "\n",
    "### Top 5 Suburbs with the largest changes in suburb household income\n",
    "\n",
    "The top 5 suburbs that have the highest and lowest changes in the weekly household income within suburbs are:\n",
    "\n",
    "\n",
    "![Suburb Plots](../plots/top_5_suburb_income.png)\n",
    "\n",
    "### Income Heatmap\n",
    "\n",
    "Below is a heatmap showing distribution and density of how the weekly household income has changed over the span of 2016-2021 based on census data:\n",
    "\n",
    "\n",
    "<a href=\"../plots/map_income_difference.html\" target=\"_blank\">Open Map</a>\n"
   ]
  },
  {
   "cell_type": "markdown",
   "metadata": {},
   "source": [
    "## Conclusion"
   ]
  }
 ],
 "metadata": {
  "kernelspec": {
   "display_name": ".venv",
   "language": "python",
   "name": "python3"
  },
  "language_info": {
   "codemirror_mode": {
    "name": "ipython",
    "version": 3
   },
   "file_extension": ".py",
   "mimetype": "text/x-python",
   "name": "python",
   "nbconvert_exporter": "python",
   "pygments_lexer": "ipython3",
   "version": "3.12.4"
  }
 },
 "nbformat": 4,
 "nbformat_minor": 2
}
