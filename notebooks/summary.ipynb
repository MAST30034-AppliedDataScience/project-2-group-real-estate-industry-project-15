{
 "cells": [
  {
   "cell_type": "markdown",
   "metadata": {},
   "source": [
    "# Summary Notebook - Group 15"
   ]
  },
  {
   "cell_type": "markdown",
   "metadata": {},
   "source": [
    "WILL DELTE THIS. Add your headings with two hashes '##'. further subheadings can be added with '###'"
   ]
  },
  {
   "cell_type": "markdown",
   "metadata": {},
   "source": [
    "## Introduction"
   ]
  },
  {
   "cell_type": "markdown",
   "metadata": {},
   "source": [
    "## Public Transport\n",
    "\n",
    "### Top 5 Suburbs with Greatest Accessibility to Public Transport\n",
    "\n",
    "The top 5 suburbs that are most accessible by public transport (based on train and tram stops) are:\n",
    "1. **Melbourne**\n",
    "2. **Camberwell**\n",
    "3. **Richmond**\n",
    "4. **Hawthorn**\n",
    "5. **St Kilda**\n",
    "\n",
    "![Most Accessible Public Transport](../plots/most_accessible_public_transport.png)\n",
    "\n",
    "### Map of Train Stops and Tram Stops\n",
    "\n",
    "Below are the maps showing the distribution of train stops and tram stops across the suburbs:\n",
    "\n",
    "<div style=\"display: flex; justify-content: space-between;\">\n",
    "    <img src=\"../plots/train_stops_map.png\" alt=\"Train Stops Map\" style=\"width: 48%;\"/>\n",
    "    <img src=\"../plots/tram_stops_map.png\" alt=\"Tram Stops Map\" style=\"width: 48%;\"/>\n",
    "</div>\n",
    "\n",
    "From the maps above, we can see that the trams are mainly focused around the city and the train stations are more spread out comparatively."
   ]
  },
  {
   "cell_type": "markdown",
   "metadata": {},
   "source": [
    "## Conclusion"
   ]
  }
 ],
 "metadata": {
  "language_info": {
   "name": "python"
  }
 },
 "nbformat": 4,
 "nbformat_minor": 2
}
