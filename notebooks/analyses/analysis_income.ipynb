{
 "cells": [
  {
   "attachments": {},
   "cell_type": "markdown",
   "metadata": {},
   "source": [
    "## IMPORTANT\n",
    "\n",
    "### Before you run this notebook, ensure you've run both the `preprcoess_income.ipynb` and `preprcoess_population.ipynb` notebooks under the `notebooks/preprocessing` directory."
   ]
  },
  {
   "cell_type": "markdown",
   "metadata": {},
   "source": [
    "---"
   ]
  },
  {
   "cell_type": "code",
   "execution_count": 1,
   "metadata": {},
   "outputs": [],
   "source": [
    "import os\n",
    "import folium\n",
    "import warnings\n",
    "import pandas as pd\n",
    "import geopandas as gpd\n",
    "import matplotlib.pyplot as plt\n",
    "from folium.features import GeoJsonTooltip\n",
    "\n",
    "warnings.filterwarnings('ignore')\n",
    "\n",
    "df = pd.read_csv(\"../../data/curated/income_forecasted.csv\")\n",
    "population = pd.read_csv('../../data/curated/final_population.csv')"
   ]
  },
  {
   "cell_type": "code",
   "execution_count": 2,
   "metadata": {},
   "outputs": [],
   "source": [
    "# Remove suburbs where the counts for income are 0 for all years (nobody lives there)\n",
    "empty_suburbs = ['industrial', 'lake king', 'migratory', 'moorabbin airport',\n",
    "    'no usual address', 'offshore', 'royal botanic gardens victoria',\n",
    "    'shipping', 'wilsons promontory']\n",
    "\n",
    "df = df[~df['suburb'].isin(empty_suburbs)]\n",
    "\n",
    "# Only filter out columns we want\n",
    "df = df[['year', 'suburb', 'hi_4000_more_tot']]\n",
    "\n",
    "# Merge with population data\n",
    "combined_df = pd.merge(df, population, left_on=['year', 'suburb'], right_on=['year', 'sa2_name'])\n",
    "combined_df = combined_df.drop('sa2_name', axis = 1)\n",
    "\n",
    "# Take the proportion of people earning more than $4000 a week per suburb in 2021\n",
    "combined_df['proportion']= combined_df['hi_4000_more_tot'] / combined_df['erp']\n",
    "combined_2021 = combined_df[combined_df['year'] == 2021]\n",
    "\n",
    "# Sort by descending order\n",
    "combined_2021 = combined_2021.sort_values(by='proportion', ascending=False)\n",
    "\n",
    "top_10_richest = combined_2021.head(10)"
   ]
  },
  {
   "cell_type": "code",
   "execution_count": null,
   "metadata": {},
   "outputs": [],
   "source": [
    "plot_directory = '../../plots/income_visualisations'\n",
    "\n",
    "if not os.path.exists(plot_directory):\n",
    "    os.makedirs(plot_directory)"
   ]
  },
  {
   "attachments": {},
   "cell_type": "markdown",
   "metadata": {},
   "source": [
    "## Bar Plot"
   ]
  },
  {
   "cell_type": "code",
   "execution_count": 4,
   "metadata": {},
   "outputs": [
    {
     "data": {
      "image/png": "[encoded data removed]",
      "text/plain": [
       "<Figure size 500x500 with 1 Axes>"
      ]
     },
     "metadata": {},
     "output_type": "display_data"
    }
   ],
   "source": [
    "plt.figure(figsize=(5, 5))\n",
    "\n",
    "plt.barh(top_10_richest['suburb'], top_10_richest['proportion'], color = 'darkseagreen')\n",
    "\n",
    "# Add titles and labels\n",
    "plt.title('Top 10 Richest Suburbs in 2021')\n",
    "plt.xlabel('Proportion')\n",
    "plt.ylabel('Suburb')\n",
    "\n",
    "# Invert the y-axis so the highest population is at the top\n",
    "plt.gca().invert_yaxis()\n",
    "\n",
    "# Display the bar chart\n",
    "plt.tight_layout()\n",
    "plt.savefig(\"../../plots/income_visualisations/2021_richest_suburbs.png\")\n",
    "plt.show()"
   ]
  },
  {
   "attachments": {},
   "cell_type": "markdown",
   "metadata": {},
   "source": [
    "## Maps"
   ]
  },
  {
   "cell_type": "code",
   "execution_count": 6,
   "metadata": {},
   "outputs": [],
   "source": [
    "vic_suburbs_gdf = gpd.read_file('../../data/map/VIC Localities Shape File/gda2020_vicgrid/esrishape/whole_of_dataset/victoria/VMADMIN/LOCALITY_POLYGON.shp')\n",
    "vic_suburbs_gdf = vic_suburbs_gdf.to_crs(epsg=4326)\n",
    "vic_suburbs_gdf['suburb'] = vic_suburbs_gdf['GAZLOC'].str.lower()\n",
    "\n",
    "merged = vic_suburbs_gdf.merge(combined_2021, on='suburb')\n",
    "\n",
    "merged = merged.drop(columns=['PFI_CR', 'UFI_OLD', 'UFI_CR'], errors='ignore')"
   ]
  },
  {
   "cell_type": "code",
   "execution_count": 7,
   "metadata": {},
   "outputs": [],
   "source": [
    "m = folium.Map(location=[-37.8136, 144.9631], zoom_start=10, tiles=\"cartodb positron\")\n",
    "\n",
    "# Add the choropleth map for population with a better color scheme and highlight on hover\n",
    "choropleth = folium.Choropleth(\n",
    "    geo_data=merged.__geo_interface__,    # Geopandas dataframe in GeoJSON format\n",
    "    data=merged,                          \n",
    "    columns=['suburb', 'proportion'],     \n",
    "    key_on='feature.properties.suburb',        # Suburb name from GeoDataFrame \n",
    "    fill_color='RdYlGn',                       # Adjusted color scheme for better visual contrast\n",
    "    fill_opacity=0.7,                          # Transparency of the color\n",
    "    line_opacity=0.2,                          # Transparency of the borders\n",
    "    highlight=True,                            # Enable highlighting when hovered\n",
    "    legend_name=f'Proportion of Households Earning > $4000/Week' # Legend for the map\n",
    ").add_to(m)\n",
    "\n",
    "# Add tooltips to display suburb and population on hover\n",
    "tooltip = GeoJsonTooltip(\n",
    "    fields=['suburb', 'proportion'],\n",
    "    aliases=['Suburb:', 'Proportion:'],\n",
    "    localize=True,\n",
    "    sticky=False,\n",
    "    labels=True,\n",
    "    style=\"\"\"\n",
    "        background-color: #F0EFEF;\n",
    "        border: 1px solid black;\n",
    "        border-radius: 3px;\n",
    "        box-shadow: 3px;\n",
    "    \"\"\"\n",
    ")\n",
    "\n",
    "# Apply the tooltip to the GeoJson layer\n",
    "folium.GeoJson(\n",
    "    merged.__geo_interface__,\n",
    "    style_function=lambda feature: {\n",
    "        'fillColor': 'transparent',\n",
    "        'color': 'transparent',\n",
    "        'weight': 0\n",
    "    },\n",
    "    tooltip=tooltip\n",
    ").add_to(m)\n",
    "\n",
    "# Add interactive elements like LayerControl\n",
    "folium.LayerControl().add_to(m)\n",
    "\n",
    "m.save('../../plots/income_visualisations/richest_suburbs.html')\n",
    "\n",
    "#m"
   ]
  }
 ],
 "metadata": {
  "kernelspec": {
   "display_name": "Python 3",
   "language": "python",
   "name": "python3"
  },
  "language_info": {
   "codemirror_mode": {
    "name": "ipython",
    "version": 3
   },
   "file_extension": ".py",
   "mimetype": "text/x-python",
   "name": "python",
   "nbconvert_exporter": "python",
   "pygments_lexer": "ipython3",
   "version": "3.11.7"
  }
 },
 "nbformat": 4,
 "nbformat_minor": 2
}
