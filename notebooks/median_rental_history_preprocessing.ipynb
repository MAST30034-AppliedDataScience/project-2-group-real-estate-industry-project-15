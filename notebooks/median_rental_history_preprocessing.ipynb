{
 "cells": [
  {
   "cell_type": "code",
   "execution_count": 2,
   "metadata": {},
   "outputs": [],
   "source": [
    "import pandas as pd\n",
    "\n",
    "# Flats\n",
    "one_bed_flat = pd.read_csv('../data/landing/rent_history_1 bedroom flat.csv')\n",
    "two_bed_flat = pd.read_csv('../data/landing/rent_history_2 bedroom flat.csv')\n",
    "three_bed_flat = pd.read_csv('../data/landing/rent_history_3 bedroom flat.csv')\n",
    "\n",
    "# Houses\n",
    "two_bed_house = pd.read_csv('../data/landing/rent_history_2 bedroom house.csv')\n",
    "three_bed_house = pd.read_csv('../data/landing/rent_history_3 bedroom house.csv')\n",
    "four_bed_hosue = pd.read_csv('../data/landing/rent_history_4 bedroom house.csv')\n",
    "\n",
    "# All properties\n",
    "all_properties = pd.read_csv('../data/landing/rent_history_All properties.csv')"
   ]
  },
  {
   "cell_type": "code",
   "execution_count": 25,
   "metadata": {},
   "outputs": [],
   "source": [
    "def format_df(df):\n",
    "    '''\n",
    "        A function that preprocesses the dataframes, particularly its columns to the desired format.\n",
    "        The df, originally from a xlsx file, had mismatched columns. \n",
    "    '''\n",
    "    # Drop the first column (unimportant)\n",
    "    df = df.drop(columns=df.columns[0])\n",
    "\n",
    "    # Shift all entries in the first row to the right\n",
    "    df.iloc[0, 1:] = df.iloc[0, :-1]  \n",
    "    df.iloc[0, 0] = '' \n",
    "\n",
    "    # Get rid of columns that are 'Count' (irrelevant for analysis)\n",
    "    df = df.loc[:, ~df.iloc[1].str.contains('Count', na=False)]\n",
    "\n",
    "    # Rename columns by combining first and second row\n",
    "    df.columns = [f\"{first} {second}\".strip() for first, second in zip(df.iloc[0], df.iloc[1])]\n",
    "\n",
    "    # Name first column as 'suburb'\n",
    "    df = df.rename(columns={df.columns[0]: 'suburb'})\n",
    "\n",
    "    # Standardise column names \n",
    "    df.columns = df.columns.str.lower().str.replace(' ', '_')\n",
    "\n",
    "    # Drop the first two rows as they were used for column names\n",
    "    df = df.drop(index=[0, 1])\n",
    "\n",
    "    return df\n",
    "\n",
    "# Format all the dataframes\n",
    "one_bed_flat = format_df(one_bed_flat)\n",
    "two_bed_flat = format_df(two_bed_flat)\n",
    "three_bed_flat = format_df(three_bed_flat)\n",
    "\n",
    "two_bed_house = format_df(two_bed_house)\n",
    "three_bed_house = format_df(three_bed_house)\n",
    "four_bed_house = format_df(four_bed_house)\n",
    "\n",
    "all_properties = format_df(all_properties)"
   ]
  },
  {
   "cell_type": "code",
   "execution_count": null,
   "metadata": {},
   "outputs": [],
   "source": [
    "# Save all the formatted csv's into curated/raw(?) folder\n",
    "\n",
    "'''\n",
    "# Curated\n",
    "one_bed_flat.to_csv('../data/curated/one_bed_flat_rent_history.csv')\n",
    "two_bed_flat.to_csv('../data/curated/two_bed_flat_rent_history.csv')\n",
    "three_bed_flat.to_csv('../data/curated/three_bed_flat_rent_history.csv')\n",
    "\n",
    "two_bed_house.to_csv('../data/curated/two_bed_house_rent_history.csv')\n",
    "three_bed_house.to_csv('../data/curated/three_bed_house_rent_history.csv')\n",
    "four_bed_house.to_csv('../data/curated/four_bed_house_rent_history.csv')\n",
    "\n",
    "all_properties.to_csv('../data/curated/all_properties_rent_history.csv')\n",
    "\n",
    "# Raw\n",
    "one_bed_flat.to_csv('../data/raw/one_bed_flat_rent_history.csv')\n",
    "two_bed_flat.to_csv('../data/raw/two_bed_flat_rent_history.csv')\n",
    "three_bed_flat.to_csv('../data/raw/three_bed_flat_rent_history.csv')\n",
    "\n",
    "two_bed_house.to_csv('../data/raw/two_bed_house_rent_history.csv')\n",
    "three_bed_house.to_csv('../data/raw/three_bed_house_rent_history.csv')\n",
    "four_bed_house.to_csv('../data/raw/four_bed_house_rent_history.csv')\n",
    "\n",
    "all_properties.to_csv('../data/raw/all_properties_rent_history.csv')\n",
    "'''"
   ]
  },
  {
   "cell_type": "code",
   "execution_count": null,
   "metadata": {},
   "outputs": [],
   "source": []
  }
 ],
 "metadata": {
  "kernelspec": {
   "display_name": "base",
   "language": "python",
   "name": "python3"
  },
  "language_info": {
   "codemirror_mode": {
    "name": "ipython",
    "version": 3
   },
   "file_extension": ".py",
   "mimetype": "text/x-python",
   "name": "python",
   "nbconvert_exporter": "python",
   "pygments_lexer": "ipython3",
   "version": "3.11.7"
  },
  "orig_nbformat": 4
 },
 "nbformat": 4,
 "nbformat_minor": 2
}
