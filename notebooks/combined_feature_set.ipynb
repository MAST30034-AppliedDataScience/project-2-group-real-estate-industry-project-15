{
 "cells": [
  {
   "cell_type": "markdown",
   "metadata": {},
   "source": [
    "### Import Libraries and Data"
   ]
  },
  {
   "cell_type": "code",
   "execution_count": 49,
   "metadata": {},
   "outputs": [],
   "source": [
    "import pandas as pd\n",
    "import os"
   ]
  },
  {
   "cell_type": "code",
   "execution_count": 50,
   "metadata": {},
   "outputs": [],
   "source": [
    "# Rental History Data\n",
    "one_bed_flat = pd.read_csv('../data/raw/rental_history/one_bed_flat.csv')\n",
    "two_bed_flat = pd.read_csv('../data/raw/rental_history/two_bed_flat.csv')\n",
    "three_bed_flat = pd.read_csv('../data/raw/rental_history/three_bed_flat.csv')\n",
    "two_bed_house = pd.read_csv('../data/raw/rental_history/two_bed_house.csv')\n",
    "three_bed_house = pd.read_csv('../data/raw/rental_history/three_bed_house.csv')\n",
    "four_bed_house = pd.read_csv('../data/raw/rental_history/four_bed_house.csv')\n",
    "all_properties = pd.read_csv('../data/raw/rental_history/all_properties.csv')\n",
    "\n",
    "# Domain Rental Data\n",
    "domain_one_bed_flat = pd.read_csv('../data/curated/domain_one_bed_flat_rent.csv')\n",
    "domain_two_bed_flat = pd.read_csv('../data/curated/domain_two_bed_flat_rent.csv')\n",
    "domain_three_bed_flat = pd.read_csv('../data/curated/domain_three_bed_flat_rent.csv')\n",
    "domain_two_bed_house = pd.read_csv('../data/curated/domain_two_bed_house_rent.csv')\n",
    "domain_three_bed_house = pd.read_csv('../data/curated/domain_three_bed_house_rent.csv')\n",
    "domain_four_bed_house = pd.read_csv('../data/curated/domain_four_bed_house.csv')\n",
    "domain_all_properties = pd.read_csv('../data/curated/domain_all_properties_rent.csv')\n",
    "\n",
    "# Other engineered feature sets \n",
    "crimes = pd.read_csv('../data/curated/crimes.csv')\n",
    "demographics = pd.read_csv('../data/curated/demographics.csv')\n",
    "education = pd.read_csv('../data/curated/education_df.csv')\n",
    "urban_landmarks = pd.read_csv('../data/raw/urban_landmarks_features.csv')"
   ]
  },
  {
   "cell_type": "markdown",
   "metadata": {},
   "source": [
    "### Combining All Feature Sets"
   ]
  },
  {
   "cell_type": "code",
   "execution_count": 51,
   "metadata": {},
   "outputs": [],
   "source": [
    "# Merge one_bed_flat\n",
    "one_bed_merged = pd.merge(one_bed_flat, domain_one_bed_flat, on='suburb', how='inner')\n",
    "one_bed_merged = pd.merge(one_bed_merged, crimes, on='suburb', how='inner')\n",
    "one_bed_merged = pd.merge(one_bed_merged, demographics, left_on='suburb', right_on='sa2_name', how='inner')\n",
    "one_bed_merged = pd.merge(one_bed_merged, education, on='suburb', how='inner')\n",
    "one_bed_merged = pd.merge(one_bed_merged, urban_landmarks, left_on='suburb', right_on='gazetted_locality', how='inner')\n",
    "\n",
    "# Merge two_bed_flat\n",
    "two_bed_merged = pd.merge(two_bed_flat, domain_two_bed_flat, on='suburb', how='inner')\n",
    "two_bed_merged = pd.merge(two_bed_merged, crimes, on='suburb', how='inner')\n",
    "two_bed_merged = pd.merge(two_bed_merged, demographics, left_on='suburb', right_on='sa2_name', how='inner')\n",
    "two_bed_merged = pd.merge(two_bed_merged, education, on='suburb', how='inner')\n",
    "two_bed_merged = pd.merge(two_bed_merged, urban_landmarks, left_on='suburb', right_on='gazetted_locality', how='inner')\n",
    "\n",
    "# Merge three_bed_flat\n",
    "three_bed_merged = pd.merge(three_bed_flat, domain_three_bed_flat, on='suburb', how='inner')\n",
    "three_bed_merged = pd.merge(three_bed_merged, crimes, on='suburb', how='inner')\n",
    "three_bed_merged = pd.merge(three_bed_merged, demographics, left_on='suburb', right_on='sa2_name', how='inner')\n",
    "three_bed_merged = pd.merge(three_bed_merged, education, on='suburb', how='inner')\n",
    "three_bed_merged = pd.merge(three_bed_merged, urban_landmarks, left_on='suburb', right_on='gazetted_locality', how='inner')\n",
    "\n",
    "# Merge two_bed_house\n",
    "two_bed_house_merged = pd.merge(two_bed_house, domain_two_bed_house, on='suburb', how='inner')\n",
    "two_bed_house_merged = pd.merge(two_bed_house_merged, crimes, on='suburb', how='inner')\n",
    "two_bed_house_merged = pd.merge(two_bed_house_merged, demographics, left_on='suburb', right_on='sa2_name', how='inner')\n",
    "two_bed_house_merged = pd.merge(two_bed_house_merged, education, on='suburb', how='inner')\n",
    "two_bed_house_merged = pd.merge(two_bed_house_merged, urban_landmarks, left_on='suburb', right_on='gazetted_locality', how='inner')\n",
    "\n",
    "# Merge three_bed_house\n",
    "three_bed_house_merged = pd.merge(three_bed_house, domain_three_bed_house, on='suburb', how='inner')\n",
    "three_bed_house_merged = pd.merge(three_bed_house_merged, crimes, on='suburb', how='inner')\n",
    "three_bed_house_merged = pd.merge(three_bed_house_merged, demographics, left_on='suburb', right_on='sa2_name', how='inner')\n",
    "three_bed_house_merged = pd.merge(three_bed_house_merged, education, on='suburb', how='inner')\n",
    "three_bed_house_merged = pd.merge(three_bed_house_merged, urban_landmarks, left_on='suburb', right_on='gazetted_locality', how='inner')\n",
    "\n",
    "# Merge four_bed_house\n",
    "four_bed_house_merged = pd.merge(four_bed_house, domain_four_bed_house, on='suburb', how='inner')\n",
    "four_bed_house_merged = pd.merge(four_bed_house_merged, crimes, on='suburb', how='inner')\n",
    "four_bed_house_merged = pd.merge(four_bed_house_merged, demographics, left_on='suburb', right_on='sa2_name', how='inner')\n",
    "four_bed_house_merged = pd.merge(four_bed_house_merged, education, on='suburb', how='inner')\n",
    "four_bed_house_merged = pd.merge(four_bed_house_merged, urban_landmarks, left_on='suburb', right_on='gazetted_locality', how='inner')\n",
    "\n",
    "# Merge all_properties\n",
    "all_properties_merged = pd.merge(all_properties, domain_all_properties, on='suburb', how='inner')\n",
    "all_properties_merged = pd.merge(all_properties_merged, crimes, on='suburb', how='inner')\n",
    "all_properties_merged = pd.merge(all_properties_merged, demographics, left_on='suburb', right_on='sa2_name', how='inner')\n",
    "all_properties_merged = pd.merge(all_properties_merged, education, on='suburb', how='inner')\n",
    "all_properties_merged = pd.merge(all_properties_merged, urban_landmarks, left_on='suburb', right_on='gazetted_locality', how='inner')\n"
   ]
  },
  {
   "cell_type": "code",
   "execution_count": 52,
   "metadata": {},
   "outputs": [],
   "source": [
    "# Drop all other suburb column names. Only keep the first suburb column \n",
    "def clean_merged_df(df):\n",
    "    \n",
    "    df = df.loc[:, ~df.columns.str.contains('Unnamed')]  # removes the duplicate 'suburb' column\n",
    "    columns_to_drop = ['sa2_name', 'gazetted_locality']\n",
    "    df = df.drop(columns=[col for col in columns_to_drop if col in df.columns])\n",
    "\n",
    "    return df\n",
    "\n",
    "# Clean the column names\n",
    "one_bed_merged = clean_merged_df(one_bed_merged)\n",
    "two_bed_merged = clean_merged_df(two_bed_merged)\n",
    "three_bed_merged = clean_merged_df(three_bed_merged)\n",
    "two_bed_house_merged = clean_merged_df(two_bed_house_merged,)\n",
    "three_bed_house_merged = clean_merged_df(three_bed_house_merged)\n",
    "four_bed_house_merged = clean_merged_df(four_bed_house_merged)\n",
    "all_properties_merged = clean_merged_df(all_properties_merged)"
   ]
  },
  {
   "cell_type": "code",
   "execution_count": 54,
   "metadata": {},
   "outputs": [
    {
     "name": "stdout",
     "output_type": "stream",
     "text": [
      "['suburb', 'mar_2016_count', 'mar_2016_median', 'jun_2016_count', 'jun_2016_median', 'sep_2016_count', 'sep_2016_median', 'dec_2016_count', 'dec_2016_median', 'mar_2017_count', 'mar_2017_median', 'jun_2017_count', 'jun_2017_median', 'sep_2017_count', 'sep_2017_median', 'dec_2017_count', 'dec_2017_median', 'mar_2018_count', 'mar_2018_median', 'jun_2018_count', 'jun_2018_median', 'sep_2018_count', 'sep_2018_median', 'dec_2018_count', 'dec_2018_median', 'mar_2019_count', 'mar_2019_median', 'jun_2019_count', 'jun_2019_median', 'sep_2019_count', 'sep_2019_median', 'dec_2019_count', 'dec_2019_median', 'mar_2020_count', 'mar_2020_median', 'jun_2020_count', 'jun_2020_median', 'sep_2020_count', 'sep_2020_median', 'dec_2020_count', 'dec_2020_median', 'mar_2021_count', 'mar_2021_median', 'jun_2021_count', 'jun_2021_median', 'sep_2021_count', 'sep_2021_median', 'dec_2021_count', 'dec_2021_median', 'mar_2022_count', 'mar_2022_median', 'jun_2022_count', 'jun_2022_median', 'sep_2022_count', 'sep_2022_median', 'dec_2022_count', 'dec_2022_median', 'mar_2023_count', 'mar_2023_median', 'jun_2023_count', 'jun_2023_median', 'sep_2023_count', 'sep_2023_median', 'dec_2023_count', 'dec_2023_median', 'mar_2024_count', 'mar_2024_median', 'median_rent', 'median_bath', 'median_parkings', 'furnished_count', 'unfurnished_count', 'pets_allowed', 'pets_not_allowed', 'num_properties', 'year', 'offence_division', 'total_offence_count', 'prev_year_offence_count', 'difference_change', 'erp_june_2022_count', 'erp_june_2023_count', 'erp_change_count', 'erp_change_percentage', 'natural_increase_count', 'net_internal_migration_count', 'net_overseas_migration_count', 'area_km2', 'pop_density_persons_km2', 'gov_age_pension_count_2023', 'gov_rent_assist_count_2023', 'personal_income_count_2020', 'personal_income_median_age_2020', 'personal_total_income_millions_2020', 'median_personal_total_income_2020', 'mean_personal_total_income_2020', 'gini_coef_2020', 'primary_school_count', 'highschool_count', 'tertiary_institutions_count', 'average_highschool_rank', 'median_highschool_rank', 'average_primary_school_rank', 'median_primary_school_rank', 'average_school_rank', 'median_school_rank', 'total_education_count', 'suburb_education_rank', 'suburb_median_school_rank', 'commercial_areas', 'farmland', 'forest', 'industrial_areas', 'nature_reserve', 'park', 'residential_areas', 'retail_areas', 'landuse_mode', 'cycleway', 'main_roads', 'motorway', 'residential_roads', 'track', 'walking_paths', 'roads_mode', 'beach', 'cliff', 'peak', 'spring', 'nature_mode', 'accommodation', 'culture_and_leisure', 'financial_institutions', 'food_and_beverage', 'healthcare', 'public_facilities', 'shopping_and_retail', 'tourism_and_attractions', 'pois_mode', 'pofw count', 'pofw mode', 'distance_to_fire_station', 'distance_to_hospital', 'distance_to_hotel', 'distance_to_kindergarten', 'distance_to_library', 'distance_to_mall', 'distance_to_park', 'distance_to_police', 'distance_to_restaurant', 'distance_to_supermarket']\n"
     ]
    },
    {
     "data": {
      "text/plain": [
       "(11100, 151)"
      ]
     },
     "execution_count": 54,
     "metadata": {},
     "output_type": "execute_result"
    }
   ],
   "source": [
    "print(list(all_properties_merged.columns))\n",
    "all_properties_merged.shape"
   ]
  },
  {
   "cell_type": "markdown",
   "metadata": {},
   "source": [
    "### Save Combined Feature Set"
   ]
  },
  {
   "cell_type": "code",
   "execution_count": 44,
   "metadata": {},
   "outputs": [
    {
     "name": "stdout",
     "output_type": "stream",
     "text": [
      "All Saved!\n"
     ]
    }
   ],
   "source": [
    "def save_feature_set(df, file_path):\n",
    "     # Retrieve the directory \n",
    "    directory = os.path.dirname(file_path)\n",
    "    \n",
    "    # Create the directory if it does not exist\n",
    "    if not os.path.exists(directory):\n",
    "        os.makedirs(directory)\n",
    "\n",
    "    # Save the filtered dataframe to CSV\n",
    "    df.to_csv(file_path, index=False)\n",
    "\n",
    "print(\"All Saved!\")\n",
    "\n",
    "# Save all dataframes in the raw folder\n",
    "one_bed_merged = save_feature_set(one_bed_merged, '../data/curated/combined_feature_set/one_bed_merged.csv')\n",
    "two_bed_merged = save_feature_set(two_bed_merged, '../data/curated/combined_feature_set/two_bed_merged.csv')\n",
    "three_bed_merged = save_feature_set(three_bed_merged, '../data/curated/combined_feature_set/three_bed_merged.csv')\n",
    "\n",
    "two_bed_house_merged = save_feature_set(two_bed_house_merged, '../data/curated/combined_feature_set/two_bed_house_merged.csv')\n",
    "three_bed_house_merged = save_feature_set(three_bed_house_merged, '../data/curated/combined_feature_set/three_bed_house_merged.csv')\n",
    "four_bed_house_merged = save_feature_set(four_bed_house_merged, '../data/curated/combined_feature_set/four_bed_house_merged.csv')\n",
    "\n",
    "all_properties_merged = save_feature_set(all_properties_merged, '../data/curated/combined_feature_set/all_properties_merged.csv')"
   ]
  }
 ],
 "metadata": {
  "kernelspec": {
   "display_name": ".venv",
   "language": "python",
   "name": "python3"
  },
  "language_info": {
   "codemirror_mode": {
    "name": "ipython",
    "version": 3
   },
   "file_extension": ".py",
   "mimetype": "text/x-python",
   "name": "python",
   "nbconvert_exporter": "python",
   "pygments_lexer": "ipython3",
   "version": "3.12.6"
  }
 },
 "nbformat": 4,
 "nbformat_minor": 2
}
