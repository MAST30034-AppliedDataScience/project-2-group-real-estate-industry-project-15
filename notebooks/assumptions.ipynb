{
 "cells": [
  {
   "cell_type": "markdown",
   "metadata": {},
   "source": [
    "# Assumptions & Approach - Group 15"
   ]
  },
  {
   "cell_type": "markdown",
   "metadata": {},
   "source": [
    "## Approach\n",
    "\n",
    "The main goal of our project was to forecast the rental prices across Victoria for the next 3 years. Our approach was designed to meet the needs of our primary stakeholders, which included potential renters, real estate investors, property managers, and urban planners. We believe, each of these groups have significant interest in the accurate predictions of the rental prices to inform decision-making about livelihood, investment, development, and urban infrastructure planning. With these in mind, we decided to take the following steps to ensure that our modelling answered their specific concerns."
   ]
  },
  {
   "cell_type": "markdown",
   "metadata": {},
   "source": [
    "1. **Data Collections and Processing:**\n",
    "\n",
    "    We sourced data from multiple platforms that we thought were essential in deciding features that could possibly affect the rental price of a property.\n",
    "    \n",
    "    * **Rental Property Data from Domain:**\n",
    "    We scraped [domain.com.au](https://www.domain.com.au) and this provided us with the current information on property availablity, pricing, and other listing features, which are of particular interest to renters, property managers, and investors.\n",
    "    \n",
    "    * **Historical Median Rent Pricing:**\n",
    "    We accessed this data from from the [Department of Families, Fairness, and Housing](https://www.dffh.vic.gov.au/) and this provided us with the historical data on rent prices for the different suburbs which we were unable to access from Domain. This was ideal for us to forecast the rental prices as we can use this data to understand the long-term trends.\n",
    "\n",
    "    * **Crime Data:**\n",
    "    Crime severity and crime rates were factored in, as safety is a critical concern. This data was obtained from the [Crime Statistics Agency](https://www.crimestatistics.vic.gov.au/).\n",
    "\n",
    "    * **Population and Income data for Demographics:**\n",
    "    The population and income data was taken from the 2016 and 2021 Census as we wanted to account for population growth, projections, affordability, and rental demand which are essential in determining future market conditions.\n",
    "\n",
    "    * **Urban Landmarks and Public Transport:**\n",
    "    Using openrouteservice, we calculated distances between rental properties and public transport hubs and key urban landmarks such as shopping centers and employment hubs, which are critical in evaluating the desirability of rental properties for future tenants. This data was obtained from OpenStreetMap.\n",
    "\n",
    "    * **Schools and Education:**\n",
    "    The proximity to educational institutions was factored in, along with rankings for schools, as rental demand from students and families wanting to be near a good school is a significant factor for stakeholders.\n",
    "\n",
    "\n",
    "2. **Data Imputation and Forecasting:**\n",
    "\n",
    "    Some datasets lacked future projections, like the population, income, and crime. We thought it would be ideal to extrapolate these values for the future so that we can suppose it for a better fit of the model we want to build. We implemented statistical forecasting techniques to project these values, enabling stakeholders to anticipate changes that may influence rental trends.\n",
    "\n",
    "\n",
    "3. **Feature Engineering:**\n",
    "\n",
    "    Feature engineering was a crucial step in preparing the data for modeling and ensuring that key stakeholder priorities were reflected. For example, real estate investors and property managers are highly interested in proximity to public transport and crime rates, as these factors significantly influence rental demand. Population growth and income data were engineered to capture the economic conditions most relevant to urban planners and local government.\n",
    "\n",
    "\n",
    "4. **Model Fitting:**\n",
    "\n"
   ]
  },
  {
   "cell_type": "markdown",
   "metadata": {},
   "source": [
    "## Assumptions\n",
    "\n",
    "The following are the assumptions we made for our project:"
   ]
  },
  {
   "cell_type": "markdown",
   "metadata": {},
   "source": []
  },
  {
   "cell_type": "markdown",
   "metadata": {},
   "source": [
    "## Limitations"
   ]
  },
  {
   "cell_type": "markdown",
   "metadata": {},
   "source": []
  }
 ],
 "metadata": {
  "language_info": {
   "name": "python"
  }
 },
 "nbformat": 4,
 "nbformat_minor": 2
}
