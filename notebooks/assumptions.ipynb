{
 "cells": [
  {
   "cell_type": "markdown",
   "metadata": {},
   "source": [
    "# Assumptions & Approach - Group 15"
   ]
  },
  {
   "cell_type": "markdown",
   "metadata": {},
   "source": [
    "---"
   ]
  },
  {
   "attachments": {},
   "cell_type": "markdown",
   "metadata": {},
   "source": [
    "## Approach\n",
    "\n",
    "The main goal of our project was to forecast the rental prices across Victoria for the next 3 years. Our approach was tailored to meet the needs of our primary stakeholders, which included potential renters, real estate investors, property managers, and urban planners. We recognized that these groups have significant interest in the predictions of rental prices in order to support informed decision-making related to livelihood, investment, development, and urban infrastructure planning. With these in mind, we took deliberate steps to ensure that our modelling addressed their specific concerns."
   ]
  },
  {
   "attachments": {},
   "cell_type": "markdown",
   "metadata": {},
   "source": [
    "1. **Data Collection and Processing:**\n",
    "\n",
    "    We sourced data from multiple platforms that were essential in deciding features that could possibly affect the rental price of a property.\n",
    "    \n",
    "    * **Rental Property Data from Domain:**\n",
    "    We scraped data from the [domain.com.au](https://www.domain.com.au) website. This provided us with information on properties that are currently available in the market, including their availablity, pricing, and other features, which are of particular interest to renters, property managers, and investors.\n",
    "    \n",
    "    * **Historical Median Rent Pricing:**\n",
    "    We accessed this data from from the [Department of Families, Fairness, and Housing](https://www.dffh.vic.gov.au/), which provided us with the historical data on median rent prices for different suburbs, which we were unable to access from Domain. This was essential for forecasting rental prices as we can use this data to understand its long-term trends.\n",
    "\n",
    "    * **Crime Data:**\n",
    "    Crime severity and crime rates were factored in, as safety is a critical concern for both renters and property managers alike. This data was obtained from the [Crime Statistics Agency](https://www.crimestatistics.vic.gov.au/).\n",
    "\n",
    "    * **Population and Income Data for Demographics:**\n",
    "    Population and income data was taken from the 2016 and 2021 Census as we wanted to account for the population growth, affordability, and rental demand across different suburbs, which are essential in determining future rental conditions. The data was taken from AURIN for income & [ABS](https://www.abs.gov.au/census/find-census-data/datapacks) for population.\n",
    "\n",
    "    * **Urban Landmarks and Public Transport:**\n",
    "    Using [OpenRouteService](https://openrouteservice.org/dev/#/home), we calculated the distances between suburb centers and public transport hubs, as well as the distance to Melbourne CBD. We also took key urban landmarks such as shopping centers and access to public facilities like hospitals and police stations. These factors are crucial for assessing the desirability of rental properties for future tenants. Data for the landmarks and public transport options were sourced from [OpenStreetMap](https://www.openstreetmap.org/).\n",
    "\n",
    "    * **Schools and Education:**\n",
    "    The proximity and rankings for educational institutions were considered, as rental demand from students and families wanting to live near a well-regarded school is a significant factor for stakeholders. School data was sourced from Data Victoria and University/TAFE data was sourced from Uni Reviews. \n",
    "\n",
    "<br>\n",
    "\n",
    "2. **Data Imputation and Forecasting:**\n",
    "\n",
    "    Some suburbs lacked median rental prices for some of the quarters in each year, hence we imputed those NaN values with the median rental price for the entire suburb in that corresponding year. \n",
    "\n",
    "    Some datasets such as population, income and crime rates lacked future projection. As a result, we thought it would be ideal to extrapolate these values and utilise them for our model. We implemented statistical forecasting techniques such as ARIMA, exponential smoothing, linear interpolation and linear regression to project these values. This enables our stakeholders to anticipate changes that may influence rental trends.\n",
    "\n",
    "<br>\n",
    "\n",
    "3. **Feature Engineering:**\n",
    "\n",
    "    Feature engineering was a crucial step in preparing the data for modelling and ensuring that key stakeholder priorities were reflected. For example, real estate investors and property managers are highly interested in a property's proximity to public transport as well as crime rates, as these factors significantly influence rental demand. \n",
    "    \n",
    "    **Urban Landmarks**\n",
    "    - We created features to store the counts of each considered urban landmark present in each suburb. \n",
    "    - We also found the mode feature for each category. For example, in places of worship (category) the mode feature for many suburbs were 'Churches'.\n",
    "\n",
    "<br>\n",
    "\n",
    "4. **Model Fitting:**\n",
    "\n",
    "   After trialling several models such as XGBoost, lasso regression and linear regression, we found that the random forest model performed the best in terms of our evaluation results (RMSE, MAE & $R^2$). \n",
    "\n",
    "   Please note that each unique property type underwent its own separate feature selection and model development process. As a result, a distinct random forest model was developed for each property type.\n",
    "   \n",
    "   Before training the random forest model, we applied recursive feature elimination (RFE) with a random forest estimator for feature selection. The model was initially trained on data from 2016 to 2021. We then performed hyperparameter tuning using cross-validation on the selected feature set, with the scoring metric set to `neg_mean_squared_error`, and using data from 2022 to 2024. After identifying the optimal random forest model, we retrained it on the combined training and validation sets (2016-2024). Finally, the model was used to predict median rental prices for the years 2025 to 2027.\n",
    "\n",
    "   All predictions for each property type and each year were saved into the `/data/curated/predictions` directory. We also saved the mean absolute error for each property type into the same directory in a file called 'mae.csv'\n",
    "\n",
    "<br>\n",
    "\n",
    "5. **Predicted Median Rental Price Analysis:**\n",
    "\n",
    "    In the `analysis_rental_preictions.ipynb` notebook, one can view our growth rate predictions and Rent Vision Pro tool. \n",
    "\n",
    "    The growth rate predictions were calculated using the following formula: \n",
    "\n",
    "    $\n",
    "    \\text{growth\\_rate} = \\frac{\\text{2027 December Median Rental Price} - \\text{2024 March Median Rental Price}}{\\text{2024 March Median Rental Price}} \\times 100\n",
    "   $\n",
    "\n",
    "    Our Rent Vision Pro tool also allows clients to manually specify which suburb and which property type they would like to view the past (2022-2024) and forecasted (2025-2027) median rental prices for. Two graphical visualisations are then presented for the suburb, one showing the median rental prices for flats and the other for houses. \n",
    "\n"
   ]
  },
  {
   "cell_type": "markdown",
   "metadata": {},
   "source": [
    "----"
   ]
  },
  {
   "attachments": {},
   "cell_type": "markdown",
   "metadata": {},
   "source": [
    "## Assumptions\n",
    "\n",
    "### General Assumption\n",
    "- Internal features of all the rental properties (number of baths, number of parkings etc.) advertised in Victoria were scraped from the domain.com website. We then calculated the median number of each internal feature for each suburb. These median features were then generalised to be the median internal features for each suburb irrespective of the year. \n",
    "\n",
    "- From domain.com, we scraped all the rental properties advertised in Victoria during the first week of September 2024. Since there were some missing data in the rental history dataset from the Department of Families, Fairness and Housing, specifically in the September 2024 column, we used our scraped data to calculate and impute the median rental price for September for each suburb. We assumed that this would be reflective of the median rental price for that quarter. \n",
    "\n",
    "- SA2 levels were assumed to be equal to suburb names. This was a generalisation we made to avoid issues with inconsistent data reporting across regions and to streamline the analysis. However, we do acknowledge that SA2 boundaries may encompass multiple suburbs and may not perfectly align with the suburb names."
   ]
  },
  {
   "cell_type": "markdown",
   "metadata": {},
   "source": [
    "### Median Rental History\n",
    "\n",
    "1. For some rows, the suburb listed consisted of multiple suburbs so we decided to split it into different rows and copied over the values for the median pricing history - assuming that the median was the same over those multiple suburbs.\n",
    "\n",
    "2. As mentioned previously, there were some missing data in the median rental history dataset, specifically for september 2024, so we used our scraped domain data to calculate and impute the median rental price for september."
   ]
  },
  {
   "cell_type": "markdown",
   "metadata": {},
   "source": [
    "### Education\n",
    "\n",
    "1. School density representing education quality: we assume that a higher density of education institutions (primary, secondary and tertiary institutions) indicate with better educational opportunities, regardless of the actual quality or performance of those institutions.\n",
    "\n",
    "2. Relatively static analysis over time: our analysis is based on data from 2023, making the assumption that the educational landscape remains mostly stable. We presume that key factors such as funding, policies, and infrastructure development will not experience significant changes during the analysis period. \n",
    "\n",
    "3. Influence of non-academic factors: it is assumed that residents of the suburb have full access to schools within that suburb. That is, external factors such as catchment zones and private versus public school policies are not taken into consideration."
   ]
  },
  {
   "attachments": {},
   "cell_type": "markdown",
   "metadata": {},
   "source": [
    "### Domain Data\n",
    "\n",
    "1. We considered all properties in terms of weekly rent.*\n",
    "\n",
    "2. We assumed that the minimum monthly rent should be $500, everything below that is most likely to be car spaces or storage options. \n",
    "\n",
    "3. We assumed the maximum weekly rent would be $5000 and removed those above that.*\n",
    "\n",
    "4. We determine whether or not a property is furnished by the description or the initial feature list. From the feature list we only say it's furnished if it's verified (i.e. no asterisk). This is due to the nature of the data from the domain website itself, wherein features with * are said to be unverified. \n",
    "\n",
    "\n",
    "5. We assumed that if the feature list did not specify 'Pets Allowed', then a property would not allow pets.\n",
    "\n",
    "\n",
    "6. When taking the rental price and they specify the price for both unfurnished and furnished, we always take furnished and take the higher number (basically assuming that furnished properties are always more expensive than unfurnished properties).\n",
    "\n",
    "\n",
    "7. For weekly rent that specified a range (e.g. 650 - 700 a week), we took the average of the two numbers. \n",
    "\n",
    "\n",
    "8. We also got rid of properties that rented per night as we are only considering properties that are rented for long term stays. \n",
    "\n",
    "\n",
    "9. We decided to map different property types into just 2 categories, House and Apartment.*\n",
    "\n",
    "\n",
    "10. We removed properties that do not specify rental price, and do not have any information on the number of rooms (bed and bath). We also removed properties with 0 beds or 0 baths. \n",
    "\n",
    "\n",
    "11. We removed properties that had more than 12 parking spaces (we manually inspected the properties with more than 5 parking spaces and found that most of them were still within reasonable ranges, with properties having more than 12 parking spaces to be outliers)\n",
    "\n",
    "\n",
    "12. For rental prices without dollar signs and were less than 5000, we assumed a weekly rate for the rent. As a result we removed properties that rented 'by the season'. \n",
    "\n",
    "Notes:\n",
    "1. How we converted monthly / yearly rent to weekly rent:\n",
    "    * Monthly to weekly rent: multiply by 84 and divide by 365 \n",
    "        * Monthly rent is calculated as follows : weekly rent divided by 7 (days) x 365 (days) divided by 12 (months)\n",
    "    * Yearly to weekly rent: multiply by 7 and divide by 365.\n",
    "2. Houses included these categories of properties: House, Townhouse, Villa, New House & Land, Semi-Detached, Duplex, Terrace. As for Apartments: Apartment / Unit / Flat, Studio, New Apartments / Off the Plan."
   ]
  },
  {
   "cell_type": "markdown",
   "metadata": {},
   "source": [
    "### Distances to Public Transport & CBD\n",
    "\n",
    "1. To get the distance to a public transport stop for a suburb, we took the distance from the centroid of the suburb to the nearest 3 stops and took the average - mainly due to limited API calls as mentioned in the `Limitations` section.\n",
    "\n",
    "2. For the CBD, we assumed that the point in the CBD was Flinder's street station to calculate the distance of the suburb to the CBD."
   ]
  },
  {
   "cell_type": "markdown",
   "metadata": {},
   "source": [
    "### Income\n",
    "\n",
    "We interpolated the income data between the 2016 and 2021 census data to get the data for 2017 to 2020, assuming a linear trend."
   ]
  },
  {
   "cell_type": "markdown",
   "metadata": {},
   "source": [
    "### Population\n",
    "\n",
    "We interpolated the population data between the 2016 and 2021 census data to get the data for 2017 to 2020, assuming a linear trend."
   ]
  },
  {
   "cell_type": "markdown",
   "metadata": {},
   "source": [
    "### Crime\n",
    "When calculating the crime rate the Estimated Resident Population (ERP) was used to normalise the dataset so that areas with high population are not unfairly seen as areas with higher crime rates relative to their population. The following is the formula used to calculate the crime rate per 100,000 residents.\n",
    "<br>\n",
    "\n",
    "<div align =\"center\">\n",
    "\n",
    "$\n",
    "    \\text{crime\\_rate} = \\frac{\\text{(Number of Crimes; Suburb, Crime Division)}}{\\text{(ERP; Suburb)}} \\times 100,000\n",
    "$\n",
    "\n",
    "</div>\n",
    "<br>\n",
    "\n",
    "When using this statistic we assume that the crimes committed in certain areas are all done by the residents of that area this however, is not the case within major hubs and cities. For instance the population within Melbourne CBD increases by, on average, [850,000](https://liveinmelbourne.vic.gov.au/discover/melbourne-victoria/metropolitan-melbourne/melbourne) people every day as they come in for work, shopping, school and other leisure activities. But this figure is not accounted for in our models or analysis. Looking at the ERP of Melbourne (postcode: 3000) our data shows that it has a population of 54,000 people.\n",
    "\n",
    "This statistic is more reliable outside of cities and inside suburbs or rural areas, where there is less of a population move shift daily.\n",
    "\n",
    "Furthermore when conducting extrapolation of offence count given an offence division and suburb linear regression was used, thus an assumption was made that the offences over time showed was a linear trend.  "
   ]
  },
  {
   "attachments": {},
   "cell_type": "markdown",
   "metadata": {},
   "source": [
    "### Modelling\n",
    "\n",
    "We assumed that our forecasted features of income, population and crimes for 2025-2027, are reflective on the data that we may expect in those years. Hence, we used this forecasted data to train our model and predict median rental prices for 2025-2027. "
   ]
  },
  {
   "cell_type": "markdown",
   "metadata": {},
   "source": [
    "----"
   ]
  },
  {
   "cell_type": "markdown",
   "metadata": {},
   "source": [
    "## Limitations"
   ]
  },
  {
   "attachments": {},
   "cell_type": "markdown",
   "metadata": {},
   "source": [
    "### General Limitations \n",
    "\n",
    "#### Economic Factors \n",
    "In our modeling process, certain factors were not considered, including interest rates, average mortgage repayments in different areas, land tax, council rates, and other costs that contribute to the overall cost of rent.\n",
    "\n",
    "Interest rates, for example, are influenced by multiple factors, with the primary objective being to slow inflation by discouraging borrowing. The Reserve Bank of Australia (RBA) manages interest rates by monitoring consumer spending and income trends across various sectors over time [RBA](https://www.rba.gov.au/education/resources/explainers/causes-of-inflation.html#:~:text=More%20jobs%20and%20higher%20wages,to%20an%20increase%20in%20inflation.). However, predicting interest rates over a period of three years or more is extremely challenging. Accurate forecasting would require predictions of unemployment, inflation, and economic growth [Uloan](https://www.unloan.com.au/learn/what-will-home-loan-interest-rates-look-like-in-fy25#:~:text=The%20RBA's%20official%20cash%20rate,over%20a%20number%20of%20years.). Due to these complexities, it was not feasible to incorporate interest rates as a reliable feature in our model\n",
    "\n",
    "Similarly, other costs, such as land taxes, are also difficult to predict due to their political nature. For instance, the recent introduction of land tax in Victoria further complicates attempts to include these factors in long-term models.\n",
    "\n",
    "\n",
    "#### API limitations\n",
    "In order to calculate the distances between our properties and key infrastructure we used OpenRouteServices which sets a limit on the number of routes that it calculates a distance to. **Need Help With This Part**\n",
    "\n",
    "#### Rental History Data\n",
    "One of the key limitations of our analysis was the inability to access historical rental data at the property level due to website policies restricting data scraping. This limitation significantly impacted the granularity of our data. Property-level data would have provided detailed insights into rental trends, property-specific factors, and more precise modeling of rent fluctuations. However, without this fine-grained data, we were forced to broaden the scope of our analysis to the suburb level.\n",
    "\n",
    "### Education:  \n",
    "1. Ranking criteria differences across school stages: ranking primary and secondary schools together was challenging due to the differences in their ducational objectives and outcomes. A secondary school's ranking might influence real estate more significantly due to its relevance to ATAR/VCE scores, while primary schools often lack performance-based rankings. Tertiary instituions are often highly selective and profession specific in the offered courses, making it difficult to rank them due to the diversity of the content provided. Hence, education density was used to identify top suburbs instead.\n",
    "\n",
    "2. Quality vs. Quantity dilemma: the use of \"education density\" measures the quantity of schools but fails to account for the quality of education provided by each institution. A suburb with many low-performing schools could appear more favorable than one with fewer but higher-performing schools."
   ]
  },
  {
   "cell_type": "markdown",
   "metadata": {},
   "source": [
    "### Crime:\n",
    "\n",
    "The primary limitation of the crime dataset was the lack of access to raw, granular data. Instead, the dataset provided was pre-aggregated by year, offence type, and suburb, which imposed several constraints on the analysis. Without access to individual crime records or more detailed timestamps, it was impossible to observe trends or patterns that may have occurred on a finer temporal scale, such as monthly, or even weekly fluctuations."
   ]
  }
 ],
 "metadata": {
  "kernelspec": {
   "display_name": "base",
   "language": "python",
   "name": "python3"
  },
  "language_info": {
   "codemirror_mode": {
    "name": "ipython",
    "version": 3
   },
   "file_extension": ".py",
   "mimetype": "text/x-python",
   "name": "python",
   "nbconvert_exporter": "python",
   "pygments_lexer": "ipython3",
   "version": "3.11.7"
  }
 },
 "nbformat": 4,
 "nbformat_minor": 2
}
