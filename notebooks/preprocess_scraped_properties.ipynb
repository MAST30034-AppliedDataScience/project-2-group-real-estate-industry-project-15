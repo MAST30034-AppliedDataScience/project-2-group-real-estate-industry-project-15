{
 "cells": [
  {
   "cell_type": "markdown",
   "metadata": {},
   "source": [
    "## Converting json to csv"
   ]
  },
  {
   "cell_type": "markdown",
   "metadata": {},
   "source": [
    "Note: Before running this notebook, make sure to run `rental_scrape.py` and that you have `scraped_properties.json` in the `/data/landing` directory"
   ]
  },
  {
   "cell_type": "code",
   "execution_count": 1,
   "metadata": {},
   "outputs": [],
   "source": [
    "import pandas as pd\n",
    "import json\n",
    "\n",
    "# Load the JSON file\n",
    "json_file_path = '../data/landing/scraped_properties.json'\n",
    "\n",
    "# Read JSON file\n",
    "with open(json_file_path, 'r') as f:\n",
    "    data = json.load(f)\n",
    "\n",
    "# Convert the JSON data into a flat structure (list of dictionaries)\n",
    "flattened_data = []\n",
    "for url, details in data.items():\n",
    "    # Create a new dictionary for each property, combining the URL and details\n",
    "    property_info = {\"url\": url}\n",
    "    property_info.update(details)\n",
    "    flattened_data.append(property_info)\n",
    "\n",
    "# Convert the flattened data into a DataFrame\n",
    "df = pd.DataFrame(flattened_data)\n",
    "\n",
    "# Specify the output CSV file path\n",
    "output_path = '../data/landing/scraped_properties.csv'\n",
    "\n",
    "# Save the DataFrame to a CSV file\n",
    "df.to_csv(output_path, index=False)"
   ]
  },
  {
   "attachments": {},
   "cell_type": "markdown",
   "metadata": {},
   "source": [
    "## Helpers"
   ]
  },
  {
   "cell_type": "code",
   "execution_count": 2,
   "metadata": {},
   "outputs": [],
   "source": [
    "# Helper variables\n",
    "street_types = ['street', 'st', 'drive', 'dr', 'lane', 'road', 'rd', 'avenue', 'ave', 'av', 'estate']\n",
    "street_types_regex = '|'.join(street_types)\n",
    "\n",
    "weekly_terms = ['pw', 'week', '/w', 'p.w.', 'p.w', 'p/w', 'wk']\n",
    "monthly_terms = ['pcm', 'month', 'p.c.m', 'pm', 'p/m']\n",
    "yearly_terms = ['year', 'annum']\n",
    "\n",
    "# could contain both pw and pcm\n",
    "\n",
    "mapping = {\n",
    "    'House': 'House',\n",
    "    'Apartment / Unit / Flat': 'Apartment',\n",
    "    'Townhouse': 'House',\n",
    "    'Studio': 'Apartment', \n",
    "    'Villa': 'House',\n",
    "    'New House & Land': 'House',\n",
    "    'New Apartments / Off the Plan': 'Apartment',\n",
    "    'Semi-Detached': 'House',\n",
    "    'Duplex': 'House',\n",
    "    'Terrace': 'House',\n",
    "}\n",
    "\n",
    "# Helper functions\n",
    "\n",
    "def extract_parkings(text):\n",
    "    ''' A function that returns the number of parking spaces'''\n",
    "    match = re.search(r'\\d+', text)\n",
    "    if match:\n",
    "        return int(match.group())\n",
    "    else:\n",
    "        return 0\n",
    "\n",
    "def extract_bed_bath(rooms):\n",
    "    ''' A function that extracts the number of bedrooms and bathrooms'''\n",
    "    bed_match = re.search(r\"(\\d+)\\s*Bed\", rooms)\n",
    "    bath_match = re.search(r\"(\\d+)\\s*Bath\", rooms)\n",
    "\n",
    "    bed = int(bed_match.group(1)) if bed_match else None\n",
    "    bath = int(bath_match.group(1)) if bath_match else None\n",
    "    \n",
    "    return pd.Series([bed, bath])\n",
    "\n",
    "def contains_number(text):\n",
    "    ''' A function that returns True if the text contains at least 2 digits'''\n",
    "    # 2 digits to avoid entries like \"6 month lease available\"\n",
    "    return bool(re.search(r'\\d{2,}', text))\n",
    "\n",
    "def remove_postcode(address):\n",
    "    '''A function that removes all instances of the postcode'''\n",
    "    return re.sub(r'\\b\\d{4}\\b', '', address).strip()\n",
    "\n",
    "def insert_commas(address):\n",
    "    '''A function that inserts a comma after street types due to inconsistencies in address formats'''\n",
    "    \n",
    "    # Create a regex pattern to match any of the street types followed by a space (to check for the next word)\n",
    "    pattern = r'(\\b(?:' + street_types_regex + r')\\b)(\\s)'\n",
    "    \n",
    "    # Insert a comma after the matched street type\n",
    "    return re.sub(pattern, r'\\1,\\2', address, flags=re.IGNORECASE)\n",
    "\n",
    "def extract_suburb(address):\n",
    "    '''A function that extracts the suburb of an address'''\n",
    "\n",
    "    # Extract the part before 'VIC'\n",
    "    vic_part = re.search(r'(.+?)\\bVIC\\b', address)\n",
    "\n",
    "    if vic_part:\n",
    "        # Get everything before VIC and split by commas or street types\n",
    "        pre_vic = vic_part.group(1)\n",
    "\n",
    "        # Split by street types or commas\n",
    "        parts = re.split(f',|\\\\b(?:{street_types_regex})\\\\b', pre_vic)\n",
    "\n",
    "        # Take the last part, which would be just the suburb\n",
    "        return parts[-1].strip()\n",
    "        \n",
    "    return None\n",
    "\n",
    "def contains_furnished_and_unfurnished(text):\n",
    "    '''A function that returns True when the rental price specifies both furnished and unfurnished options'''\n",
    "\n",
    "    furnished = re.search(r'\\bfurnished\\b', text, re.IGNORECASE)\n",
    "    unfurnished = re.search(r'\\bunfurnished\\b', text, re.IGNORECASE)\n",
    "\n",
    "    return bool(furnished and unfurnished)\n",
    "\n",
    "def is_price_furnished(text):\n",
    "    '''A function that returns indicates whether the price specficies furnishings'''\n",
    "    text = text.lower()\n",
    "    furnished_pattern = re.compile(r'\\bfurnished\\b', re.IGNORECASE)\n",
    "    unfurnished_pattern = re.compile(r'\\bunfurnished\\b', re.IGNORECASE)\n",
    "    extra_pattern = re.compile(r'\\bextra\\b', re.IGNORECASE)\n",
    "\n",
    "    if unfurnished_pattern.search(text):\n",
    "        if furnished_pattern.search(text):\n",
    "            return True\n",
    "        return False\n",
    "    if furnished_pattern.search(text):\n",
    "        if extra_pattern.search(text):\n",
    "            return False\n",
    "        return True\n",
    "        \n",
    "    return None\n",
    "\n",
    "# We assume that if there's an asterisk that comes after furnished, then it's unfurnished due to the unverifiability as specified by domain.com\n",
    "def is_feature_furnished(features_str):\n",
    "    '''A function that determines if the features indicate whether a property is furnished'''\n",
    "    pattern = r'\\bFurnished\\b(?!\\s*\\*)'\n",
    "    if features_str.strip() == \"[]\":\n",
    "        return None\n",
    "    return bool(re.search(pattern, features_str, re.IGNORECASE))\n",
    "\n",
    "def is_desc_furnished(desc):\n",
    "    '''A function that determines whether a property is furnished from the descriptions'''\n",
    "    desc = desc.lower()\n",
    "    if 'not furn' in desc or 'unfurn' in desc:\n",
    "        return False\n",
    "    elif 'furnished' in desc:\n",
    "        if 'option' in desc or 'extra' in desc:\n",
    "            return False\n",
    "        return True\n",
    "    else:\n",
    "        return None\n",
    "\n",
    "\n",
    "def ensure_space_after_number(text):\n",
    "    # Define the pattern to find numbers followed immediately by alphabet characters\n",
    "    pattern = r'(\\d+)([a-zA-Z])'\n",
    "    # Replace matches with the number followed by a space and then the alphabet character\n",
    "    result = re.sub(pattern, r'\\1 \\2', text)\n",
    "    return result\n",
    "\n",
    "def find_with_dollar(price):\n",
    "\n",
    "    pattern = r'\\$\\s*\\d+(?:,\\d{3})*(?:\\.\\d+)?'\n",
    "    matches = re.findall(pattern, price)\n",
    "    numerical_values = [float(match.replace('$', '').replace(',', '').strip()) for match in matches]\n",
    "\n",
    "    # Return the list of numerical values if any matches are found; otherwise, return None\n",
    "    return numerical_values if numerical_values else None\n",
    "\n",
    "def extract_numbers(text):\n",
    "    # Define patterns to exclude phone numbers and dates\n",
    "    phone_pattern = r'\\b\\d{3,4}[\\s/-]\\d{3,4}[\\s/-]\\d{3,4}\\b|\\b\\d{10,11}\\b'\n",
    "    date_pattern = r'\\b\\d{1,2}[//]\\d{1,2}[//]\\d{2,4}\\b'\n",
    "    \n",
    "    # Remove phone numbers and dates from the text\n",
    "    text_cleaned = re.sub(phone_pattern, '', text)\n",
    "    text_cleaned = re.sub(date_pattern, '', text_cleaned)\n",
    "    \n",
    "    # Pattern to match numbers of at least 3 digits, including commas and decimals\n",
    "    pattern = r'\\b\\d+(?:,\\d{3})*(?:\\.\\d+)?\\b'\n",
    "    \n",
    "    # Find all matches in the cleaned text\n",
    "    matches = re.findall(pattern, text_cleaned)\n",
    "    \n",
    "    # Convert matches to float after cleaning commas\n",
    "    numerical_values = [float(match.replace(',', '')) for match in matches]\n",
    "    \n",
    "    # Handle cases where text is too short or does not fit the expected pattern\n",
    "    if numerical_values:\n",
    "        return numerical_values\n",
    "    else:\n",
    "        return None\n",
    "\n",
    "def normalise_rent(rent_list):\n",
    "    if len(rent_list) > 2:\n",
    "        filtered_values = [x for x in rent_list if x > 100]\n",
    "        if filtered_values:\n",
    "            return [sum(filtered_values) / len(filtered_values)]\n",
    "    return rent_list\n",
    "\n",
    "def remove_bond_from_rental_price(row):\n",
    "\n",
    "    bond_value = row['bond']\n",
    "    rental_price = str(row['rental_price'])\n",
    "\n",
    "    # Skip if bond is NaN\n",
    "    if pd.notna(bond_value):\n",
    "\n",
    "        # Create a regex pattern to match bond value, allowing optional commas and decimals\n",
    "        bond_pattern = fr'\\b{int(bond_value):,}(\\.\\d+)?\\b'  # formats number with commas\n",
    "        # Also include plain version without comma\n",
    "        bond_pattern_alt = fr'\\b{int(bond_value)}(\\.\\d+)?\\b'\n",
    "\n",
    "        # Remove any bond matches (with or without commas) from the rental price\n",
    "        updated_rental_price = re.sub(bond_pattern, '', rental_price)\n",
    "        updated_rental_price = re.sub(bond_pattern_alt, '', updated_rental_price)\n",
    "        # Clean up extra spaces\n",
    "        updated_rental_price = re.sub(r'\\s+', ' ', updated_rental_price).strip()\n",
    "\n",
    "        return updated_rental_price\n",
    "    else:\n",
    "        return rental_price\n",
    "\n",
    "\n",
    "def calculate_final_rent(row):\n",
    "\n",
    "    prices = row['rent_nums']\n",
    "    \n",
    "    # Case when contains_both_furnished_options is True\n",
    "    if row['contains_both_furnished_options']:\n",
    "        return max(prices)\n",
    "\n",
    "    if row['is_yearly']:\n",
    "        return prices[0] * 7 / 365\n",
    "        \n",
    "    # If it doesn't specify whether rent is paid weekly or monthly\n",
    "    if row['not_indicated']:\n",
    "        if len(prices) > 1:\n",
    "            # Get the average\n",
    "            return sum(prices) / len(prices)\n",
    "        elif len(prices) == 1:\n",
    "            # We assume the maximum weekly rent would be $5000 and remove those above 5000\n",
    "            if prices[0] > 5000:\n",
    "                return None  \n",
    "            return prices[0]\n",
    "        return None\n",
    "\n",
    "    # If rent is paid exclusively monthly\n",
    "    if row['is_monthly'] and not row['is_weekly']:\n",
    "        if len(prices) > 1:\n",
    "            return sum(prices) / len(prices) * 84 / 365\n",
    "        elif len(prices) == 1:\n",
    "            # We assume monthly rent should be at least $500\n",
    "            if prices[0] < 500:\n",
    "                return None\n",
    "            return prices[0] * 84 / 365\n",
    "        return None\n",
    "\n",
    "    # If rent is paid exclusively weekly\n",
    "    if row['is_weekly'] and not row['is_monthly']:\n",
    "        if len(prices) > 1:\n",
    "            return sum(prices) / len(prices)\n",
    "        elif len(prices) == 1:\n",
    "            return prices[0]\n",
    "        return None\n",
    "\n",
    "    # Take the minimum (weekly rate)\n",
    "    if row['is_both']:\n",
    "        return min(prices)\n",
    "\n",
    "    # If none of the above conditions are met, return None\n",
    "    return None\n",
    "\n",
    "def summarise(df):\n",
    "\n",
    "    final = df.groupby('suburb').agg(\n",
    "        median_rent=('weekly_rent', 'median'),\n",
    "        median_bath=('num_bath', 'median'),\n",
    "        median_parkings=('num_parkings', 'median'),\n",
    "        furnished_count=('furnished', lambda x: (x == True).sum()),\n",
    "        unfurnished_count=('furnished', lambda x: (x == False).sum()),\n",
    "        pets_allowed=('pets_allowed', lambda x: (x == True).sum()),\n",
    "        pets_not_allowed=('pets_allowed', lambda x: (x == False).sum()),\n",
    "        num_properties=('suburb', 'size')\n",
    "    ).reset_index()\n",
    "\n",
    "    # Round to the nearest integer for number of baths and parkings\n",
    "    final['median_bath'] = final['median_bath'].round().astype(int)\n",
    "    final['median_parkings'] = final['median_parkings'].round().astype(int)\n",
    "\n",
    "    return final"
   ]
  },
  {
   "attachments": {},
   "cell_type": "markdown",
   "metadata": {},
   "source": [
    "## Start"
   ]
  },
  {
   "cell_type": "code",
   "execution_count": 3,
   "metadata": {},
   "outputs": [],
   "source": [
    "import warnings\n",
    "import regex as re\n",
    "import pandas as pd\n",
    "import matplotlib.pyplot as plt\n",
    "\n",
    "# Suppress all warnings\n",
    "warnings.filterwarnings('ignore')\n",
    "\n",
    "# Read in the csv file (14073 entries)\n",
    "properties = pd.read_csv('../data/landing/scraped_properties.csv')"
   ]
  },
  {
   "attachments": {},
   "cell_type": "markdown",
   "metadata": {},
   "source": [
    "## Extracting Postcode & Suburb"
   ]
  },
  {
   "cell_type": "code",
   "execution_count": 4,
   "metadata": {},
   "outputs": [],
   "source": [
    "# Drop url and availability columns (irrelevant to analysis)\n",
    "properties = properties.drop(columns=['url', 'availability'])\n",
    "\n",
    "# Drop properties not in Victoria (3 properties were in NSW)\n",
    "properties = properties[properties['address'].str.contains('VIC')]\n",
    "\n",
    "# Extract the postcode of the adress\n",
    "properties['postcode'] = properties['address'].str.extract(r'(\\d{4})$')\n",
    "\n",
    "# Insert commas after street names to ensure consistency\n",
    "properties['address'] = properties['address'].apply(insert_commas)\n",
    "\n",
    "# Remove all instances of the postcode from the address\n",
    "properties['address'] = properties['address'].apply(remove_postcode)\n",
    "\n",
    "# Extract the suburb of the address\n",
    "properties['suburb'] = properties['address'].apply(extract_suburb)\n",
    "\n",
    "# Get rid of address as we've extracted the main information\n",
    "properties = properties.drop('address', axis = 1)"
   ]
  },
  {
   "attachments": {},
   "cell_type": "markdown",
   "metadata": {},
   "source": [
    "## Extracting Number of Beds, Baths & Parkings"
   ]
  },
  {
   "cell_type": "code",
   "execution_count": 5,
   "metadata": {},
   "outputs": [],
   "source": [
    "# Get rid of properties that do not specify rental price (~139)\n",
    "properties = properties[properties['rental_price'].apply(contains_number)]\n",
    "\n",
    "# Only keep apartments and houses (~37)\n",
    "properties['property_type'] = properties['property_type'].map(mapping)\n",
    "properties = properties[~properties['property_type'].isna()]\n",
    "\n",
    "# Remove properties that are shipping containers (~4)\n",
    "properties = properties[~properties['desc'].str.contains('shipping', case=False)]\n",
    "\n",
    "# Remove properties with 0 information on number of rooms (~23)\n",
    "properties = properties[properties['rooms'] != '[]']\n",
    "\n",
    "# Extract the number of bedrooms and bathrooms per property\n",
    "properties[['num_bed', 'num_bath']] = properties['rooms'].apply(extract_bed_bath)\n",
    "\n",
    "# Remove properties with 0 bedrooms or 0 bathrooms (~131)\n",
    "properties = properties[properties['num_bed'] != 0]\n",
    "properties = properties[properties['num_bath'] != 0]\n",
    "\n",
    "# Get rid of the rooms feature\n",
    "properties = properties.drop('rooms', axis = 1)\n",
    "\n",
    "# Extract the number of parking spaces and remove the original column\n",
    "properties['num_parkings'] = properties['parking'].apply(extract_parkings)\n",
    "properties = properties.drop('parking', axis = 1)\n",
    "\n",
    "# Get rid of properties with more than 12 parking spaces (~2)\n",
    "properties = properties[properties['num_parkings'] <= 12]"
   ]
  },
  {
   "attachments": {},
   "cell_type": "markdown",
   "metadata": {},
   "source": [
    "## Extracting Furnished & Pets Allowed Features"
   ]
  },
  {
   "cell_type": "code",
   "execution_count": 6,
   "metadata": {},
   "outputs": [],
   "source": [
    "properties['rental_price'] = properties['rental_price'].apply(ensure_space_after_number)\n",
    "\n",
    "# Find if the property offers both furnished and unfurnished options\n",
    "properties['contains_both_furnished_options'] = properties['rental_price'].apply(contains_furnished_and_unfurnished)\n",
    "\n",
    "# Determine if a property is furnished from the price column\n",
    "properties['price_furnished'] = properties['rental_price'].apply(is_price_furnished)\n",
    "\n",
    "# Determine if a property is furnished from the features column\n",
    "properties['features_furnished'] = properties['features'].apply(is_feature_furnished)\n",
    "\n",
    "# Determine if a property is furnished from the description column\n",
    "properties['desc_furnished'] = properties['desc'].apply(is_desc_furnished)\n",
    "\n",
    "# If any of the price, features or description explicitly mention furnished, we assume furnished\n",
    "properties['furnished'] = properties[['price_furnished', 'features_furnished', 'desc_furnished']].any(axis=1)\n",
    "\n",
    "# Create a new column that specifies whether pets are allowed\n",
    "properties['pets_allowed'] = properties['features'].apply(lambda x: True if re.search(r'\\bPets Allowed\\b(?!\\*)', str(x)) else False)\n",
    "\n",
    "# Drop unused columns\n",
    "properties = properties.drop(columns=['desc', 'features', 'price_furnished', 'features_furnished', 'desc_furnished'])"
   ]
  },
  {
   "attachments": {},
   "cell_type": "markdown",
   "metadata": {},
   "source": [
    "## Extracting Weekly Rent"
   ]
  },
  {
   "cell_type": "code",
   "execution_count": 7,
   "metadata": {},
   "outputs": [],
   "source": [
    "# Remove dollar signs and commas from bond\n",
    "properties['bond'] = properties['bond'].str.replace('$', '', regex=False)\n",
    "properties['bond'] = properties['bond'].str.replace(',', '', regex=False)\n",
    "\n",
    "# Create columns to specify whether rent is specified by week, month, both, or none (or year)\n",
    "properties['is_weekly'] = properties['rental_price'].str.contains('|'.join(weekly_terms), case=False)\n",
    "properties['is_monthly'] = properties['rental_price'].str.contains('|'.join(monthly_terms), case=False)\n",
    "properties['is_yearly'] = properties['rental_price'].str.contains('|'.join(yearly_terms), case=False)\n",
    "properties['is_both'] = properties['is_weekly'] & properties['is_monthly']\n",
    "properties['not_indicated'] = ~(properties['is_weekly'] | properties['is_monthly'] | properties['is_both'])\n",
    "\n",
    "# Remove instances of the bond from the rental price\n",
    "properties['rental_price'] = properties.apply(remove_bond_from_rental_price, axis=1)\n",
    "\n",
    "# Extract rental price, separating by whether the price contains the dollar sign\n",
    "# Without the dollar sign, we have to consider other numbers e.g. phone numbers and dates\n",
    "with_dollar = properties[properties['rental_price'].str.contains(r'\\$', na=False)]\n",
    "without_dollar = properties[~properties['rental_price'].str.contains(r'\\$', na=False)]\n",
    "\n",
    "with_dollar['rent_nums'] = with_dollar['rental_price'].apply(find_with_dollar)\n",
    "without_dollar['rent_nums'] = without_dollar['rental_price'].apply(extract_numbers)\n",
    "\n",
    "# Concatenate back into one dataframe once rent is extracted\n",
    "properties = pd.concat([with_dollar, without_dollar], ignore_index=True)\n",
    "\n",
    "# Remove properties whose rent is not available (1) --> 13,681\n",
    "properties = properties[~properties['rent_nums'].isna()]\n",
    "\n",
    "# Normalise rent if we extracted more than 2 numbers\n",
    "properties['rent_nums'] = properties['rent_nums'].apply(normalise_rent)\n",
    "\n",
    "# Find weekly rent \n",
    "properties['weekly_rent'] = properties.apply(calculate_final_rent, axis=1)\n",
    "\n",
    "# Remove NA values (rent too low / too high)\n",
    "properties = properties[~properties['weekly_rent'].isna()]\n",
    "\n",
    "# Remove weekly rent less than 100 (most likely to be carparks)\n",
    "properties = properties[properties['weekly_rent'] > 100]"
   ]
  },
  {
   "attachments": {},
   "cell_type": "markdown",
   "metadata": {},
   "source": [
    "## Cleaning Up"
   ]
  },
  {
   "cell_type": "code",
   "execution_count": 8,
   "metadata": {},
   "outputs": [],
   "source": [
    "# Make suburb lower case\n",
    "properties['suburb'] = properties['suburb'].str.lower()\n",
    "\n",
    "# Drop columns we no longer need\n",
    "properties = properties.drop(columns = ['rental_price', 'contains_both_furnished_options', 'is_weekly', 'is_monthly', 'is_yearly', 'is_both', 'not_indicated', 'rent_nums'])\n",
    "\n",
    "# Reorder columns\n",
    "properties = properties[['suburb', 'postcode', 'property_type', 'weekly_rent', 'bond', 'num_bed', 'num_bath', 'num_parkings', 'furnished', 'pets_allowed', 'coordinates']]\n",
    "\n",
    "# Ensuring consistent schema\n",
    "properties['postcode'] = properties['postcode'].astype('int')\n",
    "properties['bond'] = properties['bond'].astype('Int64')\n",
    "\n",
    "# Final shape: 13,620 rows"
   ]
  },
  {
   "cell_type": "code",
   "execution_count": 9,
   "metadata": {},
   "outputs": [],
   "source": [
    "properties.to_csv('../data/raw/properties.csv', index = False)"
   ]
  },
  {
   "attachments": {},
   "cell_type": "markdown",
   "metadata": {},
   "source": [
    "## Aggregating"
   ]
  },
  {
   "cell_type": "code",
   "execution_count": 10,
   "metadata": {},
   "outputs": [],
   "source": [
    "import warnings\n",
    "import regex as re\n",
    "import pandas as pd\n",
    "import matplotlib.pyplot as plt\n",
    "\n",
    "# Suppress all warnings\n",
    "warnings.filterwarnings('ignore')"
   ]
  },
  {
   "cell_type": "code",
   "execution_count": 11,
   "metadata": {},
   "outputs": [],
   "source": [
    "properties = pd.read_csv('../data/raw/properties.csv')\n",
    "\n",
    "one_bed_apts = properties[(properties['num_bed'] == 1) & (properties['property_type'] == 'Apartment')]\n",
    "two_bed_apts = properties[(properties['num_bed'] == 2) & (properties['property_type'] == 'Apartment')]\n",
    "three_bed_apts = properties[(properties['num_bed'] == 3) & (properties['property_type'] == 'Apartment')]\n",
    "\n",
    "two_bed_house = properties[(properties['num_bed'] == 2) & (properties['property_type'] == 'House')]\n",
    "three_bed_house = properties[(properties['num_bed'] == 3) & (properties['property_type'] == 'House')]\n",
    "four_bed_house = properties[(properties['num_bed'] == 4) & (properties['property_type'] == 'House')]\n",
    "\n",
    "all_properties = pd.concat([one_bed_apts,two_bed_apts,three_bed_apts,two_bed_house,three_bed_house,four_bed_house],ignore_index=True)\n",
    "\n",
    "# Aggregate by suburb\n",
    "one_bed_apts = summarise(one_bed_apts)\n",
    "two_bed_apts = summarise(two_bed_apts)\n",
    "three_bed_apts = summarise(three_bed_apts)\n",
    "\n",
    "two_bed_house = summarise(two_bed_house)\n",
    "three_bed_house = summarise(three_bed_house)\n",
    "four_bed_house = summarise(four_bed_house)\n",
    "\n",
    "all_properties = summarise(all_properties)"
   ]
  },
  {
   "cell_type": "code",
   "execution_count": 12,
   "metadata": {},
   "outputs": [],
   "source": [
    "one_bed_apts.to_csv('../data/curated/domain_one_bed_flat_rent.csv')\n",
    "two_bed_apts.to_csv('../data/curated/domain_two_bed_flat_rent.csv')\n",
    "three_bed_apts.to_csv('../data/curated/domain_three_bed_flat_rent.csv')\n",
    "\n",
    "two_bed_house.to_csv('../data/curated/domain_two_bed_house_rent.csv')\n",
    "three_bed_house.to_csv('../data/curated/domain_three_bed_house_rent.csv')\n",
    "four_bed_house.to_csv('../data/curated/domain_four_bed_house_rent.csv')\n",
    "\n",
    "all_properties.to_csv('../data/curated/domain_all_properties_rent.csv')"
   ]
  },
  {
   "cell_type": "code",
   "execution_count": 13,
   "metadata": {},
   "outputs": [
    {
     "data": {
      "image/png": "[encoded data removed]",
      "text/plain": [
       "<Figure size 640x480 with 1 Axes>"
      ]
     },
     "metadata": {},
     "output_type": "display_data"
    }
   ],
   "source": [
    "furnished_properties = properties[properties['furnished'] == True]\n",
    "\n",
    "plt.hist(furnished_properties['weekly_rent'], range=[100, 1000], edgecolor='black', density=True)\n",
    "plt.xlabel('Weekly Rent')\n",
    "plt.ylabel('Frequency')\n",
    "plt.show()"
   ]
  },
  {
   "cell_type": "code",
   "execution_count": 14,
   "metadata": {},
   "outputs": [
    {
     "data": {
      "image/png": "[encoded data removed]",
      "text/plain": [
       "<Figure size 640x480 with 1 Axes>"
      ]
     },
     "metadata": {},
     "output_type": "display_data"
    }
   ],
   "source": [
    "unfurnished_properties = properties[properties['furnished'] == False]\n",
    "\n",
    "plt.hist(unfurnished_properties['weekly_rent'], range=[100, 1000], edgecolor='black', density=True)\n",
    "plt.xlabel('Weekly Rent')\n",
    "plt.ylabel('Frequency')\n",
    "plt.show()"
   ]
  },
  {
   "cell_type": "code",
   "execution_count": 15,
   "metadata": {},
   "outputs": [
    {
     "data": {
      "image/png": "[encoded data removed]",
      "text/plain": [
       "<Figure size 640x480 with 1 Axes>"
      ]
     },
     "metadata": {},
     "output_type": "display_data"
    }
   ],
   "source": [
    "pets_allowed = properties[properties['pets_allowed'] == True]\n",
    "\n",
    "plt.hist(pets_allowed['weekly_rent'], range=[100, 1000], edgecolor='black', density=True)\n",
    "plt.xlabel('Weekly Rent')\n",
    "plt.ylabel('Frequency')\n",
    "plt.show()"
   ]
  },
  {
   "cell_type": "code",
   "execution_count": 16,
   "metadata": {},
   "outputs": [
    {
     "data": {
      "image/png": "[encoded data removed]",
      "text/plain": [
       "<Figure size 640x480 with 1 Axes>"
      ]
     },
     "metadata": {},
     "output_type": "display_data"
    }
   ],
   "source": [
    "no_pets_allowed = properties[properties['pets_allowed'] == False]\n",
    "\n",
    "plt.hist(no_pets_allowed['weekly_rent'], range=[100, 1000], edgecolor='black', density=True)\n",
    "plt.xlabel('Weekly Rent')\n",
    "plt.ylabel('Frequency')\n",
    "plt.show()"
   ]
  },
  {
   "cell_type": "code",
   "execution_count": 17,
   "metadata": {},
   "outputs": [
    {
     "data": {
      "image/png": "[encoded data removed]",
      "text/plain": [
       "<Figure size 640x480 with 1 Axes>"
      ]
     },
     "metadata": {},
     "output_type": "display_data"
    }
   ],
   "source": [
    "no_parkings = properties[properties['num_parkings'] == 0]\n",
    "\n",
    "plt.hist(no_parkings['weekly_rent'], range=[100, 1000], edgecolor='black', density=True)\n",
    "plt.xlabel('Weekly Rent')\n",
    "plt.ylabel('Frequency')\n",
    "plt.ylim(0, 0.0030)\n",
    "plt.show()"
   ]
  },
  {
   "cell_type": "code",
   "execution_count": 18,
   "metadata": {},
   "outputs": [
    {
     "data": {
      "image/png": "[encoded data removed]",
      "text/plain": [
       "<Figure size 640x480 with 1 Axes>"
      ]
     },
     "metadata": {},
     "output_type": "display_data"
    }
   ],
   "source": [
    "parkings = properties[properties['num_parkings'] > 0]\n",
    "\n",
    "plt.hist(parkings['weekly_rent'], range=[100, 1000], edgecolor='black', density=True)\n",
    "plt.xlabel('Weekly Rent')\n",
    "plt.ylabel('Frequency')\n",
    "plt.show()"
   ]
  }
 ],
 "metadata": {
  "kernelspec": {
   "display_name": "base",
   "language": "python",
   "name": "python3"
  },
  "language_info": {
   "codemirror_mode": {
    "name": "ipython",
    "version": 3
   },
   "file_extension": ".py",
   "mimetype": "text/x-python",
   "name": "python",
   "nbconvert_exporter": "python",
   "pygments_lexer": "ipython3",
   "version": "3.9.18"
  },
  "orig_nbformat": 4
 },
 "nbformat": 4,
 "nbformat_minor": 2
}
