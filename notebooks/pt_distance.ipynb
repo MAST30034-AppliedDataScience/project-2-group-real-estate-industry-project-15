{
 "cells": [
  {
   "cell_type": "code",
   "execution_count": 1,
   "metadata": {},
   "outputs": [],
   "source": [
    "import geopandas as gpd\n",
    "import pandas as pd\n",
    "import numpy as np\n",
    "import openrouteservice\n",
    "from shapely.geometry import Point, Polygon, MultiPolygon"
   ]
  },
  {
   "cell_type": "code",
   "execution_count": 2,
   "metadata": {},
   "outputs": [],
   "source": [
    "# Load the ORS client with your API key\n",
    "client = openrouteservice.Client(key='5b3ce3597851110001cf62488c71fa847a704dee913c2695723d7af2')"
   ]
  },
  {
   "cell_type": "code",
   "execution_count": 3,
   "metadata": {},
   "outputs": [],
   "source": [
    "# Load the rental properties data (limit to 20 rows for testing)\n",
    "properties_df = pd.read_csv('../data/landing/scraped_properties.csv').head(10)\n",
    "\n",
    "# Convert property coordinates into GeoDataFrame\n",
    "properties_df['coordinates'] = properties_df['coordinates'].apply(lambda x: tuple(map(float, x.split(','))))\n",
    "properties_gdf = gpd.GeoDataFrame(properties_df, geometry=properties_df['coordinates'].apply(lambda x: Point(x[1], x[0])))"
   ]
  },
  {
   "cell_type": "code",
   "execution_count": 4,
   "metadata": {},
   "outputs": [
    {
     "name": "stderr",
     "output_type": "stream",
     "text": [
      "/Users/salehakhalid/anaconda3/lib/python3.9/site-packages/geopandas/geodataframe.py:1819: SettingWithCopyWarning: \n",
      "A value is trying to be set on a copy of a slice from a DataFrame.\n",
      "Try using .loc[row_indexer,col_indexer] = value instead\n",
      "\n",
      "See the caveats in the documentation: https://pandas.pydata.org/pandas-docs/stable/user_guide/indexing.html#returning-a-view-versus-a-copy\n",
      "  super().__setitem__(key, value)\n",
      "/Users/salehakhalid/anaconda3/lib/python3.9/site-packages/geopandas/geodataframe.py:1819: SettingWithCopyWarning: \n",
      "A value is trying to be set on a copy of a slice from a DataFrame.\n",
      "Try using .loc[row_indexer,col_indexer] = value instead\n",
      "\n",
      "See the caveats in the documentation: https://pandas.pydata.org/pandas-docs/stable/user_guide/indexing.html#returning-a-view-versus-a-copy\n",
      "  super().__setitem__(key, value)\n"
     ]
    }
   ],
   "source": [
    "# Load public transport shapefiles for train and tram stops\n",
    "transport_stops_gdf = gpd.read_file('../data/map/Public Transport Victoria/gis_osm_transport_a_free_1.shp')\n",
    "\n",
    "# Filter only relevant public transport stops (train stations and tram stops)\n",
    "train_stops_gdf = transport_stops_gdf[transport_stops_gdf['fclass'].isin(['railway_station', 'railway_halt'])]\n",
    "tram_stops_gdf = transport_stops_gdf[transport_stops_gdf['fclass'] == 'tram_stop']\n",
    "\n",
    "# Function to convert Polygon or MultiPolygon to its centroid\n",
    "def get_centroid(geom):\n",
    "    if isinstance(geom, (Polygon, MultiPolygon)):\n",
    "        return geom.centroid\n",
    "    return geom\n",
    "\n",
    "# Adjust to use centroids for any Polygon or MultiPolygon\n",
    "train_stops_gdf['geometry'] = train_stops_gdf['geometry'].apply(get_centroid)\n",
    "tram_stops_gdf['geometry'] = tram_stops_gdf['geometry'].apply(get_centroid)"
   ]
  },
  {
   "cell_type": "code",
   "execution_count": 5,
   "metadata": {},
   "outputs": [],
   "source": [
    "# Function to get the nearest stops within a buffer or nearest N stops\n",
    "def get_nearest_stops(property_point, transport_stops, num_stops=1, max_distance=10000):\n",
    "    # Create a GeoSeries with the property point and a buffer around it (in meters)\n",
    "    property_buffer = property_point.buffer(max_distance)  # Adjust buffer distance as needed\n",
    "\n",
    "    # Filter the transport stops to those within the buffer\n",
    "    nearby_stops = transport_stops[transport_stops.geometry.within(property_buffer)]\n",
    "\n",
    "    # If there are more than num_stops, filter to nearest\n",
    "    if len(nearby_stops) > num_stops:\n",
    "        nearby_stops['distance'] = nearby_stops.geometry.distance(property_point)\n",
    "        nearby_stops = nearby_stops.nsmallest(num_stops, 'distance')\n",
    "\n",
    "    return nearby_stops"
   ]
  },
  {
   "cell_type": "code",
   "execution_count": 6,
   "metadata": {},
   "outputs": [],
   "source": [
    "# Function to calculate the driving distance from a property to the nearest transport stop\n",
    "def calculate_nearest_transport(property_point, transport_points):\n",
    "    # Get the nearest stops (limit to 1 for the nearest stop)\n",
    "    nearest_stops = get_nearest_stops(property_point, transport_points, num_stops=1)\n",
    "\n",
    "    # If no nearby stops are found, return None\n",
    "    if nearest_stops.empty:\n",
    "        return None\n",
    "    \n",
    "    # Get the coordinates for the property and the nearest stop\n",
    "    coords_property = (property_point.x, property_point.y)\n",
    "    coords_nearest_stop = (nearest_stops.geometry.iloc[0].x, nearest_stops.geometry.iloc[0].y)\n",
    "\n",
    "    # Calculate the distance matrix using the ORS API (driving-car profile)\n",
    "    try:\n",
    "        distances = client.distance_matrix(\n",
    "            locations=[coords_property, coords_nearest_stop],\n",
    "            profile='driving-car',\n",
    "            metrics=['distance'],\n",
    "            units='m'\n",
    "        )\n",
    "\n",
    "        # Return the distance between the property and the nearest stop\n",
    "        return distances['distances'][0][1]  # Distance from property to nearest stop\n",
    "\n",
    "    except openrouteservice.exceptions.ApiError as e:\n",
    "        print(f\"ORS API Error: {e}\")\n",
    "        return None"
   ]
  },
  {
   "cell_type": "code",
   "execution_count": 7,
   "metadata": {},
   "outputs": [
    {
     "name": "stderr",
     "output_type": "stream",
     "text": [
      "/var/folders/bz/yjywszk15kxc8d5vv73k9xcc0000gn/T/ipykernel_89848/1188733481.py:11: UserWarning: Geometry is in a geographic CRS. Results from 'distance' are likely incorrect. Use 'GeoSeries.to_crs()' to re-project geometries to a projected CRS before this operation.\n",
      "\n",
      "  nearby_stops['distance'] = nearby_stops.geometry.distance(property_point)\n",
      "/var/folders/bz/yjywszk15kxc8d5vv73k9xcc0000gn/T/ipykernel_89848/1188733481.py:11: UserWarning: Geometry is in a geographic CRS. Results from 'distance' are likely incorrect. Use 'GeoSeries.to_crs()' to re-project geometries to a projected CRS before this operation.\n",
      "\n",
      "  nearby_stops['distance'] = nearby_stops.geometry.distance(property_point)\n",
      "/var/folders/bz/yjywszk15kxc8d5vv73k9xcc0000gn/T/ipykernel_89848/1188733481.py:11: UserWarning: Geometry is in a geographic CRS. Results from 'distance' are likely incorrect. Use 'GeoSeries.to_crs()' to re-project geometries to a projected CRS before this operation.\n",
      "\n",
      "  nearby_stops['distance'] = nearby_stops.geometry.distance(property_point)\n",
      "/var/folders/bz/yjywszk15kxc8d5vv73k9xcc0000gn/T/ipykernel_89848/1188733481.py:11: UserWarning: Geometry is in a geographic CRS. Results from 'distance' are likely incorrect. Use 'GeoSeries.to_crs()' to re-project geometries to a projected CRS before this operation.\n",
      "\n",
      "  nearby_stops['distance'] = nearby_stops.geometry.distance(property_point)\n",
      "/var/folders/bz/yjywszk15kxc8d5vv73k9xcc0000gn/T/ipykernel_89848/1188733481.py:11: UserWarning: Geometry is in a geographic CRS. Results from 'distance' are likely incorrect. Use 'GeoSeries.to_crs()' to re-project geometries to a projected CRS before this operation.\n",
      "\n",
      "  nearby_stops['distance'] = nearby_stops.geometry.distance(property_point)\n",
      "/var/folders/bz/yjywszk15kxc8d5vv73k9xcc0000gn/T/ipykernel_89848/1188733481.py:11: UserWarning: Geometry is in a geographic CRS. Results from 'distance' are likely incorrect. Use 'GeoSeries.to_crs()' to re-project geometries to a projected CRS before this operation.\n",
      "\n",
      "  nearby_stops['distance'] = nearby_stops.geometry.distance(property_point)\n",
      "/var/folders/bz/yjywszk15kxc8d5vv73k9xcc0000gn/T/ipykernel_89848/1188733481.py:11: UserWarning: Geometry is in a geographic CRS. Results from 'distance' are likely incorrect. Use 'GeoSeries.to_crs()' to re-project geometries to a projected CRS before this operation.\n",
      "\n",
      "  nearby_stops['distance'] = nearby_stops.geometry.distance(property_point)\n",
      "/var/folders/bz/yjywszk15kxc8d5vv73k9xcc0000gn/T/ipykernel_89848/1188733481.py:11: UserWarning: Geometry is in a geographic CRS. Results from 'distance' are likely incorrect. Use 'GeoSeries.to_crs()' to re-project geometries to a projected CRS before this operation.\n",
      "\n",
      "  nearby_stops['distance'] = nearby_stops.geometry.distance(property_point)\n",
      "/var/folders/bz/yjywszk15kxc8d5vv73k9xcc0000gn/T/ipykernel_89848/1188733481.py:11: UserWarning: Geometry is in a geographic CRS. Results from 'distance' are likely incorrect. Use 'GeoSeries.to_crs()' to re-project geometries to a projected CRS before this operation.\n",
      "\n",
      "  nearby_stops['distance'] = nearby_stops.geometry.distance(property_point)\n",
      "/var/folders/bz/yjywszk15kxc8d5vv73k9xcc0000gn/T/ipykernel_89848/1188733481.py:11: UserWarning: Geometry is in a geographic CRS. Results from 'distance' are likely incorrect. Use 'GeoSeries.to_crs()' to re-project geometries to a projected CRS before this operation.\n",
      "\n",
      "  nearby_stops['distance'] = nearby_stops.geometry.distance(property_point)\n",
      "/var/folders/bz/yjywszk15kxc8d5vv73k9xcc0000gn/T/ipykernel_89848/1188733481.py:11: UserWarning: Geometry is in a geographic CRS. Results from 'distance' are likely incorrect. Use 'GeoSeries.to_crs()' to re-project geometries to a projected CRS before this operation.\n",
      "\n",
      "  nearby_stops['distance'] = nearby_stops.geometry.distance(property_point)\n",
      "/var/folders/bz/yjywszk15kxc8d5vv73k9xcc0000gn/T/ipykernel_89848/1188733481.py:11: UserWarning: Geometry is in a geographic CRS. Results from 'distance' are likely incorrect. Use 'GeoSeries.to_crs()' to re-project geometries to a projected CRS before this operation.\n",
      "\n",
      "  nearby_stops['distance'] = nearby_stops.geometry.distance(property_point)\n",
      "/var/folders/bz/yjywszk15kxc8d5vv73k9xcc0000gn/T/ipykernel_89848/1188733481.py:11: UserWarning: Geometry is in a geographic CRS. Results from 'distance' are likely incorrect. Use 'GeoSeries.to_crs()' to re-project geometries to a projected CRS before this operation.\n",
      "\n",
      "  nearby_stops['distance'] = nearby_stops.geometry.distance(property_point)\n",
      "/var/folders/bz/yjywszk15kxc8d5vv73k9xcc0000gn/T/ipykernel_89848/1188733481.py:11: UserWarning: Geometry is in a geographic CRS. Results from 'distance' are likely incorrect. Use 'GeoSeries.to_crs()' to re-project geometries to a projected CRS before this operation.\n",
      "\n",
      "  nearby_stops['distance'] = nearby_stops.geometry.distance(property_point)\n",
      "/var/folders/bz/yjywszk15kxc8d5vv73k9xcc0000gn/T/ipykernel_89848/1188733481.py:11: UserWarning: Geometry is in a geographic CRS. Results from 'distance' are likely incorrect. Use 'GeoSeries.to_crs()' to re-project geometries to a projected CRS before this operation.\n",
      "\n",
      "  nearby_stops['distance'] = nearby_stops.geometry.distance(property_point)\n",
      "/var/folders/bz/yjywszk15kxc8d5vv73k9xcc0000gn/T/ipykernel_89848/1188733481.py:11: UserWarning: Geometry is in a geographic CRS. Results from 'distance' are likely incorrect. Use 'GeoSeries.to_crs()' to re-project geometries to a projected CRS before this operation.\n",
      "\n",
      "  nearby_stops['distance'] = nearby_stops.geometry.distance(property_point)\n",
      "/var/folders/bz/yjywszk15kxc8d5vv73k9xcc0000gn/T/ipykernel_89848/1188733481.py:11: UserWarning: Geometry is in a geographic CRS. Results from 'distance' are likely incorrect. Use 'GeoSeries.to_crs()' to re-project geometries to a projected CRS before this operation.\n",
      "\n",
      "  nearby_stops['distance'] = nearby_stops.geometry.distance(property_point)\n",
      "/var/folders/bz/yjywszk15kxc8d5vv73k9xcc0000gn/T/ipykernel_89848/1188733481.py:11: UserWarning: Geometry is in a geographic CRS. Results from 'distance' are likely incorrect. Use 'GeoSeries.to_crs()' to re-project geometries to a projected CRS before this operation.\n",
      "\n",
      "  nearby_stops['distance'] = nearby_stops.geometry.distance(property_point)\n",
      "/var/folders/bz/yjywszk15kxc8d5vv73k9xcc0000gn/T/ipykernel_89848/1188733481.py:11: UserWarning: Geometry is in a geographic CRS. Results from 'distance' are likely incorrect. Use 'GeoSeries.to_crs()' to re-project geometries to a projected CRS before this operation.\n",
      "\n",
      "  nearby_stops['distance'] = nearby_stops.geometry.distance(property_point)\n",
      "/var/folders/bz/yjywszk15kxc8d5vv73k9xcc0000gn/T/ipykernel_89848/1188733481.py:11: UserWarning: Geometry is in a geographic CRS. Results from 'distance' are likely incorrect. Use 'GeoSeries.to_crs()' to re-project geometries to a projected CRS before this operation.\n",
      "\n",
      "  nearby_stops['distance'] = nearby_stops.geometry.distance(property_point)\n"
     ]
    }
   ],
   "source": [
    "# For each property, calculate the distance to the nearest train stop and tram stop\n",
    "properties_gdf['nearest_train_distance'] = properties_gdf['geometry'].apply(lambda x: calculate_nearest_transport(x, train_stops_gdf))\n",
    "properties_gdf['nearest_tram_distance'] = properties_gdf['geometry'].apply(lambda x: calculate_nearest_transport(x, tram_stops_gdf))\n",
    "\n",
    "# Save the updated property data with distances to a CSV (just for 20 rows)\n",
    "properties_gdf.to_csv('../data/raw/properties_with_distances_test.csv', index=False)"
   ]
  }
 ],
 "metadata": {
  "kernelspec": {
   "display_name": "base",
   "language": "python",
   "name": "python3"
  },
  "language_info": {
   "codemirror_mode": {
    "name": "ipython",
    "version": 3
   },
   "file_extension": ".py",
   "mimetype": "text/x-python",
   "name": "python",
   "nbconvert_exporter": "python",
   "pygments_lexer": "ipython3",
   "version": "3.9.18"
  }
 },
 "nbformat": 4,
 "nbformat_minor": 2
}
