{
 "cells": [
  {
   "attachments": {},
   "cell_type": "markdown",
   "metadata": {},
   "source": [
    "Before running this notebook, ensure that you have run the `preprocess_demographics.ipynb` notebook."
   ]
  },
  {
   "cell_type": "code",
   "execution_count": 46,
   "metadata": {},
   "outputs": [
    {
     "data": {
      "text/plain": [
       "Index(['sa2_name', 'erp_june_2022_count', 'erp_june_2023_count',\n",
       "       'erp_change_count', 'erp_change_percentage', 'natural_increase_count',\n",
       "       'net_internal_migration_count', 'net_overseas_migration_count',\n",
       "       'area_km2', 'pop_density_persons_km2', 'gov_age_pension_count_2023',\n",
       "       'gov_rent_assist_count_2023', 'personal_income_count_2020',\n",
       "       'personal_income_median_age_2020',\n",
       "       'personal_total_income_millions_2020',\n",
       "       'median_personal_total_income_2020', 'mean_personal_total_income_2020',\n",
       "       'gini_coef_2020'],\n",
       "      dtype='object')"
      ]
     },
     "execution_count": 46,
     "metadata": {},
     "output_type": "execute_result"
    }
   ],
   "source": [
    "import pandas as pd\n",
    "import matplotlib.pyplot as plt\n",
    "\n",
    "demographics = pd.read_csv('../data/raw/demographics.csv')\n",
    "demographics.columns"
   ]
  },
  {
   "attachments": {},
   "cell_type": "markdown",
   "metadata": {},
   "source": [
    "### Getting the Top 10 Suburbs for each Feature of Interest"
   ]
  },
  {
   "cell_type": "code",
   "execution_count": 47,
   "metadata": {},
   "outputs": [],
   "source": [
    "# Population columns\n",
    "top_suburbs_count = demographics.sort_values(by='erp_change_count', ascending=False).head(10)\n",
    "top_suburbs_percentage = demographics.sort_values(by='erp_change_percentage', ascending=False).head(10)\n",
    "top_pop_density = demographics.sort_values(by='pop_density_persons_km2', ascending=False).head(10)\n",
    "\n",
    "bottom_subrbs_count = demographics.sort_values(by='erp_change_count', ascending=True).head(10)\n",
    "bottom_suburbs_percentage = demographics.sort_values(by='erp_change_percentage', ascending=True).head(10)\n",
    "bottom_pop_density = demographics.sort_values(by='pop_density_persons_km2', ascending=True).head(10)\n",
    "\n",
    "# Income columns\n",
    "top_income_count = demographics.sort_values(by='personal_income_count_2020', ascending=False).head(10)\n",
    "top_income_median_age = demographics.sort_values(by='personal_income_median_age_2020', ascending=False).head(10)\n",
    "top_income_millions = demographics.sort_values(by='personal_total_income_millions_2020', ascending=False).head(10)\n",
    "top_median_income = demographics.sort_values(by='median_personal_total_income_2020', ascending=False).head(10)\n",
    "top_mean_income = demographics.sort_values(by='mean_personal_total_income_2020', ascending=False).head(10)\n",
    "\n",
    "bottom_income_count = demographics.sort_values(by='personal_income_count_2020', ascending=True).head(10)\n",
    "bottom_income_median_age = demographics.sort_values(by='personal_income_median_age_2020', ascending=True).head(10)\n",
    "bottom_income_millions = demographics.sort_values(by='personal_total_income_millions_2020', ascending=True).head(10)\n",
    "bottom_median_income = demographics.sort_values(by='median_personal_total_income_2020', ascending=True).head(10)\n",
    "bottom_mean_income = demographics.sort_values(by='mean_personal_total_income_2020', ascending=True).head(10)\n",
    "\n",
    "# Subsidy columns\n",
    "top_rent_assist = demographics.sort_values(by='gov_rent_assist_count_2023', ascending=False).head(10)\n",
    "top_pension = demographics.sort_values(by='gov_age_pension_count_2023', ascending=False).head(10)\n",
    "top_inequality = demographics.sort_values(by='gini_coef_2020', ascending=False).head(11)\n",
    "\n",
    "bottom_rent_assist = demographics.sort_values(by='gov_rent_assist_count_2023', ascending=True).head(10)\n",
    "bottom_pension = demographics.sort_values(by='gov_age_pension_count_2023', ascending=True).head(10)\n",
    "bottom_inequality = demographics.sort_values(by='gini_coef_2020', ascending=True).head(11)"
   ]
  },
  {
   "attachments": {},
   "cell_type": "markdown",
   "metadata": {},
   "source": [
    "### Population Analysis"
   ]
  },
  {
   "cell_type": "code",
   "execution_count": 48,
   "metadata": {},
   "outputs": [
    {
     "name": "stdout",
     "output_type": "stream",
     "text": [
      "                            sa2_name  erp_change_count\n",
      "422        Rockbank - Mount Cottrell            4299.0\n",
      "430           Fraser Rise - Plumpton            3429.0\n",
      "293               Mickleham - Yuroke            3408.0\n",
      "127                          Carlton            3319.0\n",
      "136            Melbourne CBD - North            2690.0\n",
      "137             Melbourne CBD - West            2684.0\n",
      "364              Clyde North - South            2679.0\n",
      "442                  Werribee - West            2608.0\n",
      "253                          Wollert            2514.0\n",
      "446  Tarneit (West) - Mount Cottrell            2199.0\n"
     ]
    },
    {
     "data": {
      "text/plain": [
       "\"\\n# Create the bar chart\\nplt.bar(top_suburbs_count['sa2_name'], top_suburbs_count['erp_change_count'])\\n\\n# Add titles and labels\\nplt.title('Top 10 Suburbs by Population Growth (2022-2023)')\\nplt.xlabel('Suburb')\\nplt.ylabel('Population Growth')\\n\\n# Rotate x-axis labels for better readability\\nplt.xticks(rotation=45, ha='right')\\n\\n# Display the bar chart\\nplt.tight_layout()\\nplt.show\\n\""
      ]
     },
     "execution_count": 48,
     "metadata": {},
     "output_type": "execute_result"
    }
   ],
   "source": [
    "print(top_suburbs_count[['sa2_name', 'erp_change_count']])\n",
    "\n",
    "'''\n",
    "# Create the bar chart\n",
    "plt.bar(top_suburbs_count['sa2_name'], top_suburbs_count['erp_change_count'])\n",
    "\n",
    "# Add titles and labels\n",
    "plt.title('Top 10 Suburbs by Population Growth (2022-2023)')\n",
    "plt.xlabel('Suburb')\n",
    "plt.ylabel('Population Growth')\n",
    "\n",
    "# Rotate x-axis labels for better readability\n",
    "plt.xticks(rotation=45, ha='right')\n",
    "\n",
    "# Display the bar chart\n",
    "plt.tight_layout()\n",
    "plt.show\n",
    "'''"
   ]
  },
  {
   "cell_type": "code",
   "execution_count": 49,
   "metadata": {},
   "outputs": [
    {
     "name": "stdout",
     "output_type": "stream",
     "text": [
      "                            sa2_name  erp_change_percentage\n",
      "430           Fraser Rise - Plumpton                   26.4\n",
      "448                  Tarneit - North                   18.9\n",
      "392   Clayton (North) - Notting Hill                   18.8\n",
      "422        Rockbank - Mount Cottrell                   18.7\n",
      "127                          Carlton                   18.4\n",
      "446  Tarneit (West) - Mount Cottrell                   16.8\n",
      "135             Melbourne CBD - East                   16.1\n",
      "137             Melbourne CBD - West                   15.5\n",
      "428        Cobblebank - Strathtulloh                   15.5\n",
      "364              Clyde North - South                   14.9\n"
     ]
    },
    {
     "data": {
      "text/plain": [
       "\"\\n# Create the bar chart\\nplt.bar(top_suburbs_percentage['sa2_name'], top_suburbs_percentage['erp_change_percentage'])\\n\\n# Add titles and labels\\nplt.title('Top 10 Suburbs by Population Growth Percentage (2022-2023)')\\nplt.xlabel('Suburb')\\nplt.ylabel('Population Growth Percentage (%)')\\n\\n# Rotate x-axis labels for better readability\\nplt.xticks(rotation=45, ha='right')\\n\\n# Display the bar chart\\nplt.tight_layout()\\nplt.show()\\n\""
      ]
     },
     "execution_count": 49,
     "metadata": {},
     "output_type": "execute_result"
    }
   ],
   "source": [
    "print(top_suburbs_percentage[['sa2_name', 'erp_change_percentage']])\n",
    "\n",
    "'''\n",
    "# Create the bar chart\n",
    "plt.bar(top_suburbs_percentage['sa2_name'], top_suburbs_percentage['erp_change_percentage'])\n",
    "\n",
    "# Add titles and labels\n",
    "plt.title('Top 10 Suburbs by Population Growth Percentage (2022-2023)')\n",
    "plt.xlabel('Suburb')\n",
    "plt.ylabel('Population Growth Percentage (%)')\n",
    "\n",
    "# Rotate x-axis labels for better readability\n",
    "plt.xticks(rotation=45, ha='right')\n",
    "\n",
    "# Display the bar chart\n",
    "plt.tight_layout()\n",
    "plt.show()\n",
    "'''"
   ]
  },
  {
   "cell_type": "code",
   "execution_count": 50,
   "metadata": {},
   "outputs": [
    {
     "name": "stdout",
     "output_type": "stream",
     "text": [
      "                           sa2_name  pop_density_persons_km2\n",
      "136           Melbourne CBD - North                  38401.0\n",
      "141                Southbank - East                  23318.4\n",
      "137            Melbourne CBD - West                  19925.4\n",
      "135            Melbourne CBD - East                  15471.3\n",
      "127                         Carlton                  11753.5\n",
      "154             South Yarra - North                  11061.9\n",
      "142    West Melbourne - Residential                  10578.4\n",
      "140  Southbank (West) - South Wharf                   8731.2\n",
      "149              St Kilda - Central                   8576.3\n",
      "159                         Fitzroy                   8334.4\n"
     ]
    },
    {
     "data": {
      "text/plain": [
       "\"\\n# Create the bar chart\\nplt.bar(top_pop_density['sa2_name'], top_pop_density['pop_density_persons_km2'])\\n\\n# Add titles and labels\\nplt.title('Top 10 Suburbs by Population Density')\\nplt.xlabel('Suburb')\\nplt.ylabel('Population Density')\\n\\n# Rotate x-axis labels for better readability\\nplt.xticks(rotation=45, ha='right')\\n\\n# Display the bar chart\\nplt.tight_layout()\\nplt.show()\\n\""
      ]
     },
     "execution_count": 50,
     "metadata": {},
     "output_type": "execute_result"
    }
   ],
   "source": [
    "print(top_pop_density[['sa2_name', 'pop_density_persons_km2']])\n",
    "\n",
    "'''\n",
    "# Create the bar chart\n",
    "plt.bar(top_pop_density['sa2_name'], top_pop_density['pop_density_persons_km2'])\n",
    "\n",
    "# Add titles and labels\n",
    "plt.title('Top 10 Suburbs by Population Density')\n",
    "plt.xlabel('Suburb')\n",
    "plt.ylabel('Population Density')\n",
    "\n",
    "# Rotate x-axis labels for better readability\n",
    "plt.xticks(rotation=45, ha='right')\n",
    "\n",
    "# Display the bar chart\n",
    "plt.tight_layout()\n",
    "plt.show()\n",
    "'''"
   ]
  },
  {
   "attachments": {},
   "cell_type": "markdown",
   "metadata": {},
   "source": [
    "### Income Analysis"
   ]
  },
  {
   "cell_type": "code",
   "execution_count": 51,
   "metadata": {},
   "outputs": [
    {
     "name": "stdout",
     "output_type": "stream",
     "text": [
      "                        sa2_name  personal_income_count_2020\n",
      "190              Brighton (Vic.)                     16061.0\n",
      "195         Bentleigh - McKinnon                     15433.0\n",
      "234                       Eltham                     14950.0\n",
      "177                    Doncaster                     14852.0\n",
      "459                   Langwarrin                     14805.0\n",
      "210  Highett (East) - Cheltenham                     14780.0\n",
      "152            Prahran - Windsor                     14750.0\n",
      "197            Caulfield - North                     14651.0\n",
      "41                       Highton                     14540.0\n",
      "216          Malvern - Glen Iris                     14476.0\n"
     ]
    },
    {
     "data": {
      "text/plain": [
       "\"\\n# Create the bar chart\\nplt.bar(top_income_count['sa2_name'], top_income_count['personal_income_count_2020'])\\n\\n# Add titles and labels\\nplt.title('Top 10 Suburbs by Number of People who Earn Income (2020)')\\nplt.xlabel('Suburb')\\nplt.ylabel('Count')\\n\\n# Rotate x-axis labels for better readability\\nplt.xticks(rotation=45, ha='right')\\n\\n# Display the bar chart\\nplt.tight_layout()\\nplt.show()\\n\""
      ]
     },
     "execution_count": 51,
     "metadata": {},
     "output_type": "execute_result"
    }
   ],
   "source": [
    "print(top_income_count[['sa2_name', 'personal_income_count_2020']])\n",
    "\n",
    "'''\n",
    "# Create the bar chart\n",
    "plt.bar(top_income_count['sa2_name'], top_income_count['personal_income_count_2020'])\n",
    "\n",
    "# Add titles and labels\n",
    "plt.title('Top 10 Suburbs by Number of People who Earn Income (2020)')\n",
    "plt.xlabel('Suburb')\n",
    "plt.ylabel('Count')\n",
    "\n",
    "# Rotate x-axis labels for better readability\n",
    "plt.xticks(rotation=45, ha='right')\n",
    "\n",
    "# Display the bar chart\n",
    "plt.tight_layout()\n",
    "plt.show()\n",
    "'''"
   ]
  },
  {
   "cell_type": "code",
   "execution_count": 52,
   "metadata": {},
   "outputs": [
    {
     "name": "stdout",
     "output_type": "stream",
     "text": [
      "                         sa2_name  personal_income_median_age_2020\n",
      "105                   Alps - West                             59.0\n",
      "93                  French Island                             57.0\n",
      "54   Point Lonsdale - Queenscliff                             57.0\n",
      "463                      Flinders                             55.0\n",
      "91                    Paynesville                             55.0\n",
      "53                  Portarlington                             54.0\n",
      "52               Lorne - Anglesea                             53.0\n",
      "68              Benalla Surrounds                             52.0\n",
      "59                          Euroa                             52.0\n",
      "206                      Braeside                             52.0\n"
     ]
    },
    {
     "data": {
      "text/plain": [
       "\"\\n# Create the bar chart\\nplt.bar(top_income_median_age['sa2_name'], top_income_median_age['personal_income_median_age_2020'])\\n\\n# Add titles and labels\\nplt.title('Top 10 Suburbs by Median Age of Income Earners (2020)')\\nplt.xlabel('Suburb')\\nplt.ylabel('Median Age')\\n\\n# Rotate x-axis labels for better readability\\nplt.xticks(rotation=45, ha='right')\\n\\n# Display the bar chart\\nplt.tight_layout()\\nplt.show()\\n\""
      ]
     },
     "execution_count": 52,
     "metadata": {},
     "output_type": "execute_result"
    }
   ],
   "source": [
    "print(top_income_median_age[['sa2_name', 'personal_income_median_age_2020']])\n",
    "\n",
    "'''\n",
    "# Create the bar chart\n",
    "plt.bar(top_income_median_age['sa2_name'], top_income_median_age['personal_income_median_age_2020'])\n",
    "\n",
    "# Add titles and labels\n",
    "plt.title('Top 10 Suburbs by Median Age of Income Earners (2020)')\n",
    "plt.xlabel('Suburb')\n",
    "plt.ylabel('Median Age')\n",
    "\n",
    "# Rotate x-axis labels for better readability\n",
    "plt.xticks(rotation=45, ha='right')\n",
    "\n",
    "# Display the bar chart\n",
    "plt.tight_layout()\n",
    "plt.show()\n",
    "'''"
   ]
  },
  {
   "cell_type": "code",
   "execution_count": 53,
   "metadata": {},
   "outputs": [
    {
     "name": "stdout",
     "output_type": "stream",
     "text": [
      "                             sa2_name  personal_total_income_millions_2020\n",
      "190                   Brighton (Vic.)                               2244.0\n",
      "153                            Toorak                               1777.4\n",
      "216               Malvern - Glen Iris                               1743.8\n",
      "167                        Camberwell                               1490.8\n",
      "217                      Malvern East                               1435.5\n",
      "197                 Caulfield - North                               1435.4\n",
      "143                       Albert Park                               1392.2\n",
      "152                 Prahran - Windsor                               1339.8\n",
      "171  Surrey Hills (West) - Canterbury                               1257.3\n",
      "195              Bentleigh - McKinnon                               1217.2\n"
     ]
    },
    {
     "data": {
      "text/plain": [
       "\"\\n# Create the bar chart\\nplt.bar(top_income_millions['sa2_name'], top_income_millions['personal_total_income_millions_2020'])\\n\\n# Add titles and labels\\nplt.title('Top 10 Suburbs by Total Income in Millions (2020)')\\nplt.xlabel('Suburb')\\nplt.ylabel('Income in Millions ($)')\\n\\n# Rotate x-axis labels for better readability\\nplt.xticks(rotation=45, ha='right')\\n\\n# Display the bar chart\\nplt.tight_layout()\\nplt.show()\\n\""
      ]
     },
     "execution_count": 53,
     "metadata": {},
     "output_type": "execute_result"
    }
   ],
   "source": [
    "print(top_income_millions[['sa2_name', 'personal_total_income_millions_2020']])\n",
    "\n",
    "'''\n",
    "# Create the bar chart\n",
    "plt.bar(top_income_millions['sa2_name'], top_income_millions['personal_total_income_millions_2020'])\n",
    "\n",
    "# Add titles and labels\n",
    "plt.title('Top 10 Suburbs by Total Income in Millions (2020)')\n",
    "plt.xlabel('Suburb')\n",
    "plt.ylabel('Income in Millions ($)')\n",
    "\n",
    "# Rotate x-axis labels for better readability\n",
    "plt.xticks(rotation=45, ha='right')\n",
    "\n",
    "# Display the bar chart\n",
    "plt.tight_layout()\n",
    "plt.show()\n",
    "'''"
   ]
  },
  {
   "cell_type": "code",
   "execution_count": 54,
   "metadata": {},
   "outputs": [
    {
     "name": "stdout",
     "output_type": "stream",
     "text": [
      "                        sa2_name  median_personal_total_income_2020\n",
      "134  West Melbourne - Industrial                            90927.0\n",
      "145               Port Melbourne                            78187.0\n",
      "129               East Melbourne                            77804.0\n",
      "153                       Toorak                            74766.0\n",
      "97            Wilsons Promontory                            73640.0\n",
      "411                      Newport                            72348.0\n",
      "151                     Armadale                            72012.0\n",
      "161    Clifton Hill - Alphington                            71765.0\n",
      "419                   Yarraville                            71512.0\n",
      "131            Kensington (Vic.)                            70336.0\n"
     ]
    },
    {
     "data": {
      "text/plain": [
       "\"\\n# Create the bar chart\\nplt.bar(top_median_income['sa2_name'], top_median_income['median_personal_total_income_2020'])\\n\\n# Add titles and labels\\nplt.title('Top 10 Suburbs by Median Income (2020)')\\nplt.xlabel('Suburb')\\nplt.ylabel('Median Income ($)')\\n\\n# Rotate x-axis labels for better readability\\nplt.xticks(rotation=45, ha='right')\\n\\n# Display the bar chart\\nplt.tight_layout()\\nplt.show()\\n\""
      ]
     },
     "execution_count": 54,
     "metadata": {},
     "output_type": "execute_result"
    }
   ],
   "source": [
    "print(top_median_income[['sa2_name', 'median_personal_total_income_2020']])\n",
    "\n",
    "'''\n",
    "# Create the bar chart\n",
    "plt.bar(top_median_income['sa2_name'], top_median_income['median_personal_total_income_2020'])\n",
    "\n",
    "# Add titles and labels\n",
    "plt.title('Top 10 Suburbs by Median Income (2020)')\n",
    "plt.xlabel('Suburb')\n",
    "plt.ylabel('Median Income ($)')\n",
    "\n",
    "# Rotate x-axis labels for better readability\n",
    "plt.xticks(rotation=45, ha='right')\n",
    "\n",
    "# Display the bar chart\n",
    "plt.tight_layout()\n",
    "plt.show()\n",
    "'''"
   ]
  },
  {
   "cell_type": "code",
   "execution_count": 55,
   "metadata": {},
   "outputs": [
    {
     "name": "stdout",
     "output_type": "stream",
     "text": [
      "                             sa2_name  mean_personal_total_income_2020\n",
      "153                            Toorak                         179140.0\n",
      "190                   Brighton (Vic.)                         139718.0\n",
      "129                    East Melbourne                         136633.0\n",
      "133                South Yarra - West                         130661.0\n",
      "216               Malvern - Glen Iris                         120464.0\n",
      "143                       Albert Park                         119226.0\n",
      "151                          Armadale                         114804.0\n",
      "171  Surrey Hills (West) - Canterbury                         113248.0\n",
      "223          Ivanhoe East - Eaglemont                         112895.0\n",
      "145                    Port Melbourne                         108763.0\n"
     ]
    },
    {
     "data": {
      "text/plain": [
       "\"\\n# Create the bar chart\\nplt.bar(top_mean_income['sa2_name'], top_mean_income['mean_personal_total_income_2020'])\\n\\n# Add titles and labels\\nplt.title('Top 10 Suburbs by Mean Income (2020)')\\nplt.xlabel('Suburb')\\nplt.ylabel('Mean Income ($)')\\n\\n# Rotate x-axis labels for better readability\\nplt.xticks(rotation=45, ha='right')\\n\\n# Display the bar chart\\nplt.tight_layout()\\nplt.show()\\n\""
      ]
     },
     "execution_count": 55,
     "metadata": {},
     "output_type": "execute_result"
    }
   ],
   "source": [
    "print(top_mean_income[['sa2_name', 'mean_personal_total_income_2020']])\n",
    "\n",
    "'''\n",
    "# Create the bar chart\n",
    "plt.bar(top_mean_income['sa2_name'], top_mean_income['mean_personal_total_income_2020'])\n",
    "\n",
    "# Add titles and labels\n",
    "plt.title('Top 10 Suburbs by Mean Income (2020)')\n",
    "plt.xlabel('Suburb')\n",
    "plt.ylabel('Mean Income ($)')\n",
    "\n",
    "# Rotate x-axis labels for better readability\n",
    "plt.xticks(rotation=45, ha='right')\n",
    "\n",
    "# Display the bar chart\n",
    "plt.tight_layout()\n",
    "plt.show()\n",
    "'''"
   ]
  },
  {
   "attachments": {},
   "cell_type": "markdown",
   "metadata": {},
   "source": [
    "### Subsidy Analysis"
   ]
  },
  {
   "cell_type": "code",
   "execution_count": 56,
   "metadata": {},
   "outputs": [
    {
     "name": "stdout",
     "output_type": "stream",
     "text": [
      "                          sa2_name  gov_rent_assist_count_2023\n",
      "380              Dandenong - North                      2593.0\n",
      "456                      Frankston                      2370.0\n",
      "101                        Morwell                      1868.0\n",
      "23   Kangaroo Flat - Golden Square                      1842.0\n",
      "457                Frankston North                      1772.0\n",
      "507        Shepparton - South East                      1717.0\n",
      "98           Wonthaggi - Inverloch                      1712.0\n",
      "434      Melton South - Weir Views                      1697.0\n",
      "464              Hastings - Somers                      1692.0\n",
      "468               Rosebud - McCrae                      1654.0\n"
     ]
    },
    {
     "data": {
      "text/plain": [
       "\"\\n# Create the bar chart\\nplt.bar(top_rent_assist['sa2_name'], top_rent_assist['gov_rent_assist_count_2023'])\\n\\n# Add titles and labels\\nplt.title('Top 10 Suburbs by Number of People who Require Rent Assistance')\\nplt.xlabel('Suburb')\\nplt.ylabel('Count')\\n\\n# Rotate x-axis labels for better readability\\nplt.xticks(rotation=45, ha='right')\\n\\n# Display the bar chart\\nplt.tight_layout()\\nplt.show()\\n\""
      ]
     },
     "execution_count": 56,
     "metadata": {},
     "output_type": "execute_result"
    }
   ],
   "source": [
    "print(top_rent_assist[['sa2_name', 'gov_rent_assist_count_2023']])\n",
    "\n",
    "'''\n",
    "# Create the bar chart\n",
    "plt.bar(top_rent_assist['sa2_name'], top_rent_assist['gov_rent_assist_count_2023'])\n",
    "\n",
    "# Add titles and labels\n",
    "plt.title('Top 10 Suburbs by Number of People who Require Rent Assistance')\n",
    "plt.xlabel('Suburb')\n",
    "plt.ylabel('Count')\n",
    "\n",
    "# Rotate x-axis labels for better readability\n",
    "plt.xticks(rotation=45, ha='right')\n",
    "\n",
    "# Display the bar chart\n",
    "plt.tight_layout()\n",
    "plt.show()\n",
    "'''"
   ]
  },
  {
   "cell_type": "code",
   "execution_count": 57,
   "metadata": {},
   "outputs": [
    {
     "name": "stdout",
     "output_type": "stream",
     "text": [
      "                          sa2_name  gov_age_pension_count_2023\n",
      "468               Rosebud - McCrae                      4834.0\n",
      "98           Wonthaggi - Inverloch                      4823.0\n",
      "23   Kangaroo Flat - Golden Square                      3542.0\n",
      "245                     Thomastown                      3299.0\n",
      "464              Hastings - Somers                      3290.0\n",
      "70                      Wangaratta                      3203.0\n",
      "49        Grovedale - Mount Duneed                      2929.0\n",
      "100               Moe - Newborough                      2884.0\n",
      "520            Warrnambool - North                      2842.0\n",
      "373                Dandenong North                      2823.0\n"
     ]
    },
    {
     "data": {
      "text/plain": [
       "\"\\n# Create the bar chart\\nplt.bar(top_pension['sa2_name'], top_pension['gov_age_pension_count_2023'])\\n\\n# Add titles and labels\\nplt.title('Top 10 Suburbs by Number of People who are on Age Pension')\\nplt.xlabel('Suburb')\\nplt.ylabel('Count')\\n\\n# Rotate x-axis labels for better readability\\nplt.xticks(rotation=45, ha='right')\\n\\n# Display the bar chart\\nplt.tight_layout()\\nplt.show()\\n\""
      ]
     },
     "execution_count": 57,
     "metadata": {},
     "output_type": "execute_result"
    }
   ],
   "source": [
    "print(top_pension[['sa2_name', 'gov_age_pension_count_2023']])\n",
    "\n",
    "'''\n",
    "# Create the bar chart\n",
    "plt.bar(top_pension['sa2_name'], top_pension['gov_age_pension_count_2023'])\n",
    "\n",
    "# Add titles and labels\n",
    "plt.title('Top 10 Suburbs by Number of People who are on Age Pension')\n",
    "plt.xlabel('Suburb')\n",
    "plt.ylabel('Count')\n",
    "\n",
    "# Rotate x-axis labels for better readability\n",
    "plt.xticks(rotation=45, ha='right')\n",
    "\n",
    "# Display the bar chart\n",
    "plt.tight_layout()\n",
    "plt.show()\n",
    "'''"
   ]
  },
  {
   "cell_type": "code",
   "execution_count": 58,
   "metadata": {},
   "outputs": [
    {
     "name": "stdout",
     "output_type": "stream",
     "text": [
      "                             sa2_name  gini_coef_2020\n",
      "26                White Hills - Ascot           1.511\n",
      "153                            Toorak           0.709\n",
      "110                            Yarram           0.648\n",
      "190                   Brighton (Vic.)           0.643\n",
      "133                South Yarra - West           0.625\n",
      "463                          Flinders           0.616\n",
      "483                 Mildura Surrounds           0.613\n",
      "171  Surrey Hills (West) - Canterbury           0.610\n",
      "129                    East Melbourne           0.607\n",
      "143                       Albert Park           0.607\n",
      "165                            Balwyn           0.598\n"
     ]
    },
    {
     "data": {
      "text/plain": [
       "\"\\n# Create the bar chart\\nplt.bar(top_inequality['sa2_name'], top_inequality['gini_coef_2020'])\\n\\n# Add titles and labels\\nplt.title('Top 11 Suburbs by Income Inequality (2020)')\\nplt.xlabel('Suburb')\\nplt.ylabel('Gini Coefficient') # 0 < x < 1, where 1 is maximum income inequality\\n\\n# Rotate x-axis labels for better readability\\nplt.xticks(rotation=45, ha='right')\\n\\n# Display the bar chart\\nplt.tight_layout()\\nplt.show()\\n\""
      ]
     },
     "execution_count": 58,
     "metadata": {},
     "output_type": "execute_result"
    }
   ],
   "source": [
    "print(top_inequality[['sa2_name', 'gini_coef_2020']])\n",
    "\n",
    "'''\n",
    "# Create the bar chart\n",
    "plt.bar(top_inequality['sa2_name'], top_inequality['gini_coef_2020'])\n",
    "\n",
    "# Add titles and labels\n",
    "plt.title('Top 11 Suburbs by Income Inequality (2020)')\n",
    "plt.xlabel('Suburb')\n",
    "plt.ylabel('Gini Coefficient') # 0 < x < 1, where 1 is maximum income inequality\n",
    "\n",
    "# Rotate x-axis labels for better readability\n",
    "plt.xticks(rotation=45, ha='right')\n",
    "\n",
    "# Display the bar chart\n",
    "plt.tight_layout()\n",
    "plt.show()\n",
    "'''"
   ]
  }
 ],
 "metadata": {
  "kernelspec": {
   "display_name": "base",
   "language": "python",
   "name": "python3"
  },
  "language_info": {
   "codemirror_mode": {
    "name": "ipython",
    "version": 3
   },
   "file_extension": ".py",
   "mimetype": "text/x-python",
   "name": "python",
   "nbconvert_exporter": "python",
   "pygments_lexer": "ipython3",
   "version": "3.11.7"
  },
  "orig_nbformat": 4
 },
 "nbformat": 4,
 "nbformat_minor": 2
}
