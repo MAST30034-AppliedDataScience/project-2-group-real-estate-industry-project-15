{
 "cells": [
  {
   "cell_type": "code",
   "execution_count": 2,
   "metadata": {},
   "outputs": [],
   "source": [
    "import geopandas as gpd\n",
    "import pandas as pd\n",
    "import matplotlib.pyplot as plt\n",
    "import contextily as ctx"
   ]
  },
  {
   "cell_type": "code",
   "execution_count": null,
   "metadata": {},
   "outputs": [],
   "source": []
  },
  {
   "cell_type": "markdown",
   "metadata": {},
   "source": [
    "Visualise top 10 primary schools and secondary schools on school zones map"
   ]
  },
  {
   "cell_type": "markdown",
   "metadata": {},
   "source": [
    "Heat map for suburbs with the highest ranking schools "
   ]
  },
  {
   "cell_type": "code",
   "execution_count": null,
   "metadata": {},
   "outputs": [],
   "source": []
  },
  {
   "cell_type": "code",
   "execution_count": 1,
   "metadata": {},
   "outputs": [
    {
     "ename": "NameError",
     "evalue": "name 'gpd' is not defined",
     "output_type": "error",
     "traceback": [
      "\u001b[0;31m---------------------------------------------------------------------------\u001b[0m",
      "\u001b[0;31mNameError\u001b[0m                                 Traceback (most recent call last)",
      "Cell \u001b[0;32mIn[1], line 1\u001b[0m\n\u001b[0;32m----> 1\u001b[0m final_suburb_counts \u001b[38;5;241m=\u001b[39m \u001b[43mgpd\u001b[49m\u001b[38;5;241m.\u001b[39mread_file(\u001b[38;5;124m\"\u001b[39m\u001b[38;5;124m../data/curated/education_df.csv\u001b[39m\u001b[38;5;124m\"\u001b[39m)\n\u001b[1;32m      2\u001b[0m primary_schools_df_final \u001b[38;5;241m=\u001b[39m gpd\u001b[38;5;241m.\u001b[39mread_file(\u001b[38;5;124m\"\u001b[39m\u001b[38;5;124m../data/raw/primary_school_locations.csv\u001b[39m\u001b[38;5;124m\"\u001b[39m)\n\u001b[1;32m      3\u001b[0m final_secondary_schools_df \u001b[38;5;241m=\u001b[39m gpd\u001b[38;5;241m.\u001b[39mread_file(\u001b[38;5;124m\"\u001b[39m\u001b[38;5;124m../data/raw/secondary_school_locations.csv\u001b[39m\u001b[38;5;124m\"\u001b[39m)\n",
      "\u001b[0;31mNameError\u001b[0m: name 'gpd' is not defined"
     ]
    }
   ],
   "source": [
    "final_suburb_counts = gpd.read_file(\"../data/curated/education_df.csv\")\n",
    "primary_schools_df_final = gpd.read_file(\"../data/raw/primary_school_locations.csv\")\n",
    "final_secondary_schools_df = gpd.read_file(\"../data/raw/secondary_school_locations.csv\")"
   ]
  },
  {
   "cell_type": "code",
   "execution_count": null,
   "metadata": {},
   "outputs": [],
   "source": [
    "\n",
    "\n",
    "# Step 1: Load the shapefile\n",
    "vic_suburbs = gpd.read_file(\"../data/landing/LOCALITY_POLYGON.shp\")\n",
    "\n",
    "# Step 2: Merge the shapefile with your final dataframe\n",
    "# Ensure suburb names are matched correctly by converting to lowercase and stripping whitespace\n",
    "vic_suburbs['suburb'] = vic_suburbs['suburb'].str.lower().str.strip()\n",
    "final_suburb_counts['suburb'] = final_suburb_counts['suburb'].str.lower().str.strip()\n",
    "\n",
    "# Merge the shapefile with the education data\n",
    "vic_education_gdf = vic_suburbs.merge(final_suburb_counts, on='suburb', how='left')\n",
    "\n",
    "# Step 3: Calculate total education density (counts of institutions)\n",
    "vic_education_gdf['education_density'] = vic_education_gdf['total_education_count'] / vic_education_gdf.area\n",
    "\n",
    "# Step 4: Find top 10 primary and secondary schools by rank\n",
    "top_primary_schools = primary_schools_df_final.nsmallest(10, 'rank')\n",
    "top_secondary_schools = final_secondary_schools_df.nsmallest(10, 'rank')\n",
    "\n",
    "# Step 5: Create the heatmap\n",
    "fig, ax = plt.subplots(1, 1, figsize=(12, 12))\n",
    "\n",
    "# Plot the education density as a heatmap\n",
    "vic_education_gdf.plot(column='education_density', cmap='OrRd', linewidth=0.8, ax=ax, edgecolor='0.8', legend=True)\n",
    "\n",
    "# Plot top primary schools on the map\n",
    "plt.scatter(top_primary_schools['longitude'], top_primary_schools['latitude'], color='blue', label='Top Primary Schools', s=50)\n",
    "\n",
    "# Plot top secondary schools on the map\n",
    "plt.scatter(top_secondary_schools['longitude'], top_secondary_schools['latitude'], color='green', label='Top Secondary Schools', s=50)\n",
    "\n",
    "# Label top primary schools\n",
    "for idx, row in top_primary_schools.iterrows():\n",
    "    ax.text(row['longitude'], row['latitude'], row['school_name'], fontsize=8, color='blue')\n",
    "\n",
    "# Label top secondary schools\n",
    "for idx, row in top_secondary_schools.iterrows():\n",
    "    ax.text(row['longitude'], row['latitude'], row['school_name'], fontsize=8, color='green')\n",
    "\n",
    "# Set plot title and legend\n",
    "plt.title('Education Institution Density by Suburb in Victoria')\n",
    "plt.legend(loc='upper right')\n",
    "\n",
    "# Display the plot\n",
    "plt.show()"
   ]
  },
  {
   "cell_type": "markdown",
   "metadata": {},
   "source": [
    "Create table for tertiary education counts per suburb"
   ]
  },
  {
   "cell_type": "code",
   "execution_count": null,
   "metadata": {},
   "outputs": [],
   "source": []
  },
  {
   "cell_type": "markdown",
   "metadata": {},
   "source": [
    "Calculate distance from property to nearest primary school / secondary school"
   ]
  },
  {
   "cell_type": "code",
   "execution_count": 17,
   "metadata": {},
   "outputs": [],
   "source": [
    "sample_properties = pd.read_csv('../data/landing/sample.csv')"
   ]
  },
  {
   "cell_type": "code",
   "execution_count": null,
   "metadata": {},
   "outputs": [],
   "source": []
  }
 ],
 "metadata": {
  "kernelspec": {
   "display_name": ".venv",
   "language": "python",
   "name": "python3"
  },
  "language_info": {
   "codemirror_mode": {
    "name": "ipython",
    "version": 3
   },
   "file_extension": ".py",
   "mimetype": "text/x-python",
   "name": "python",
   "nbconvert_exporter": "python",
   "pygments_lexer": "ipython3",
   "version": "3.12.4"
  }
 },
 "nbformat": 4,
 "nbformat_minor": 2
}
