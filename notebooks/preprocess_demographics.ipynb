{
 "cells": [
  {
   "attachments": {},
   "cell_type": "markdown",
   "metadata": {},
   "source": [
    "Before running this notebook, ensure that you have ran `population_scrape.py` under the `scripts` directory.\n",
    "\n",
    "Also, ensure that you have downloaded the income dataset from this [link](https://digital.atlas.gov.au/datasets/digitalatlas::abs-income-including-government-allowances-by-2021-sa2-nov-2023/about) in csv format and put it in the data/landing folder, naming it `income.csv`.\n",
    "\n",
    "Alternatively, you can download the income dataset directly from this [link](https://drive.google.com/file/d/1EsVPIq_NF0rvhAM29zp2ytJtxiufnqNN/view?usp=sharing). Note that only UniMelb accounts can this second link"
   ]
  },
  {
   "attachments": {},
   "cell_type": "markdown",
   "metadata": {},
   "source": [
    "### Import Libraries & Read in Files"
   ]
  },
  {
   "cell_type": "code",
   "execution_count": 1,
   "metadata": {},
   "outputs": [],
   "source": [
    "import warnings\n",
    "import pandas as pd\n",
    "import geopandas as gpd\n",
    "import re\n",
    "\n",
    "# Suppress all warnings\n",
    "warnings.filterwarnings('ignore')\n",
    "\n",
    "income = pd.read_csv('../data/landing/income.csv')\n",
    "population = pd.read_csv('../data/landing/population.csv')"
   ]
  },
  {
   "cell_type": "markdown",
   "metadata": {},
   "source": [
    "### Feature Selection & Column Renaming for Income Dataset"
   ]
  },
  {
   "cell_type": "code",
   "execution_count": 2,
   "metadata": {},
   "outputs": [],
   "source": [
    "# Define regex patterns to extract only the columns that we want\n",
    "gov_pensions_regex = r'^Government pensions and allowances: (Age pension|Commonwealth rent assistance)'\n",
    "\n",
    "total_income_regex = (\n",
    "    r'^Personal income: (Total income earners|Median total income|Mean total income|Total income)'\n",
    "    r' \\(excl\\. Government pensions and allowances\\)(?!.*(Income share|Quartile|p))'\n",
    ")\n",
    "\n",
    "# Find the relevant columns using regex patterns\n",
    "gov_pensions_columns = income.filter(regex=gov_pensions_regex).columns\n",
    "total_income_columns = income.filter(regex=total_income_regex).columns\n",
    "\n",
    "sa2_name  = ['Statistical Areas Level 2 2021 name']\n",
    "\n",
    "# Combine all selected columns\n",
    "selected_columns =  sa2_name + list(gov_pensions_columns) + list(total_income_columns)\n",
    "\n",
    "# Filter to include only the selected features\n",
    "filtered_income = income[selected_columns]\n",
    "\n",
    "# Renaming columns\n",
    "new_income_names = {\n",
    "    'Statistical Areas Level 2 2021 name': 'sa2_name',\n",
    "    'Government pensions and allowances: Age pension (no.) (Data year: 2023)': 'gov_age_pension_count_2023',\n",
    "    'Government pensions and allowances: Commonwealth rent assistance (no.) (Data year: 2023)': 'gov_rent_assist_count_2023',\n",
    "    'Personal income: Total income earners (excl. Government pensions and allowances)(no.) (Data year: 2020)': 'personal_income_count_2020',\n",
    "    'Personal income: Total income earners (excl. Government pensions and allowances): Median age (years) (Data year: 2020)': 'personal_income_median_age_2020',\n",
    "    'Personal income: Total income (excl. Government pensions and allowances) ($m) (Data year: 2020)': 'personal_total_income_millions_2020',\n",
    "    'Personal income: Median total income (excl. Government pensions and allowances) ($) (Data year: 2020)': 'median_personal_total_income_2020',\n",
    "    'Personal income: Mean total income (excl. Government pensions and allowances) ($) (Data year: 2020)': 'mean_personal_total_income_2020',\n",
    "    'Personal income: Total income (excl. Government pensions and allowances): Gini coefficient (Data year: 2020)' : 'gini_coef_2020'\n",
    "}\n",
    "\n",
    "filtered_income.rename(columns=new_income_names, inplace=True)\n",
    "\n",
    "# Get rid of trailing whitespaces for matching\n",
    "filtered_income['sa2_name'] = filtered_income['sa2_name'].str.rstrip()"
   ]
  },
  {
   "attachments": {},
   "cell_type": "markdown",
   "metadata": {},
   "source": [
    "### Feature Selection & Column Renaming for Population Dataset"
   ]
  },
  {
   "cell_type": "code",
   "execution_count": 3,
   "metadata": {},
   "outputs": [],
   "source": [
    "# Removing irrelevant columns\n",
    "columns_to_drop = ['GCCSA code', 'GCCSA name', 'SA4 code', 'SA4 name', 'SA3 code', 'SA3 name']\n",
    "population = population.drop(columns_to_drop, axis=1)\n",
    "\n",
    "# Rename columns\n",
    "new_population_cols = {\n",
    "    'SA2 code': 'sa2_code',\n",
    "    'SA2 name': 'sa2_name',\n",
    "    'ERP at 30 June 2022 no.': 'erp_june_2022_count',\n",
    "    'ERP at 30 June 2023 no.': 'erp_june_2023_count',\n",
    "    'ERP change 2022-23 no.': 'erp_change_count',\n",
    "    'ERP change 2022-23 %': 'erp_change_percentage',\n",
    "    'Components of population change 2022-23 Natural increase no.': 'natural_increase_count',\n",
    "    'Components of population change 2022-23 Net internal migration no.': 'net_internal_migration_count',\n",
    "    'Components of population change 2022-23 Net overseas migration no.': 'net_overseas_migration_count',\n",
    "    'Area (km2)': 'area_km2',\n",
    "    'Population density 2023 (persons/km2)': 'pop_density_persons_km2'\n",
    "}\n",
    "\n",
    "population.rename(columns=new_population_cols, inplace=True)\n",
    "\n",
    "# Drop empty / invalid SA2 names or codes\n",
    "population = population[~population['sa2_code'].isna()]\n",
    "population = population[~population['sa2_name'].isna()]\n",
    "\n",
    "# Remove SA2 code as we don't need it anymore\n",
    "population = population.drop('sa2_code', axis=1)\n",
    "\n",
    "# Get rid of trailing whitespaces for matching\n",
    "population['sa2_name'] = population['sa2_name'].str.rstrip()"
   ]
  },
  {
   "cell_type": "markdown",
   "metadata": {},
   "source": [
    "### Merge Population & Income Dataset"
   ]
  },
  {
   "cell_type": "code",
   "execution_count": 4,
   "metadata": {},
   "outputs": [],
   "source": [
    "demographics = pd.merge(population, filtered_income, on='sa2_name')\n",
    "\n",
    "# Ensuring consistent schema\n",
    "integer_cols = ['erp_june_2022_count', 'erp_june_2023_count', 'erp_change_count', 'natural_increase_count', 'net_internal_migration_count', 'net_overseas_migration_count', 'gov_age_pension_count_2023', 'gov_rent_assist_count_2023', 'personal_income_count_2020', 'personal_income_median_age_2020']\n",
    "demographics[integer_cols] = demographics[integer_cols].astype('Int64')\n",
    "\n",
    "demographics['sa2_name'] = demographics['sa2_name'].astype('str')\n",
    "demographics['sa2_name'] = demographics['sa2_name'].str.lower()\n",
    "\n",
    "# Save to csv\n",
    "demographics.to_csv('../data/raw/demographics.csv', index=False)"
   ]
  },
  {
   "cell_type": "code",
   "execution_count": 6,
   "metadata": {},
   "outputs": [
    {
     "name": "stdout",
     "output_type": "stream",
     "text": [
      "['mollongghip', 'north blackwood', 'basalt', 'llanelly', 'murrabit west', 'springfield', 'waitchie', 'straten', 'gowanford', 'kunat', 'murrabit', 'lake charm', 'myall', 'pomonal', 'kenley', 'wandown', 'towan', 'bonnie doon', 'terip terip', 'emerald', 'healesville', 'thalloo', 'princetown', 'murrawee', 'natya', 'musk vale', 'piangil', 'beverford', 'cocamba', 'brucknell', 'ada', 'west wodonga', 'lerderderg', 'castle donnington', 'korweinguboora', 'robinvale', 'rocklyn', 'stanley', 'buffalo river', 'barrakee', 'silvan', 'kooloonong', 'bullarto south', 'bannerton', 'french island', 'wodonga', 'northwood', 'sandringham', 'monbulk', 'broadlands', 'metung', 'narrung', 'nyrraby', 'kiewa', 'grenville', 'lake powell', 'boundary bend', 'laceby', 'dooen', 'pimpinio', 'haven', 'brighton', 'lower norton', 'horsham', 'bungalally', 'drung', 'mckenzie creek', 'glendonald', 'kyvalley', 'speed', 'ultima', 'tresco', 'wangandary', 'oxley flats', 'tyenna', 'echuca', 'elaine', 'denver', 'nyah', 'turriff', 'tresco west', 'lascelles', 'nichols point', 'riverside', 'vectis', 'oakleigh south', 'chinkapook', 'turoar', 'cobungra', 'chinangin', 'nyarrin', 'jan juc', 'ultima east', 'lake boga', 'winlaton', 'nyah west', 'torquay', 'bells beach', 'boigbeat', 'heathmont', 'bayswater', 'clydesdale', 'ringwood', 'wantirna', 'bayswater north', 'blind bight', 'tyrrell', 'turriff east', 'goschen', 'beaumaris', 'clunes', 'newlyn north', 'reservoir', 'modella', 'mulgrave', 'dandenong north', 'wheelers hill', 'scoresby', 'preston', 'barkstead', 'springmount', 'willenabrina', 'kyabram', 'echuca village', 'shepherds flat', 'bulga', 'fairley', 'polisbet', 'nowie', 'bimbourie', 'swan hill west', 'cannie', 'eganstown', 'marlbed', 'glendaruel', 'creswick north', 'allendale', 'bolton', 'clayton', 'milnes bridge', 'pine view', 'macorna north', 'curyo', 'burkes bridge', 'flaggy creek', 'ulupna', 'lake tyers', 'speewa', 'lardner', 'yaapeet', 'glengower', 'chapel flat', 'lalbert', 'bael bael', 'sandhill lake', 'normanville', 'merton', 'musk', 'sailors hill', 'lawrence', 'murraydale', 'budgerum east', 'mywee', 'rosebery', 'berriwillock', 'koondrook', 'wangie', 'watchupga', 'albacutya', 'kenmare', 'murnungin', 'teal point', 'willangie', 'beauchamp', 'koroop', 'banyan', 'woomelang', 'westby', 'quandong', 'beulah', 'yielima', 'leitchville', 'barmah', 'hopetoun', 'reedy dam', 'meatian', 'gonn crossing', 'little river', 'karyrie', 'ballapur', 'balliang', 'torrumbarry', 'macorna', 'kinnabulla', 'kardella south', 'waaia', 'wee wee rup', 'appin', 'torwood', 'telopea downs', 'minyip', 'rupanyup', 'thomson', 'appin south', 'birchip', 'mincha', 'canary island', 'loddon vale', 'narraport', 'birchip west', 'moolort', 'lubeck', 'st helens plains', 'majorca', 'carisbrook', 'walmer', 'porepunkah', 'towong', 'lower moira', 'maldon', 'picola west', 'youarang', 'walwa', 'thologolong', 'gladfield', 'nareewillock', 'yanac', 'norong', 'wharparilla', 'granya', 'katandra', 'horfield', 'mincha west', 'gunbower', 'nathalia', 'sylvaterre', 'netherby', 'bundalong', 'telford', 'brimin', 'yarrawonga south', 'morton plains', 'guys forest', 'warmur', 'jungaburra', 'burramine south', 'bangerang', 'jarvis creek', 'boorhaman east', 'glenloth east', 'cudgewa', 'kinglake central', 'cowleys creek', 'pyramid hill', 'kotta', 'pine mountain', 'bungil', 'wilkur', 'corack east', 'crymelon', 'chirrip', 'echuca west', 'eldorado', 'mingay', 'georges creek', 'bullioh', 'watchem', 'berringama', 'broughton', 'lorquon', 'springhurst', 'werrimull', 'wargan', 'wilby', 'corack', 'tungamah', 'pine grove', 'boomahnoomoonah', 'yundool', 'koonda', 'bundalong south', 'gerahmin', 'kanyapella', 'roslynmead', 'bungeet', 'kaniva', 'lilliput', 'koetong', 'fernshaw', 'esmond', 'thalia', 'boorhaman north', 'timmering', 'tecoma', 'wooroonook', 'beaconsfield upper', 'lysterfield', 'nhill', 'pier milan', 'serviceton', 'gundowring', 'murray-sunset', 'iraak', 'belgrave', 'warracknabeal', 'watchem west', 'towong upper', 'mologa', 'bamawm extension', 'badger creek', 'koyuga', 'granite flat', 'tallangatta valley', 'pelluebla', 'macclesfield', 'smythes creek', 'massey', 'peechelba east', 'lockington', 'yarrawalla', 'shelley', 'tremont', 'north wangaratta', 'peechelba', 'londrigan', 'dockers plains', 'killawarra', 'jeffcott north', 'carron', 'boweya', 'litchfield', 'harcourt north', 'strathallan', 'borung', 'tarrengower', 'moonlight flat', 'castlemaine', 'biggara', 'welshmans reef', 'wooragee', 'colac colac', 'jarklin', 'gower', 'almonds', 'nariel valley', 'lucyvale', 'bamawm', 'sheep hills', 'ellinbank', 'chewton bushlands', 'walhalla', 'toongabbie', 'east wangaratta', 'waldara', 'sunbury', 'byawatha', 'wangaratta south', 'tarilta', 'merrinee', 'ouyen', 'golden point', 'sutton grange', 'carina', 'nuggetty', 'st james', 'donald', 'boralma', 'brandy creek', 'charleroi', 'lake rowan', 'upper ferntree gully', 'boorhaman', 'areegra', 'boweya north', 'nanneella', 'sandy creek', 'kalimna', 'ballendella', 'boolite', 'thoona', 'aubrey', 'cannum', 'miram', 'murmungee', 'yarragon', 'kellalac', 'dreeite', 'lyonville', 'wallup', 'jeffcott', 'kergunyah', 'kiata', 'daylesford', 'fairy dell', 'rutherglen', 'bungeet west', 'wangaratta', 'tennyson', 'bowser', 'lillimur', 'mount clear', 'langdons hill', 'wandella', 'leonards hill', 'tragowel', 'gil gil', 'mount bruno', 'devenish', 'tallandoon', 'icy creek', 'powlett plains', 'lawler', 'laen north', 'tooborac', 'kangaroo flat', 'taminick', 'moliagul', 'merriang south', 'gre gre north', 'dartmouth', 'dunluce', 'kamarooka', 'bromley', 'murtoa', 'bellfield', 'laen east', 'murra warra', 'kergunyah south', 'milawa', 'corop', 'oxley', 'mitta mitta', 'ballarat north', 'eskdale', 'lawloit', 'blackheath', 'heytesbury lower', 'fiery flat', 'ravenswood', 'blampied', 'kimbolton', 'toolleen', 'trentham', 'avon plains', 'hepburn', 'pental island', 'dry diggings', 'bruarong', 'laen', 'foxhow', 'swanwater west', 'strathdale', 'bagshot north', 'kalkee', 'myrtle creek', 'chapple vale', 'golden gully', 'hunter', 'axedale', 'campbells forest', 'goroke', 'ironbark', 'kewell', 'lake eppalock', 'glen creek', 'glenalbyn', 'little hampton', 'woorinen north', 'glenrowan', 'neilborough', 'kamarooka north', 'eaglehawk north', 'bullarook', 'mount prospect', 'tom groggin', 'bald hills', 'swan hill', 'kooroocheang', 'broomfield', 'docker', 'markwood', 'elingamite', 'bobinawarrah', 'mudgegonga', 'upper gundowring', 'rich avon west', 'thowgla valley', 'glenrowan west', 'sutherland', 'benalla', 'bethanga', 'burramboot', 'smeaton', 'winton north', 'talgarno', 'cope cope', 'creswick', 'gooroc', 'corryong', 'little desert', 'peronne', 'marungi', 'dederang', 'wail', 'bellbird creek', 'kancoona', 'running creek', 'lancaster', 'meadow creek', 'jung', 'launching place', 'powelltown', 'kooreh', 'nungurner', 'bo peep', 'swanwater', 'upper lurg', 'tarnook', 'mount bolton', 'banyena', 'addington', 'wendouree', 'st arnaud north', 'lurg', 'erica', 'rosewhite', 'whorouly south', 'bridgewater north', 'yarraberb', 'bolangum', 'nurcoung', 'mongans bridge', 'moolerr', 'marnoo east', 'gre gre south', 'carboor', 'the basin', 'kalorama', 'gladysdale', 'upwey', 'myrrhee', 'carapooee', 'havilah', 'menzies creek', 'nangana', 'cockatoo', 'woodend north', 'spring hill', 'buxton', 'murrindindi', 'devils river', 'mount lonarch', 'minimay', 'duchembegarra', 'wanalta', 'yapeen', 'colbinabbin', 'tatura', 'tawonga', 'mitre', 'waubra', 'catumnal', 'girgarre', 'natimuk', 'derby', 'tottington', 'dandongadale', 'quantong', 'wallaloo', 'arapiles', 'upper ryans creek', 'wirrate', 'mount helen', 'woolshed flat', 'longwood', 'gobur', 'yea', 'meering west', 'toorongo', 'grass flat', 'croydon', 'marnoo', 'gobarup', 'minmindie', 'molka', 'gre gre', 'longerenong', 'marnoo west', 'cornella', 'grays bridge', 'katandra west', 'norlane', 'neuarpurr', 'yarra glen', 'tyers', 'lilydale', 'coral bank', 'pompapiel', 'metcalfe east', 'cheshunt', 'lima', 'beazleys bridge', 'pranjip', 'carapooee west', 'tetoora road', 'tawonga south', 'warragul south', 'mount beauty', 'porcupine ridge', 'wallaloo east', 'callawadda', 'stuart mill', 'whitfield', 'tyntynder south', 'dean', 'germantown', 'swanpool', 'edi upper', 'tooan', 'paradise', 'king valley', 'karnak', 'emu', 'moorngag', 'gymbowen', 'rostron', 'benambra', 'bravington', 'bogong', 'bringalbert', 'freeburgh', 'drouin south', 'swifts creek', 'ozenkadnook', 'wal wal', 'halls gap', 'gooram', 'dalyenong', 'nelse', 'bingo munjie', 'kithbrook', 'cobberas', 'kanya', 'miga lake', 'croydon north', 'mooroolbark', 'seville', 'marysville', 'coomoora', 'noradjuha', 'sheans creek', 'woodstock west', 'warragul west', 'tatura east', 'murchison', 'whitlands', 'lima east', 'coalville', 'moondarra', 'kilmore', 'yabba north', 'gowangardie', 'barraport', 'kurraca', 'wingan river', 'yarck', 'scotsburn', 'cross roads', 'goongerah', 'middle creek', 'nilma north', 'mount hooghly', 'buln buln east', 'langi kal kal', 'cochranes creek', 'lake meran', 'doctors flat', 'avonsleigh', 'bayindeen', 'seville east', 'matlock', 'chintin', 'tylden south', 'combienbar', 'wrathung', 'goldsborough', 'havelock', 'kerrie', 'buln buln', 'licola', 'dunolly', 'buragwonduc', 'stockyard hill', 'painswick', 'timor west', 'glenfalloch', 'maryborough', 'timor', 'stirling', 'gainsborough', 'flagstaff', 'simson', 'betley', 'bet bet', 'bowenvale', 'willaura', 'budgee budgee', 'bealiba', 'waterloo', 'maintongoon', 'inkerman', 'double bridges', 'rheola', 'bylands', 'bete bolong north', 'bona vista', 'glengarry west', 'toombon', 'nerring', 'cloverlea', 'nilma', 'soldiers hill', 'mena park', 'stonyford', 'maramingo creek', 'howqua inlet', 'wangarabell', 'reedy flat', 'langi logan', 'gnotuk', 'bookaar', 'arbuckle', 'cundare north', 'carlisle river', 'noorat east', 'streatham', 'ensay', 'wallagaraugh', 'w tree', 'moroka', 'toolern vale', 'cobrico', 'mininera', 'brookville', 'nap nap marra', 'winter valley', 'tatyoon', 'taroon', 'deptford', 'coimadai', 'nullawarre north', 'ballyrogan', 'tamboon', 'ensay north', 'lake wongan', 'ripplebrook', 'ninyeunook', 'lake fyans', 'fentons creek', 'sargood', 'woosang', 'lake marmal', 'yawong hills', 'jacob creek', 'tanjil', 'buckrabanyule', 'bunguluke', 'barwidgee', 'murrindal', 'marthavale', 'wandiligong', 'st andrews', 'the patch', 'pootilla', 'cathkin', 'whanregarwen', 'ruffy', 'mount beckworth', 'kevington', 'knockwood', 'bungador', 'timbarra', 'tabberabbera', 'carpendeit', 'metcalfe', 'crooked river', 'club terrace', 'newstead', 'campbells creek', 'amphitheatre', 'wroxham', 'lexton', 'heathcote junction', 'kurraca west', 'trafalgar east', 'barkers creek', 'noorinbee north', 'rocky point', 'lake goldsmith', 'jamieson', 'yalmy', 'buangor', 'narracan', 'moora', 'sailors falls', 'ross creek', 'pira', 'fryerstown', 'guildford', 'cabbage tree', 'toolome', 'englefield', 'mount pleasant', 'malmsbury', 'willaura north', 'redan', 'maroona', 'nurran', 'strangways', 'cokum', 'bundalaguah', 'rossbridge', 'taradale', 'hawkhurst', 'kingston', 'tourello', 'caveat', 'vinifera', 'acheron', 'sulky', 'errinundra', 'wabonga', 'woorinen', 'newbury', 'glenluce', 'invermay', 'enochs point', 'muckleford', 'smokeytown', 'irishtown', 'moyreisk', 'fawcett', 'molesworth', 'chocolyn', 'muckleford south', 'moranding', 'green gully', 'whittlesea', 'tamboritha', 'hinnomunjie', 'miowera', 'wattle flat', 'tyntynder', 'woorinen south', 'elevated plains', 'blackwood', 'tambo crossing', 'wheatsheaf', 'caulfield', 'newlyn', 'joel joel', 'mokepilly', 'bonang', 'delacombe', 'kilsyth', 'gilderoy', 'big pats creek', 'cherokee', 'chepstowe', 'woolenook', 'narre warren north', 'glen wills', 'talbot', 'longwarry', 'wentworth', 'toolondo', 'hepburn springs', 'killara', 'chandlers creek', 'staghorn flat', 'baranduda', 'vaughan', 'clear lake', 'brumby', 'abbeyard', 'upton hill', 'benayeo', 'omeo valley', 'yackandandah', 'tangambalanga', 'narre warren', 'leneva', 'ascot', 'billabong', 'rose river', 'wombelano', 'frenchmans', 'landsborough west', 'benwerrin', 'anglers rest', 'macs cove', 'baw baw village', 'nayook', 'tonghi creek', 'castle creek', 'clarkes hill', 'koriella', 'gateway island', 'bullarto', 'tol tol', 'happy valley', 'sandon', 'ullina', 'charam', 'glenburn', 'rubicon', 'alexandra', 'glenaroua', 'robertsons beach', 'tinamba', 'sawmill settlement', 'rosedale', 'newry', 'port welshpool', 'werona', 'strathlea', 'huon creek', 'burnbank', 'bonegilla', 'mount glasgow', 'wonwondah', 'daisy hill', 'archdale', 'navarre', 'snake island', 'wattle creek', 'glen valley', 'yarram', 'falls creek', 'douglas', 'cassilis', 'morrl morrl', 'drummond north', 'sassafras', 'riachella', 'tolmie', 'woori yallock', 'smoko', 'archerton', 'three bridges', 'belgrave south', 'yellingbo', 'tarrawarra', 'noojee', 'yering', 'narbethong', 'gruyere', 'rhymney', 'bung bong', 'patyah', 'apsley', 'haddon', 'glenlyon', 'delegate river', 'mount dandenong', 'tongio', 'amherst', 'campbelltown', 'joel south', 'craigie', 'wonnangatta', 'lillicur', 'boorolite', 'kilsyth south', 'sedgwick', 'faraday', 'red lion', 'ullswater', 'suggan buggan', 'nurrabiel', 'langkoop', 'binginwarri', 'bundara', 'caralulup', 'chewton', 'eastville', 'joyces creek', 'eddington', 'elphinstone', 'mount cameron', 'moyston', 'bellellen', 'harcourt', 'mckenzie hill', 'jilpanger', 'buldah', 'shays flat', 'wulgulmerang west', 'wulgulmerang east', 'glenorchy', 'tubbut', 'barkly', 'howes creek', 'cheshunt south', 'nunniong', 'dunneworthy', 'alma', 'kelvin view', 'cotswold', 'evansford', 'deddick valley', 'boinka', 'big desert', 'butchers ridge', 'murrayville', 'winjallok', 'edenhope', 'cambarville', 'neereman', 'baringhup', 'baringhup west', 'barwite', 'gelantipy', 'howitt plains', 'poolaijelo', 'wongungarra', 'mockinya', 'bulgana', 'barjarg', 'lamplough', 'wulgulmerang', 'alberton', 'gembrook', 'longford', 'ancona', 'delatite', 'omeo', 'harrietville', 'kooyong', 'dinner plain', 'tulkara', 'shannonvale', 'essendon', 'watsonia', 'winnindoo', 'bindi', 'worrowing', 'burrowye', 'waterholes', 'torrita', 'briagolong', 'seacombe', 'wrixon', 'heidelberg heights', 'ivanhoe east', 'bemm river', 'chum creek', 'wonga park', 'simpsons creek', 'belgrave heights', 'boronia', 'warburton', 'eildon', 'east warburton', 'ferntree gully', 'castella', 'woods point', 'gaffneys creek', 'narrapumelap south', 'woodhouse', 'chatsworth', 'lysterfield south', 'mittyack', 'whirily', 'maindample', 'valencia creek', 'tutye', 'wairewa', 'wombat creek', 'brunswick west', 'myrtlebank', 'seaton', 'corringle', 'glenlee', 'jack river', 'condah', 'gillum', 'wickliffe', 'meringur', 'cobains', 'won wron', 'howqua hills', 'tyaak', 'glenhope', 'hilldene', 'stockdale', 'marlo', 'fernbank', 'warne', 'bruthen', 'ninda', 'koorool', 'bundoora', 'mossiface', 'glenaladale', 'manorina', 'sea lake', 'monomak', 'waygara', 'tallangatta', 'teddywaddy', 'cape conran', 'devon meadows', 'forbes', 'lindenow', 'east bairnsdale', 'barfold', 'seymour', 'dropmore', 'ghin ghin', 'flowerdale', 'kilmore east', 'broadford', 'sunday creek', 'gowar east', 'barraport west', 'amor', 'towaninny south', 'coonooer bridge', 'terrappee', 'hiawatha', 'ocean grange', 'maffra', 'myrtleford', 'glenloth', 'wycheproof', 'mcloughlins beach', 'bullumwaal', 'merriang', 'port albert', 'pearsondale', 'sale', 'munro', 'cowangie', 'charlton', 'wemen', 'birdwoodton', 'irymple', 'lauriston', 'kulwin', 'neds corner', 'richmond plains', 'anderson', 'hoddles creek', 'kilcunda', 'loch sport', 'boisdale', 'wandin east', 'coldstream', 'telangatuk east', 'harrow', 'kanagulk', 'mcmahons creek', 'christmas hills', 'kinglake', 'cardross', 'bright', 'meerlieu', 'balmoral', 'connewirricoo', 'bushy park', 'edithvale', 'koorlong', 'aireys inlet', 'coonooer west', 'gatum', 'nine mile', 'teddywaddy west', 'calrossie', 'glengarry', 'heyfield', 'devon north', 'fulham', 'glenmaggie', 'pyalong', 'coojar', 'maidstone', 'tarcombe', 'patchewollock', 'llowalong', 'walhalla east', 'tottenham', 'cranbourne east', 'dumosa', 'kingsville', 'tintaldra', 'dawson', 'perry bridge', 'corndale', 'pascoe vale south', 'upper plenty', 'murgheboluc', 'underbool', 'cabarita', 'darraweit guim', 'buckley', 'redcastle', 'langwarrin south', 'wandong', 'waterford park', 'huntly', 'graytown', 'waurn ponds', 'connewarre', 'trawool', 'kerrisdale', 'clydebank', 'west creek', 'dalyston', 'st clair', 'south dudley', 'walpeup', 'harmers haven', 'churchill island', 'flamingo beach', 'the heart', 'golden beach', 'baynton', 'mickleham', 'tallarook', 'highlands', 'manangatang', 'paradise beach', 'yelta', 'nangiloc', 'mildura', 'merbein', 'colignan', 'annuello', 'hollands landing', 'dutson downs', 'merbein west', 'gormandale', 'east sale', 'strath creek', 'montgomery', 'baynton east', 'eden park', 'dutson', 'lyndhurst', 'frankston', 'mount eliza', 'stradbroke', 'panitya', 'red cliffs', 'lake wellington', 'melville forest', 'victoria point', 'yulecart', 'croxton east', 'carwarp', 'paschendale', 'kinglake west', 'whiteheads creek', 'humevale', 'nandaly', 'cullulleraine', 'liparoo', 'merbein south', 'lindsay point', 'winnambool', 'beveridge', 'mirimbah', 'linga', 'hattah', 'howqua', 'dooboobetic', 'jeruk', 'high camp', 'tempy', 'gentle annie', 'glomar beach', 'marraweeney', 'wallan', 'carrajung lower', 'mount evelyn', 'lancefield', 'gannawarra', 'kerang', 'keely', 'indigo valley', 'yeungroon', 'wycheproof south', 'dixons creek', 'berrimal', 'narre warren east', 'reefton', 'clyde', 'elizabeth island', 'yeungroon east', 'reedy creek', 'glenhope east', 'sugarloaf creek', 'don valley', 'steels creek', 'sherbrooke', 'ferny creek', 'jericho', 'euroa', 'wychitella', 'earlston', 'giffard west', 'chirnside park', 'olinda', 'benloch', 'tamleugh north', 'clonbinane', 'carrajung south', 'zumsteins', 'chelsea heights', 'deep lead', 'lake lonsdale', 'mount dryden', 'yarra junction', 'darriman', 'woodside beach', 'the honeysuckles', 'magpie', 'wandin north', 'harkaway', 'beechworth', 'browns plains', 'dingwall', 'barnawartha north', 'beenak', 'woodside north', 'chiltern valley', 'cullen', 'gooramadda', 'piries', 'cornishtown', 'kerang east', 'carlyle', 'cohuna', 'wahgunyah', 'navigators', 'daltons bridge', 'wood wood', 'barnawartha', 'lockwood', 'lynbrook', 'willung south', 'bolinda', 'chiltern', 'prairie', 'long gully', 'sailors gully', 'woodvale', 'murchison east', 'arcadia south', 'huon', 'ebden', 'chesney vale', 'hampton', 'tallangatta south', 'fish point', 'mandurang', 'lockwood south', 'glen park', 'mystic park', 'gorae west', 'bakery hill', 'bellbridge', 'winton', 'goorambat', 'alfredton', 'baddaginnie', 'tarraville', 'flynn', 'wootong vale', 'bulart', 'armstrong', 'rainbow', 'loch valley', 'wesburn', 'millgrove', 'maffra west upper', 'toolangi', 'nyerimilang', 'picola', 'miralie', 'benjeroop', 'lucknow', 'mount toolebewong', 'clematis', 'wy yung', 'callignee north', 'goughs bay', 'woodglen', 'lakes entrance', 'calivil', 'traynors lagoon', 'upotipotpon', 'dhurringile', 'ardmona', 'airly', 'boole poole', 'tostaree', 'banksia peninsula', 'selby', 'highett', 'coongulla', 'st germains', 'creek view', 'boxwood', 'kialla east', 'gerang gerung', 'broken creek', 'goomalibee', 'black hill', 'bete bolong', 'adelaide lead', 'warragul', 'gherang', 'montrose', 'kallista', 'raymond island', 'eagle point', 'ryans', 'kalimna west', 'johnsonville', 'newlands arm', 'paynesville', 'cheltenham', 'tooradin', 'fawkner', 'coburg north', 'dunach', 'longwood east', 'iguana creek', 'capels crossing', 'rockbank', 'clifton creek', 'mooroopna north', 'mooroopna', 'brim', 'gillieston', 'gong gong', 'tallangatta east', 'tandarra', 'cardigan', 'dargo', 'eurobin', 'ascot vale', 'flemington', 'moonee ponds', 'rowville', 'heidelberg west', 'lah', 'old tallangatta', 'reedy lake', 'buckland', 'york plains', 'dingee', 'mountain bay', 'tarrayoukyan', 'sarsfield', 'buchan', 'macks creek', 'canadian', 'maribyrnong', 'stony creek', 'leigh creek', 'lake wendouree', 'footscray', 'yalca', 'bearii', 'patho', 'alphington', 'ivanhoe', 'mount buffalo', 'north warrandyte', 'cowa', 'newington', 'lima south', 'kilmany', 'carngham', 'mount franklin', 'bridge creek', 'pigeon ponds', 'nerrina', 'warrenheip', 'fern hill', 'yandoit hills', 'karramomus', 'tyrrell downs', 'byrneside', 'tylden', 'miners rest', 'yambuna', 'reynard', 'chillingollah', 'mead', 'lake tyrrell', 'mount cole', 'whroo', 'westmere', 'rushworth', 'cosgrove', 'molyullah', 'culgoa', 'glenlofty', 'murchison north', 'tarneit', 'mundoona', 'tarrawingee', 'everton', 'kialla west', 'shepparton', 'crowlands', 'archdale junction', 'crookayan', 'mcmillans', 'buninyong', 'mount macedon', 'cardigan village', 'toolamba', 'harston', 'willowmavin', 'riddells creek', 'cobaw', 'yandoit', 'franklinford', 'mount buller', 'arcadia', 'tantaraboo', 'thornbury', 'seaspray', 'giffard', 'tongala', 'licola north', 'glenlogie', 'noorinbee', 'pastoria east', 'mount cole creek', 'stanhope', 'brown hill', 'kialla', 'toolamba west', 'macedon', 'cadello', 'eversley', 'edgecombe', 'carrajung', 'everton upper', 'madalya', 'wallace', 'tinamba west', 'warrnambool', 'cosgrove south', 'laang', 'grahamvale', 'jeparit', 'cann river', 'gisborne south', 'tarranyurk', 'antwerp', 'mansfield', 'merrijig', 'dimboola', 'diggers rest', 'harkness', 'plumpton', 'melton', 'mount alfred', 'calder park', 'melton west', 'bonnie brook', 'grangefields', 'melton south', 'cobblebank', 'thornhill park', 'delahey', 'strathtulloh', 'greens creek', 'weir views', 'deanside', 'truganina', 'burnside', 'nug nug', 'strathbogie', 'concongella', 'nowhere creek', 'bendoc', 'illawarra', 'balmattum', 'coghills creek', 'mount rowan', 'carag carag', 'sutton', 'jil jil', 'kadnook', 'powers creek', 'landsborough', 'boho', 'elmhurst', 'burnewang', 'denison', 'terrick terrick', 'bonn', 'riverslea', 'willung', 'wilsons hill', 'pascoe vale', 'mount camel', 'glenpatrick', 'sidonia', 'tittybong', 'towaninny', 'boho south', 'kings park', 'mount cottrell', 'mitiamo', 'creek junction', 'kalpienung', 'terrick terrick east', 'moyhu', 'edi', 'white hills', 'nambrok', 'travancore', 'elmore', 'nullawil', 'wyuna', 'hiamdale', 'undera', 'yuroke', 'deepdene', 'hawthorn', 'canterbury', 'hawthorn east', 'parkville', 'mandurang south', 'big hill', 'redesdale', 'marong', 'belmont', 'bambra', 'woodstock on loddon', 'mia mia', 'wandana heights', 'rosanna', 'east geelong', 'highton', 'mentone', 'heidelberg', 'eaglemont', 'drysdale', 'whittington', 'swan bay', 'north melbourne', 'parkdale', 'aintree', 'bell post hill', 'north shore', 'newcomb', 'south geelong', 'glen huntly', 'st albans park', 'chelsea', 'lovely banks', 'corio', 'breakwater', 'marshall', 'bonbeach', 'curlewis', 'lindsay', 'leopold', 'carnegie', 'caulfield south', 'ormond', 'bulleen', 'wollert', 'mernda', 'south morang', 'mckinnon', 'bentleigh', 'bell park', 'bellarine', 'moolap', 'herne hill', 'airport west', 'charlemont', 'grovedale', 'gardenvale', 'moorabbin', 'malvern', 'lara', 'keilor east', 'niddrie', 'essendon north', 'essendon west', 'avondale heights', 'avalon', 'wallington', 'mannerim', 'barwon heads', 'queenscliff', 'brighton east', 'hamlyn heights', 'rippleside', 'ringwood east', 'swan island', 'croydon south', 'portarlington', 'laharum', 'indented head', 'drumcondra', 'clifton springs', 'cobbannah', 'moornapa', 'marcus hill', 'lake mundi', 'derrimut', 'caulfield east', 'brunswick', 'warrandyte south', 'park orchards', 'croydon hills', 'geelong west', 'aberfeldie', 'moorabbin airport', 'mordialloc', 'aspendale', 'warranwood', 'ocean grove', 'balaclava', 'point lonsdale', 'ringwood north', 'langley', 'windsor', 'st kilda', 'st kilda west', 'essendon fields', 'newport', 'elsternwick', 'west bendigo', 'south melbourne', 'albert park', 'middle park', 'hampton east', 'heatherton', 'st leonards', 'wellsford', 'manifold heights', 'watsonia north', 'moormbool west', 'runnymede', 'derrinal', 'lyal', 'eppalock', 'strathmore heights', 'riggs creek', 'st helena', 'nagambie', 'kensington', 'strathmore', 'diamond creek', 'eltham north', 'montmorency', 'yallambie', 'lower plenty', 'viewbank', 'clayton south', 'newtown', 'briar hill', 'templestowe lower', 'geelong', 'albanvale', 'kirwans bridge', 'nutfield', 'hurstbridge', 'plenty', 'kangaroo ground', 'bend of islands', 'samaria', 'greta west', 'dingley village', 'doveton', 'dandenong', 'garfield north', 'hansonville', 'eumemmerring', 'myola', 'strathewen', 'eltham', 'warrandyte', 'templestowe', 'bengworden', 'cremorne', 'orbost', 'merricks beach', 'caniambo', 'marionvale', 'cottles bridge', 'lalor', 'bellbrae', 'smiths gully', 'weering', 'wantirna south', 'glen waverley', 'endeavour hills', 'brodribb river', 'panton hill', 'sunshine north', 'wattle glen', 'major plains', 'watsons creek', 'oak park', 'orrvale', 'research', 'seaholme', 'altona', 'williamstown', 'dookie college', 'bunbartha', 'wyuna east', 'california gully', 'avonmore', 'bradford', 'ovens', 'maiden gully', 'drummartin', 'rich avon', 'black rock', 'mill park', 'thomastown', 'greensborough', 'rich avon east', 'north bendigo', 'modewarre', 'knowsley', 'greta south', 'kealba', 'st albans', 'cairnlea', 'albion', 'greta', 'kaarimba', 'cabbage tree creek', 'shepparton north', 'tatong', 'granite rock', 'bowmans forest', 'gapsted', 'whorouly', 'whorouly east', 'hotham heights', 'selwyn', 'scotchmans lead', 'williamstown north', 'allans flat', 'mount major', 'invermay park', 'blowhard', 'south kingsville', 'eureka', 'sebastopol', 'tamleugh', 'dookie', 'cooma', 'zeerust', 'shepparton east', 'kotupna', 'coomboona', 'stanhope south', 'drumanure', 'locksley', 'mangalore', 'nalinga', 'donnybrook', 'woodstock', 'yan yean', 'doreen', 'puckapunyal', 'newborough', 'traralgon east', 'traralgon', 'maryvale', 'yallourn', 'arthurs creek', 'osbornes flat', 'yarrambat', 'raywood', 'keilor lodge', 'keilor downs', 'ardeer', 'bagshot', 'jackass flat', 'kingsbury', 'leichardt', 'muskerry', 'longlea', 'warrenbayne', 'branxholme', 'cape bridgewater', 'taylors lakes', 'gritjurk', 'bornes hill', 'merino', 'nelson', 'heywood', 'prahran', 'freshwater creek', 'southbank', 'lake bunga', 'paraparap', 'eastwood', 'south wharf', 'bumberrah', 'limestone', 'drummond', 'armadale', 'st kilda east', 'byaduk north', 'hotspur', 'tynong north', 'guys hill', 'breamlea', 'officer', 'beaconsfield', 'tynong', 'clyde north', 'moggs creek', 'officer south', 'vermont', 'mount napier', 'caulfield north', 'elwood', 'ripponlea', 'myamyn', 'drumborg', 'milltown', 'boonah', 'dundonnell', 'pastoria', 'cardinia', 'newmerella', 'mount richmond', 'pakenham south', 'moorilim', 'roxburgh park', 'epping', 'eastern view', 'gorae', 'fairhaven', 'knoxfield', 'karabeal', 'gerrigerrup', 'condah swamp', 'minjah', 'heathmere', 'glenthompson', 'narrawong', 'congupna', 'kalkallo', 'wildwood', 'oaklands junction', 'craigieburn', 'meadow heights', 'melbourne airport', 'campbellfield', 'keilor north', 'goulburn weir', 'dunkeld', 'dallas', 'keilor', 'glenroy', 'tarrington', 'nareeb', 'bolwarra', 'gowanbrae', 'keilor park', 'kurunjang', 'waranga shores', 'allestree', 'portland west', 'portland', 'gazette', 'portland north', 'caramut', 'hexham', 'wallacedale', 'minhamite', 'lake bolac', 'yatchaw', 'warrak', 'spring gully', 'bulla', 'greenvale', 'dobie', 'whipstick', 'kennington', 'strathkellar', 'tabor', 'buckley swamp', 'hillside', 'attwood', 'somerton', 'coolaroo', 'westmeadows', 'gladstone park', 'sydenham', 'fraser rise', 'nerrin nerrin', 'penshurst', 'tullamarine', 'rocklands', 'vasey', 'rythdale', 'koo wee rup north', 'koo wee rup', 'woorndoo', 'mooralla', 'broadmeadows', 'jacana', 'konongwootong', 'flora hill', 'mount duneed', 'caroline springs', 'maryknoll', 'taylors hill', 'fieldstone', 'gringegalgona', 'dergholm', 'nareen', 'warrock', 'wando vale', 'carapook', 'coleraine', 'brimboal', 'dandenong south', 'sunshine west', 'exford', 'deer park', 'ravenhall', 'burnside heights', 'cashmore', 'dalmore', 'springvale', 'melbourne', 'noble park north', 'dutton way', 'wurdiboluc', 'brooklyn', 'wyndham vale', 'mirranatwa', 'dunrobin', 'casterton', 'noble park', 'winchelsea south', 'wensleydale', 'anglesea', 'wando bridge', 'aspendale gardens', 'nangeela', 'springvale south', 'nunawading', 'keysborough', 'victoria valley', 'vermont south', 'braeside', 'brit brit', 'sandford', 'hilgay', 'henty', 'tarrenlea', 'tahara', 'tahara west', 'grassdale', 'dorodong', 'digby', 'dartmoor', 'mumbannar', 'muntham', 'stonehaven', 'fyansford', 'gnarwarre', 'barrabool', 'hampton park', 'vervale', 'hallam', 'waterways', 'cavendish', 'clover flat', 'stavely', 'hensley park', 'wannon', 'moutajup', 'strathdownie', 'bochara', 'hamilton', 'warrayure', 'morgiana', 'fitzroy north', 'bahgallah', 'winnap', 'inverleigh', 'ceres', 'kew', 'diggora', 'tahara bridge', 'greenwald', 'lyons', 'drik drik', 'iona', 'balwyn', 'mount moriac', 'armstrong creek', 'moriac', 'newham', 'yarraville', 'mount waverley', 'spotswood', 'mornington', 'moorooduc', 'pakenham', 'east melbourne', 'bayles', 'brunswick east', 'northcote', 'ashwood', 'port melbourne', 'tyabb', 'carlton north', 'st andrews beach', 'oakleigh east', 'huntingdale', 'kew east', 'burwood', 'glen iris', 'ashburton', 'malvern east', 'oakleigh', 'collingwood', 'richmond', 'abbotsford', 'south yarra', 'chadstone', 'toorak', 'burwood east', 'narre warren south', 'hillcrest', 'murrumbeena', 'hughesdale', 'notting hill', 'nintingbool', 'botanic ridge', 'junction village', 'burnley', 'cranbourne west', 'frankston north', 'linton', 'clarinda', 'frankston south', 'piggoreet', 'cranbourne north', 'yannathan', 'bentleigh east', 'cranbourne', 'safety beach', 'pearcedale', 'baxter', 'nowa nowa', 'wurruk', 'smythesdale', 'merricks north', 'manns beach', 'cannons creek', 'warneet', 'mount martha', 'jarrahmond', 'black range', 'stawell', 'dromana', 'tambo upper', 'anakie', 'shelford', 'bamganie', 'lethbridge', 'maude', 'sutherlands creek', 'mallacoota', 'pine lodge', 'heathcote', 'berringa', 'bannockburn', 'moorabool', 'gheringhap', 'point cook', 'west footscray', 'main ridge', 'snake valley', 'bittern', 'red hill', 'cape clear', 'melwood', 'corindhap', 'miepoll', 'avenel', 'golden square', 'batesford', 'steiglitz', 'rokewood', 'rokewood junction', 'mccrae', 'she oaks', 'toorloo arm', 'mount tassie', 'quarry hill', 'fosterville', 'east bendigo', 'scarsdale', 'crib point', 'napoleons', 'irrewillipe east', 'staffordshire reef', 'mount mercer', 'teesdale', 'dereel', 'blairgowrie', 'princes hill', 'clifton hill', 'red hill south', 'capel sound', 'shoreham', 'flinders', 'carlton', 'enfield', 'carrum', 'illabarook', 'russells bridge', 'manor lakes', 'altona meadows', 'somers', 'blackburn', 'tootgarook', 'cape schanck', 'box hill', 'surrey hills', 'camberwell', 'merricks', 'mambourin', 'werribee south', 'cocoroc', 'point leo', 'fitzroy', 'ladys pass', 'point wilson', 'springdallah', 'junortoun', 'pitfield', 'ravenswood south', 'barwon downs', 'stewarton', 'boneo', 'box hill south', 'youanmite', 'kyabram south', 'waranga', 'merrigum', 'yabba south', 'fingal', 'balnarring beach', 'blackburn south', 'coburg', 'doncaster east', 'donvale', 'doncaster', 'balwyn north', 'blackburn north', 'langwarrin', 'bunyip north', 'ballarat east', 'lake gardens', 'sandhurst', 'skye', 'seaford', 'cranbourne south', 'garfield', 'lemnos', 'waggarandall', 'north geelong', 'mont albert north', 'box hill north', 'girgarre east', 'mooroopna north west', 'mount taylor', 'nar nar goon', 'rochester', 'barnadown', 'cora lynn', 'hedley', 'altona north', 'langsborough', 'hoppers crossing', 'cundare', 'alberton west', 'monomeith', 'mitcham', 'mont albert', 'williams landing', 'dewhurst', 'bunding', 'mount burnett', 'yeodene', 'caldermeade', 'pentland hills', 'forest hill', 'nar nar goon north', 'werribee', 'seabrook', 'somerville', 'tuerong', 'hastings', 'portsea', 'hesse', 'hazelwood south', 'pakenham upper', 'seddon', 'colac', 'meredith', 'tonimbuk', 'fairfield', 'naringal', 'berwick', 'bandiana', 'balnarring', 'sorrento', 'arthurs seat', 'rosebud', 'hmas cerberus', 'rye', 'skenes creek', 'balook', 'braybrook', 'sunshine', 'korobeit', 'dunnstown', 'staceys bridge', 'gerangamete', 'gelliondale', 'darley', 'violet town', 'strathfieldsaye', 'st arnaud east', 'kawarren', 'moglonemby', 'eurack', 'germania', 'shelbourne', 'mount doran', 'eynesbury', 'sebastian', 'separation creek', 'argyle', 'costerfield', 'myers flat', 'bendigo', 'yendon', 'lorne', 'durdidwarrah', 'greendale', 'gellibrand', 'kennett river', 'weeaproinah', 'morwell', 'claretown', 'loy yang', 'merrimu', 'maddingley', 'mount wallace', 'skenes creek north', 'glenaire', 'cape otway', 'forrest', 'barramunga', 'petticoat creek', 'hazelwood north', 'epsom', 'callignee south', 'emu creek', 'traralgon south', 'jeeralang', 'yinnar', 'new gisborne', 'budgeree', 'fiskville', 'bacchus marsh', 'morrisons', 'tarra valley', 'churchill', 'mount sabine', 'beremboke', 'balliang east', 'clarendon', 'wongarra', 'grey river', 'apollo bay', 'koornalla', 'goldie', 'glenmore', 'hopetoun park', 'garibaldi', 'rowsley', 'ferguson', 'wye river', 'barunah park', 'yinnar south', 'cargerie', 'jeeralang junction', 'barunah plains', 'axe creek', 'wingeel', 'goornong', 'parwan', 'staughton vale', 'lavers hill', 'tanybryn', 'jumbuk', 'blackwarry', 'trentham east', 'eaglehawk', 'aire valley', 'warrion', 'heathcote south', 'sugarloaf', 'huntly north', 'milloo', 'cambrian hill', 'ombersley', 'beeac', 'winchelsea', 'johanna', 'weatherboard', 'lucas', 'bonshaw', 'myrniong', 'brookfield', 'durham lead', 'irrewarra', 'ondit', 'bunkers hill', 'ballarat central', 'marengo', 'learmonth', 'hordern vale', 'whoorel', 'balintore', 'mitchell park', 'windermere', 'walpa', 'ellaswood', 'warncoort', 'ashbourne', 'barrys reef', 'woodside', 'blakeville', 'spargo creek', 'colac east', 'hunterston', 'nicholson', 'yeo', 'coragulac', 'birregurra', 'cororooke', 'larpent', 'callignee', 'pipers creek', 'bolwarrah', 'springbank', 'carlsruhe', 'ballan', 'stratford', 'beech forest', 'colac west', 'calulu', 'elliminyt', 'wyelangta', 'flynns creek', 'hazelwood', 'colbrook', 'gipsy point', 'millbrook', 'mount egerton', 'lindenow south', 'lal lal', 'ingliston', 'long forest', 'bairnsdale', 'deans marsh', 'wiseleigh', 'lake tyers beach', 'bungal', 'dales creek', 'bungaree', 'barongarook west', 'bessiebelle', 'southern cross', 'gordon', 'murroon', 'barongarook', 'pennyroyal', 'breakaway creek', 'hawkesdale', 'woolsthorpe', 'homerton', 'the sisters', 'tyrendarra', 'tarrone', 'grassmere', 'winslow', 'st helens', 'framlingham', 'purnim', 'kirkstall', 'port fairy', 'glen forbes', 'swan reach', 'willatook', 'goon nure', 'genoa', 'ellerslie', 'coronet bay', 'almurta', 'cowes', 'silverleaves', 'tallygaroopna', 'broadwater', 'ventnor', 'greenhill', 'warrenmang', 'mepunga east', 'wattle bank', 'north wonthaggi', 'wonthaggi', 'lake condah', 'rhyll', 'ballangeich', 'woolamai', 'orford', 'warrong', 'kingower', 'illowa', 'cudgee', 'yalla-y-poora', 'brewster', 'cape paterson', 'glen alvie', 'ryanston', 'wehla', 'leaghur', 'framlingham east', 'avoca', 'codrington', 'tyrendarra east', 'allansford', 'koroit', 'panmure', 'purnim west', 'wangoom', 'yangery', 'naringal east', 'mailors flat', 'mepunga west', 'yarpturk', 'pheasant creek', 'yambuk', 'toolong', 'crossley', 'woodford', 'tower hill', 'wychitella north', 'newbridge', 'bushfield', 'killarney', 'katamatite', 'dennington', 'rosebrook', 'mepunga', 'nirranda', 'the cove', 'wedderburn', 'kinypanial', 'jam jerrup', 'woodleigh', 'pioneer bay', 'grantville', 'corinella', 'tenby point', 'kernot', 'adams estate', 'bass', 'ercildoune', 'wimbledon heights', 'sunset strip', 'smiths beach', 'san remo', 'boort', 'stoneleigh', 'summerlands', 'the gurdies', 'wareek', 'sunderland bay', 'surf beach', 'main lead', 'cape woolamai', 'bridgewater on loddon', 'tanwood', 'bridgewater', 'burrumbeet', 'warrabkook', 'newhaven', 'knebsworth', 'archies creek', 'neerim', 'moe', 'kurting', 'brenanah', 'waanyarra', 'arnold', 'inglewood', 'rathscar', 'queensferry', 'macarthur', 'purdeet', 'kanumbra', 'byaduk', 'woodfield', 'killingworth', 'taggerty', 'trawalla', 'lake eildon', 'boosey', 'yarrawonga', 'thornton', 'taylor bay', 'homewood', 'logan', 'mcintyre', 'arnold west', 'drouin west', 'coopers creek', 'neerim east', 'boola', 'oakvale', 'westbury', 'glengarry north', 'neerim junction', 'fumina', 'tanjil bren', 'labertouche', 'baw baw', 'mount emu', 'korong vale', 'slaty creek', 'raglan', 'seaview', 'driffield', 'koallah', 'percydale', 'glenbrae', 'gredgwin', 'auchmore', 'trafalgar south', 'yando', 'skinners flat', 'redbank', 'heath hill', 'bostocks creek', 'lismore', 'wedderburn junction', 'natte yallock', 'homebush', 'cowwarr', 'mysia', 'murphys creek', 'serpentine', 'quambatook', 'durham ox', 'rawson', 'catani', 'yangoura', 'neerim south', 'moonambel', 'bathumi', 'muckatah', 'naring', 'burramine', 'chute', 'willow grove', 'katunga', 'cobram', 'neerim north', 'crossover', 'longwarry north', 'shady creek', 'fumina south', 'delburn', 'invergordon', 'hill end', 'hernes oak', 'moe south', 'piedmont', 'aberfeldy', 'caringal', 'jindivick', 'yallourn north', 'rathscar west', 'laanecoorie', 'drouin', 'vesper', 'tarnagulla', 'lillico', 'burkes flat', 'tanjil south', 'darnum', 'bears lagoon', 'beaufort', 'salisbury west', 'fernihurst', 'trafalgar', 'bunyip', 'drouin east', 'yarragon south', 'rokeby', 'wunghnu', 'numurkah', 'nirranda south', 'pura pura', 'yarroweyah', 'camperdown', 'noorat', 'wattle hill', 'larralea', 'katamatite east', 'weerite', 'derrinallum', 'boorcan', 'vite vite north', 'hadfield', 'dreeite south', 'kolora', 'darlington', 'skibo', 'corunnun', 'mortlake', 'tesbury', 'timboon west', 'pirron yallock', 'mount bute', 'tandarook', 'glenfyne', 'port campbell', 'irrewillipe', 'pomborneit', 'elingamite north', 'curdies river', 'newfield', 'garvoc', 'alvie', 'nirranda east', 'duverney', 'waarre', 'timboon', 'gellibrand lower', 'south purrumbete', 'dixie', 'yuulong', 'scotts creek', 'ayrford', 'pittong', 'nalangil', 'wallinduc', 'simpson', 'wool wool', 'ecklin south', 'pomborneit north', 'nullawarre', 'pomborneit east', 'cressy', 'werneth', 'peterborough', 'kennedys creek', 'bullaharre', 'paaratte', 'terang', 'berrybank', 'cooriemungle', 'kariah', 'swan marsh', 'carranballac', 'curdievale', 'bradvale', 'vite vite', 'leslie manor', 'skipton', 'jancourt east', 'willowvale', 'mannibadar', 'glenormiston north', 'denicull creek', 'cobden', 'jancourt', 'naroghid', 'glenormiston south', 'norval', 'cathcart', 'ararat', 'hazel park', 'jumbunna', 'fairbank', 'chetwynd', 'strzelecki', 'culla', 'hallston', 'toora north', 'nyora', 'gunyah', 'pound creek', 'mirboo north', 'leongatha south', 'thorpdale', 'dumbalk', 'wonga', 'tarwin lower', 'nerrena', 'ranceby', 'nulla vale', 'inverloch', 'hallora', 'gisborne', 'allambee', 'middle tarwin', 'lang lang east', 'lang lang', 'woorarra east', 'walkerville', 'poowong', 'leongatha', 'foster north', 'outtrim', 'sandy point', 'waratah bay', 'tidal river', 'kongwak', 'koorooman', 'mount eccles', 'boolarra', 'walkerville south', 'laverton north', 'port franklin', 'ruby', 'mountain view', 'koonwarra', 'childers', 'agnes', 'tarwin', 'poowong north', 'laverton', 'toora', 'carrum downs', 'thorpdale south', 'trida', 'bangholme', 'lance creek', 'dollar', 'mount best', 'woorarra west', 'wild dog valley', 'walkerville north', 'boolarong', 'docklands', 'welshpool', 'mirboo', 'venus bay', 'arawata', 'bennison', 'kardella', 'fish creek', 'korumburra south', 'allambee reserve', 'korumburra', 'athlone', 'allambee south', 'foster', 'wilsons promontory', 'poowong east', 'grand ridge', 'wooreen', 'moyarra', 'bena', 'loch', 'ferndale', 'meeniyan', 'wonyip', 'krowera', 'buffalo', 'west melbourne', 'turtons creek', 'baromi', 'boorool', 'whitelaw', 'berrys creek', 'dumbalk north', 'kyneton south', 'patterson lakes', 'yanakie', 'boolarra south', 'mardan', 'jeetho', 'mount eccles south', 'leongatha north', 'darlimurla', 'hesket', 'macleod', 'forge creek', 'wuk wuk', 'buchan south', 'strathmerton', 'koonoomoo', 'cobram east', 'kyneton', 'monegeetta', 'rochford', 'clarkefield', 'woodend', 'romsey', 'bullengarook', 'grampians', 'st arnaud', 'glenisla', 'wartook', 'mitchellstown', 'mafeking', 'tabilk', 'roses gap', 'dadswells bridge', 'bailieston', 'ledcourt', 'brimpaen', 'cherrypool', 'campbells bridge', 'wahring', 'fyans creek', 'creightons creek', 'great western']\n"
     ]
    }
   ],
   "source": [
    "# Load Victoria suburbs shapefile for filtering\n",
    "vic_suburbs_gdf = gpd.read_file('../data/map/Vic_Localities/gda2020_vicgrid/esrishape/whole_of_dataset/victoria/VMADMIN/LOCALITY_POLYGON.shp')\n",
    "vic_suburbs_gdf = vic_suburbs_gdf.to_crs(epsg=4326)\n",
    "vic_suburbs_gdf['GAZLOC_lower'] = vic_suburbs_gdf['GAZLOC'].str.lower()\n",
    "print(list(vic_suburbs_gdf['GAZLOC_lower'].unique()))"
   ]
  },
  {
   "cell_type": "code",
   "execution_count": 7,
   "metadata": {},
   "outputs": [],
   "source": [
    "# Define directional modifiers and the word 'surrounds' to be removed\n",
    "directional_modifiers = [' - east', ' - west', ' - north', ' - south', ' - central', ' surrounds']\n",
    "pattern = '|'.join([re.escape(suffix) for suffix in directional_modifiers])\n",
    "demographics['sa2_name'] = demographics['sa2_name'].str.replace(pattern, '', regex=True)"
   ]
  },
  {
   "cell_type": "code",
   "execution_count": 9,
   "metadata": {},
   "outputs": [],
   "source": [
    "# Step 1: Split sa2_name where multiple names are separated by hyphens\n",
    "demographics['sa2_name'] = demographics['sa2_name'].str.split(' - ')\n",
    "\n",
    "# Step 2: Explode the lists into separate rows\n",
    "demographics_exploded = demographics.explode('sa2_name')\n",
    "\n",
    "# Step 3: (Optional) Reset index if you want a clean index column\n",
    "demographics_exploded = demographics_exploded.reset_index(drop=True)"
   ]
  },
  {
   "cell_type": "code",
   "execution_count": 11,
   "metadata": {},
   "outputs": [],
   "source": [
    "merged_gdf = pd.merge(demographics_exploded, vic_suburbs_gdf, left_on='sa2_name', right_on='GAZLOC_lower', how='left')"
   ]
  },
  {
   "cell_type": "code",
   "execution_count": 12,
   "metadata": {},
   "outputs": [],
   "source": [
    "# merged_gdf should already have the geometry column from the previous merge\n",
    "merged_gdf = gpd.GeoDataFrame(merged_gdf, geometry='geometry')\n",
    "\n",
    "# Define a function to calculate the nearest neighbors and impute the NaN values\n",
    "def impute_missing_values(row, merged_gdf, columns_to_impute):\n",
    "    # Find the geometry of the current row (this should be a Point or Polygon geometry)\n",
    "    geometry = row['geometry']\n",
    "    # Ensure geometry is valid and calculate distances only for non-null geometries\n",
    "    if geometry and not pd.isnull(geometry):\n",
    "        # Get nearby suburbs (within a certain distance, e.g., 10 km)\n",
    "        # `distance` is in the same units as your CRS, so make sure this is correct (usually meters in EPSG:4326)\n",
    "        nearby_suburbs = merged_gdf[merged_gdf.geometry.distance(geometry) <= 10000]  # 10 km buffer\n",
    "        # For each column with missing values, calculate the mean from the nearby suburbs and impute\n",
    "        for col in columns_to_impute:\n",
    "            if pd.isna(row[col]) and not nearby_suburbs.empty:\n",
    "                row[col] = nearby_suburbs[col].mean()\n",
    "    \n",
    "    return row\n",
    "\n",
    "# Step 1: Ensure both GeoDataFrame objects have valid geometries and CRS (Coordinate Reference System)\n",
    "merged_gdf = merged_gdf.set_crs(epsg=4326)  # Assuming EPSG:4326 (latitude/longitude)\n",
    "columns_to_impute = [\n",
    "    'gov_age_pension_count_2023', 'gov_rent_assist_count_2023', 'personal_income_count_2020', \n",
    "    'personal_income_median_age_2020', 'personal_total_income_millions_2020', \n",
    "    'median_personal_total_income_2020', 'mean_personal_total_income_2020', 'gini_coef_2020'\n",
    "]\n",
    "demographics_imputed = merged_gdf.apply(impute_missing_values, axis=1, merged_gdf=merged_gdf, columns_to_impute=columns_to_impute)"
   ]
  },
  {
   "cell_type": "code",
   "execution_count": 13,
   "metadata": {},
   "outputs": [],
   "source": [
    "# Define the columns for which values should be copied over\n",
    "columns_to_copy = [\n",
    "    'gov_age_pension_count_2023', 'gov_rent_assist_count_2023',\n",
    "    'personal_income_count_2020', 'personal_income_median_age_2020', \n",
    "    'personal_total_income_millions_2020', 'median_personal_total_income_2020', \n",
    "    'mean_personal_total_income_2020', 'gini_coef_2020'\n",
    "]\n",
    "\n",
    "# Define a helper function to find similar names and copy values over\n",
    "def copy_values_from_similar_names(row, df, columns_to_copy):\n",
    "    # Convert the current sa2_name to lowercase for easier matching\n",
    "    sa2_name_lower = row['sa2_name'].lower()\n",
    "    \n",
    "    # Find rows where the sa2_name contains the base name (ignoring \"east\", \"west\", etc.)\n",
    "    # For instance, \"ballarat\" should match \"ballarat east\", \"ballarat west\", etc.\n",
    "    base_name = sa2_name_lower.split()[0]  # Take the first word as the base, e.g., 'ballarat'\n",
    "    \n",
    "    # Find potential matching rows in the dataframe\n",
    "    similar_rows = df[df['sa2_name'].str.contains(base_name, case=False, na=False)]\n",
    "    \n",
    "    # If there are similar rows and the row itself has NaN values in the target columns, copy the values\n",
    "    for col in columns_to_copy:\n",
    "        if pd.isna(row[col]) and not similar_rows.empty:\n",
    "            row[col] = similar_rows[col].mean()  # Use mean of similar rows for imputation\n",
    "    \n",
    "    return row\n",
    "\n",
    "# Filter the rows where any of the target columns have NaN values\n",
    "rows_with_nan = demographics_imputed[demographics_imputed[columns_to_copy].isna().any(axis=1)]\n",
    "\n",
    "# Apply the imputation function only to rows with NaN values\n",
    "demographics_imputed.loc[rows_with_nan.index] = rows_with_nan.apply(\n",
    "    copy_values_from_similar_names, axis=1, df=demographics_imputed, columns_to_copy=columns_to_copy\n",
    ")\n"
   ]
  },
  {
   "cell_type": "code",
   "execution_count": 14,
   "metadata": {},
   "outputs": [],
   "source": [
    "# Define which columns to fill with mean and which with median\n",
    "mean_columns = [\n",
    "    'personal_total_income_millions_2020', \n",
    "    'mean_personal_total_income_2020', 'gini_coef_2020','gov_age_pension_count_2023',\n",
    "    'gov_rent_assist_count_2023','personal_income_count_2020'\n",
    "]\n",
    "\n",
    "median_columns = [\n",
    "    'median_personal_total_income_2020', 'personal_income_median_age_2020',\n",
    "    'pop_density_persons_km2'\n",
    "]\n",
    "\n",
    "# Fill NaN values with the column mean\n",
    "demographics_imputed[mean_columns] = demographics_imputed[mean_columns].fillna(demographics_imputed[mean_columns].mean())\n",
    "\n",
    "# Fill NaN values with the column median\n",
    "demographics_imputed[median_columns] = demographics_imputed[median_columns].fillna(demographics_imputed[median_columns].median())\n"
   ]
  },
  {
   "cell_type": "code",
   "execution_count": 15,
   "metadata": {},
   "outputs": [],
   "source": [
    "# Define the columns to remove\n",
    "columns_to_remove = [\n",
    "    'UFI', 'PFI', 'LOCALITY', 'GAZLOC', 'VICNAMESID', 'TASK_ID', 'PFI_CR', \n",
    "    'UFI_OLD', 'UFI_CR', 'LABEL_USE_', 'geometry', 'GAZLOC_lower'\n",
    "]\n",
    "\n",
    "# Drop these columns from demographics_imputed\n",
    "demographics_imputed = demographics_imputed.drop(columns=columns_to_remove)\n"
   ]
  },
  {
   "cell_type": "code",
   "execution_count": 16,
   "metadata": {},
   "outputs": [],
   "source": [
    "# Define the columns for which you want to aggregate, and the type of aggregation (sum or mean)\n",
    "aggregation_functions = {\n",
    "    'erp_june_2022_count': 'sum',\n",
    "    'erp_june_2023_count': 'sum',\n",
    "    'erp_change_count': 'sum',\n",
    "    'erp_change_percentage': 'mean',  # Mean for percentage\n",
    "    'natural_increase_count': 'sum',\n",
    "    'net_internal_migration_count': 'sum',\n",
    "    'net_overseas_migration_count': 'sum',\n",
    "    'area_km2': 'sum',\n",
    "    'pop_density_persons_km2': 'mean',  # Population density mean\n",
    "    'gov_age_pension_count_2023': 'sum',\n",
    "    'gov_rent_assist_count_2023': 'sum',\n",
    "    'personal_income_count_2020': 'sum',\n",
    "    'personal_income_median_age_2020': 'mean',  # Median age mean\n",
    "    'personal_total_income_millions_2020': 'sum',\n",
    "    'median_personal_total_income_2020': 'mean',\n",
    "    'mean_personal_total_income_2020': 'mean',\n",
    "    'gini_coef_2020': 'mean'\n",
    "}\n",
    "\n",
    "# Perform aggregation\n",
    "aggregated_data = demographics_imputed.groupby('sa2_name').agg(aggregation_functions).reset_index()\n"
   ]
  },
  {
   "cell_type": "code",
   "execution_count": 18,
   "metadata": {},
   "outputs": [],
   "source": [
    "# Remove the \"(vic.)\" from sa2_name values\n",
    "aggregated_data['sa2_name'] = aggregated_data['sa2_name'].str.replace(r'\\s*\\(vic\\.\\)', '', regex=True)"
   ]
  },
  {
   "cell_type": "code",
   "execution_count": 21,
   "metadata": {},
   "outputs": [],
   "source": [
    "aggregated_data['sa2_name'] = aggregated_data['sa2_name'].replace('melbourne cbd', 'melbourne')"
   ]
  },
  {
   "cell_type": "code",
   "execution_count": 22,
   "metadata": {},
   "outputs": [],
   "source": [
    "aggregated_data.to_csv('../data/curated/demographics.csv', index=False)"
   ]
  }
 ],
 "metadata": {
  "kernelspec": {
   "display_name": "base",
   "language": "python",
   "name": "python3"
  },
  "language_info": {
   "codemirror_mode": {
    "name": "ipython",
    "version": 3
   },
   "file_extension": ".py",
   "mimetype": "text/x-python",
   "name": "python",
   "nbconvert_exporter": "python",
   "pygments_lexer": "ipython3",
   "version": "3.9.18"
  },
  "orig_nbformat": 4
 },
 "nbformat": 4,
 "nbformat_minor": 2
}
