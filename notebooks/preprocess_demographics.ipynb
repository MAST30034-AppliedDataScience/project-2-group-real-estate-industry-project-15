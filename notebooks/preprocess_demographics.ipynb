{
 "cells": [
  {
   "attachments": {},
   "cell_type": "markdown",
   "metadata": {},
   "source": [
    "Before running this notebook, ensure that you have ran `population_scrape.py` under the `scripts` directory.\n",
    "\n",
    "Also, ensure that you have downloaded the income dataset from this link in csv format and put it in the data/landing folder: \n",
    "- https://digital.atlas.gov.au/datasets/digitalatlas::abs-income-including-government-allowances-by-2021-sa2-nov-2023/about \n",
    "\n",
    "Alternatively, you can download the income dataset directly from this link:\n",
    "- https://drive.google.com/file/d/1A79Anfe2QT1IpOtsBVMor-KvRcSuFZME/view?usp=sharing\n",
    "\n",
    "Note that only UniMelb accounts can access the Google Drive link"
   ]
  },
  {
   "attachments": {},
   "cell_type": "markdown",
   "metadata": {},
   "source": [
    "### Import Libraries & Read in Files"
   ]
  },
  {
   "cell_type": "code",
   "execution_count": 16,
   "metadata": {},
   "outputs": [],
   "source": [
    "import warnings\n",
    "import pandas as pd\n",
    "\n",
    "# Suppress all warnings\n",
    "warnings.filterwarnings('ignore')\n",
    "\n",
    "income = pd.read_csv('../data/landing/income.csv')\n",
    "population = pd.read_csv('../data/landing/population.csv')"
   ]
  },
  {
   "cell_type": "markdown",
   "metadata": {},
   "source": [
    "### Feature Selection & Column Renaming for Income Dataset"
   ]
  },
  {
   "cell_type": "code",
   "execution_count": 12,
   "metadata": {},
   "outputs": [],
   "source": [
    "# Define regex patterns to extract only the columns that we want\n",
    "gov_pensions_regex = r'^Government pensions and allowances: (Age pension|Commonwealth rent assistance)'\n",
    "\n",
    "total_income_regex = (\n",
    "    r'^Personal income: (Total income earners|Median total income|Mean total income|Total income)'\n",
    "    r' \\(excl\\. Government pensions and allowances\\)(?!.*(Income share|Quartile|p))'\n",
    ")\n",
    "\n",
    "# Find the relevant columns using regex patterns\n",
    "gov_pensions_columns = income.filter(regex=gov_pensions_regex).columns\n",
    "total_income_columns = income.filter(regex=total_income_regex).columns\n",
    "\n",
    "sa2_name  = ['Statistical Areas Level 2 2021 name']\n",
    "\n",
    "# Combine all selected columns\n",
    "selected_columns =  sa2_name + list(gov_pensions_columns) + list(total_income_columns)\n",
    "\n",
    "# Filter to include only the selected features\n",
    "filtered_income = income[selected_columns]\n",
    "\n",
    "# Renaming columns\n",
    "new_income_names = {\n",
    "    'Statistical Areas Level 2 2021 name': 'sa2_name',\n",
    "    'Government pensions and allowances: Age pension (no.) (Data year: 2023)': 'gov_age_pension_count_2023',\n",
    "    'Government pensions and allowances: Commonwealth rent assistance (no.) (Data year: 2023)': 'gov_rent_assist_count_2023',\n",
    "    'Personal income: Total income earners (excl. Government pensions and allowances)(no.) (Data year: 2020)': 'personal_income_count_2020',\n",
    "    'Personal income: Total income earners (excl. Government pensions and allowances): Median age (years) (Data year: 2020)': 'personal_income_median_age_2020',\n",
    "    'Personal income: Total income (excl. Government pensions and allowances) ($m) (Data year: 2020)': 'personal_total_income_millions_2020',\n",
    "    'Personal income: Median total income (excl. Government pensions and allowances) ($) (Data year: 2020)': 'median_personal_total_income_2020',\n",
    "    'Personal income: Mean total income (excl. Government pensions and allowances) ($) (Data year: 2020)': 'mean_personal_total_income_2020',\n",
    "    'Personal income: Total income (excl. Government pensions and allowances): Gini coefficient (Data year: 2020)' : 'gini_coef_2020'\n",
    "}\n",
    "\n",
    "filtered_income.rename(columns=new_income_names, inplace=True)\n",
    "\n",
    "# Get rid of trailing whitespaces for matching\n",
    "filtered_income['sa2_name'] = filtered_income['sa2_name'].str.rstrip()"
   ]
  },
  {
   "attachments": {},
   "cell_type": "markdown",
   "metadata": {},
   "source": [
    "### Feature Selection & Column Renaming for Population Dataset"
   ]
  },
  {
   "cell_type": "code",
   "execution_count": 13,
   "metadata": {},
   "outputs": [],
   "source": [
    "# Removing irrelevant columns\n",
    "columns_to_drop = ['GCCSA code', 'GCCSA name', 'SA4 code', 'SA4 name', 'SA3 code', 'SA3 name']\n",
    "population = population.drop(columns_to_drop, axis=1)\n",
    "\n",
    "# Rename columns\n",
    "new_population_cols = {\n",
    "    'SA2 code': 'sa2_code',\n",
    "    'SA2 name': 'sa2_name',\n",
    "    'ERP at 30 June 2022 no.': 'erp_june_2022_count',\n",
    "    'ERP at 30 June 2023 no.': 'erp_june_2023_count',\n",
    "    'ERP change 2022-23 no.': 'erp_change_count',\n",
    "    'ERP change 2022-23 %': 'erp_change_percentage',\n",
    "    'Components of population change 2022-23 Natural increase no.': 'natural_increase_count',\n",
    "    'Components of population change 2022-23 Net internal migration no.': 'net_internal_migration_count',\n",
    "    'Components of population change 2022-23 Net overseas migration no.': 'net_overseas_migration_count',\n",
    "    'Area (km2)': 'area_km2',\n",
    "    'Population density 2023 (persons/km2)': 'pop_density_persons_km2'\n",
    "}\n",
    "\n",
    "population.rename(columns=new_population_cols, inplace=True)\n",
    "\n",
    "# Drop empty / invalid SA2 names or codes\n",
    "population = population[~population['sa2_code'].isna()]\n",
    "population = population[~population['sa2_name'].isna()]\n",
    "\n",
    "# Remove SA2 code as we don't need it anymore\n",
    "population = population.drop('sa2_code', axis=1)\n",
    "\n",
    "# Get rid of trailing whitespaces for matching\n",
    "population['sa2_name'] = population['sa2_name'].str.rstrip()"
   ]
  },
  {
   "cell_type": "markdown",
   "metadata": {},
   "source": [
    "### Merge Population & Income Dataset"
   ]
  },
  {
   "cell_type": "code",
   "execution_count": 14,
   "metadata": {},
   "outputs": [],
   "source": [
    "demographics = pd.merge(population, filtered_income, on='sa2_name')\n",
    "demographics.to_csv('../data/raw/demographics.csv', index=False)"
   ]
  }
 ],
 "metadata": {
  "kernelspec": {
   "display_name": "base",
   "language": "python",
   "name": "python3"
  },
  "language_info": {
   "codemirror_mode": {
    "name": "ipython",
    "version": 3
   },
   "file_extension": ".py",
   "mimetype": "text/x-python",
   "name": "python",
   "nbconvert_exporter": "python",
   "pygments_lexer": "ipython3",
   "version": "3.11.7"
  },
  "orig_nbformat": 4
 },
 "nbformat": 4,
 "nbformat_minor": 2
}
