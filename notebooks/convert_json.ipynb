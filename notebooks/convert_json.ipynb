{
 "cells": [
  {
   "cell_type": "markdown",
   "metadata": {},
   "source": [
    "## Convert .json to .csv for scraped properties"
   ]
  },
  {
   "cell_type": "code",
   "execution_count": 1,
   "metadata": {},
   "outputs": [],
   "source": [
    "import pandas as pd\n",
    "import json"
   ]
  },
  {
   "cell_type": "code",
   "execution_count": 2,
   "metadata": {},
   "outputs": [],
   "source": [
    "# Load the JSON file\n",
    "json_file_path = '../data/landing/scraped_properties.json'\n",
    "\n",
    "# Read JSON file\n",
    "with open(json_file_path, 'r') as f:\n",
    "    data = json.load(f)\n",
    "\n",
    "# Convert the JSON data into a flat structure (list of dictionaries)\n",
    "flattened_data = []\n",
    "for url, details in data.items():\n",
    "    # Create a new dictionary for each property, combining the URL and details\n",
    "    property_info = {\"url\": url}\n",
    "    property_info.update(details)\n",
    "    flattened_data.append(property_info)\n",
    "\n",
    "# Convert the flattened data into a DataFrame\n",
    "df = pd.DataFrame(flattened_data)\n",
    "\n",
    "# Specify the output CSV file path\n",
    "output_path = '../data/landing/scraped_properties.csv'\n",
    "\n",
    "# Save the DataFrame to a CSV file\n",
    "df.to_csv(output_path, index=False)"
   ]
  },
  {
   "cell_type": "code",
   "execution_count": null,
   "metadata": {},
   "outputs": [],
   "source": []
  }
 ],
 "metadata": {
  "kernelspec": {
   "display_name": "base",
   "language": "python",
   "name": "python3"
  },
  "language_info": {
   "codemirror_mode": {
    "name": "ipython",
    "version": 3
   },
   "file_extension": ".py",
   "mimetype": "text/x-python",
   "name": "python",
   "nbconvert_exporter": "python",
   "pygments_lexer": "ipython3",
   "version": "3.9.18"
  }
 },
 "nbformat": 4,
 "nbformat_minor": 2
}
