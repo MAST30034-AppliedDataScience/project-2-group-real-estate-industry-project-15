{
 "cells": [
  {
   "cell_type": "markdown",
   "metadata": {},
   "source": [
    "## !!  Important  !!\n",
    "**Before** running this notebook make sure all of the education related datasets are properly downloaded / scraped and saved into the landing folder."
   ]
  },
  {
   "cell_type": "markdown",
   "metadata": {},
   "source": [
    "Also please make sure that the **Demographics** preprocessing notebook is run **before** you run this one\n",
    "- for datasets that are scraped check that they are in the landing folder \n",
    "- for datasets that need to be manually downloaded BEFORE running this notebook:\n",
    "\n",
    "      - please move the csv file (university_locations.csv) to the data/landing folder"
   ]
  },
  {
   "cell_type": "code",
   "execution_count": 2,
   "metadata": {},
   "outputs": [],
   "source": [
    "import pandas as pd\n",
    "import geopandas as gpd\n",
    "import numpy as np\n",
    "from fuzzywuzzy import process, fuzz\n",
    "import os\n"
   ]
  },
  {
   "cell_type": "code",
   "execution_count": null,
   "metadata": {},
   "outputs": [],
   "source": [
    "# a function to check for missing values and NaN\n",
    "def check_for_nans(df, stage):\n",
    "    \"\"\"Check for NaN values in the DataFrame and display the columns and rows where they occur.\"\"\"\n",
    "    print(f\"\\nChecking for NaN values after {stage}:\\n\")\n",
    "    # Check for any missing values in each column\n",
    "    missing_values = df.isnull().sum()\n",
    "    # Display columns with missing values\n",
    "    print(\"Columns with NaN values and their counts:\")\n",
    "    print(missing_values[missing_values > 0])\n",
    "    # Display rows with any NaN values\n",
    "    rows_with_missing = df[df.isnull().any(axis=1)]\n",
    "    print(f\"Rows with NaN values ({len(rows_with_missing)} rows):\")\n",
    "    print(rows_with_missing)\n",
    "    print(\"-\" * 50)"
   ]
  },
  {
   "cell_type": "markdown",
   "metadata": {},
   "source": [
    "### Preprocessing for TAFE locations"
   ]
  },
  {
   "cell_type": "code",
   "execution_count": 4,
   "metadata": {},
   "outputs": [],
   "source": [
    "# reading TAFE dataset\n",
    "tafe_df = pd.read_csv('../data/landing/TAFE_locations.csv')"
   ]
  },
  {
   "cell_type": "code",
   "execution_count": 5,
   "metadata": {},
   "outputs": [],
   "source": [
    "# extract suburbs where TAFE campuses are located\n",
    "def extract_suburbs(location):\n",
    "    suburbs = []\n",
    "    # split by semicolumn and space to get each part of the multiple campus locations\n",
    "    for part in location.split('; '):\n",
    "        # for each part get everything before the first colon (the suburb)\n",
    "        suburb = part.split(':')[0]\n",
    "        suburbs.append(suburb)\n",
    "    return suburbs\n",
    "\n",
    "# apply function to TAFE df\n",
    "tafe_df['suburbs'] = tafe_df['Locations'].apply(extract_suburbs)\n",
    "# each suburb gets an individual row \n",
    "tafe_df = tafe_df.explode('suburbs')\n"
   ]
  },
  {
   "cell_type": "code",
   "execution_count": 6,
   "metadata": {},
   "outputs": [],
   "source": [
    "# drop locations column - dont need anymore\n",
    "tafe_df = tafe_df.drop(columns='Locations')\n",
    "# change column name to align format\n",
    "tafe_df = tafe_df.rename(columns={'Institute Name': 'institute_name'})\n",
    "tafe_df = tafe_df.rename(columns={'suburbs': 'suburb'})\n",
    "tafe_df['institute_name'] = tafe_df['institute_name'].str.lower()\n",
    "tafe_df['suburb'] = tafe_df['suburb'].str.lower()"
   ]
  },
  {
   "cell_type": "code",
   "execution_count": 395,
   "metadata": {},
   "outputs": [
    {
     "data": {
      "text/html": [
       "<div>\n",
       "<style scoped>\n",
       "    .dataframe tbody tr th:only-of-type {\n",
       "        vertical-align: middle;\n",
       "    }\n",
       "\n",
       "    .dataframe tbody tr th {\n",
       "        vertical-align: top;\n",
       "    }\n",
       "\n",
       "    .dataframe thead th {\n",
       "        text-align: right;\n",
       "    }\n",
       "</style>\n",
       "<table border=\"1\" class=\"dataframe\">\n",
       "  <thead>\n",
       "    <tr style=\"text-align: right;\">\n",
       "      <th></th>\n",
       "      <th>institute_name</th>\n",
       "      <th>suburb</th>\n",
       "    </tr>\n",
       "  </thead>\n",
       "  <tbody>\n",
       "    <tr>\n",
       "      <th>0</th>\n",
       "      <td>bendigo tafe</td>\n",
       "      <td>bendigo</td>\n",
       "    </tr>\n",
       "    <tr>\n",
       "      <th>0</th>\n",
       "      <td>bendigo tafe</td>\n",
       "      <td>bendigo</td>\n",
       "    </tr>\n",
       "    <tr>\n",
       "      <th>0</th>\n",
       "      <td>bendigo tafe</td>\n",
       "      <td>castlemaine</td>\n",
       "    </tr>\n",
       "    <tr>\n",
       "      <th>0</th>\n",
       "      <td>bendigo tafe</td>\n",
       "      <td>echuca</td>\n",
       "    </tr>\n",
       "    <tr>\n",
       "      <th>1</th>\n",
       "      <td>box hill institute</td>\n",
       "      <td>box hill</td>\n",
       "    </tr>\n",
       "    <tr>\n",
       "      <th>...</th>\n",
       "      <td>...</td>\n",
       "      <td>...</td>\n",
       "    </tr>\n",
       "    <tr>\n",
       "      <th>14</th>\n",
       "      <td>victoria university</td>\n",
       "      <td>sunshine</td>\n",
       "    </tr>\n",
       "    <tr>\n",
       "      <th>14</th>\n",
       "      <td>victoria university</td>\n",
       "      <td>werribee</td>\n",
       "    </tr>\n",
       "    <tr>\n",
       "      <th>15</th>\n",
       "      <td>william angliss institute</td>\n",
       "      <td>melbourne</td>\n",
       "    </tr>\n",
       "    <tr>\n",
       "      <th>16</th>\n",
       "      <td>wodonga tafe</td>\n",
       "      <td>barnawartha north</td>\n",
       "    </tr>\n",
       "    <tr>\n",
       "      <th>16</th>\n",
       "      <td>wodonga tafe</td>\n",
       "      <td>west wodonga</td>\n",
       "    </tr>\n",
       "  </tbody>\n",
       "</table>\n",
       "<p>85 rows × 2 columns</p>\n",
       "</div>"
      ],
      "text/plain": [
       "               institute_name             suburb\n",
       "0                bendigo tafe            bendigo\n",
       "0                bendigo tafe            bendigo\n",
       "0                bendigo tafe        castlemaine\n",
       "0                bendigo tafe             echuca\n",
       "1          box hill institute           box hill\n",
       "..                        ...                ...\n",
       "14        victoria university           sunshine\n",
       "14        victoria university           werribee\n",
       "15  william angliss institute          melbourne\n",
       "16               wodonga tafe  barnawartha north\n",
       "16               wodonga tafe       west wodonga\n",
       "\n",
       "[85 rows x 2 columns]"
      ]
     },
     "execution_count": 395,
     "metadata": {},
     "output_type": "execute_result"
    }
   ],
   "source": [
    "tafe_df"
   ]
  },
  {
   "cell_type": "markdown",
   "metadata": {},
   "source": [
    "### Preprocessing for University locations"
   ]
  },
  {
   "cell_type": "code",
   "execution_count": 7,
   "metadata": {},
   "outputs": [],
   "source": [
    "# reading university dataset\n",
    "university_df = pd.read_csv('../data/landing/university_locations.csv')"
   ]
  },
  {
   "cell_type": "code",
   "execution_count": 8,
   "metadata": {},
   "outputs": [],
   "source": [
    "# drop columns that we dont need \n",
    "university_df = university_df.drop(columns=['Campus', 'City or Town', 'Post Code', 'Name'])\n",
    "# rename columns \n",
    "university_df = university_df.rename(columns={'University': 'institute_name'})\n",
    "university_df['institute_name'] = university_df['institute_name'].str.lower()\n"
   ]
  },
  {
   "cell_type": "code",
   "execution_count": 9,
   "metadata": {},
   "outputs": [],
   "source": [
    "# extract the suburb information from address column\n",
    "pattern = r'(?:,\\s*(.*?)\\s*V)|(?:\\s+([^\\s]+)\\s*V)' # i want the text between , and VIC, if theres no , then between a space and VIC\n",
    "university_df['suburb'] = university_df['Address'].str.extract(pattern).bfill(axis=1).iloc[:, 0]\n",
    "university_df['suburb'] = university_df['suburb'].str.lower()\n",
    "\n",
    "# drop columnds that we dont need\n",
    "university_df = university_df.drop(columns=['Address'])\n",
    "\n",
    "# remove any punctuation\n",
    "university_df['suburb'] = university_df['suburb'].str.replace('[,\"\\']', '', regex=True)"
   ]
  },
  {
   "cell_type": "markdown",
   "metadata": {},
   "source": [
    "##### Combine into Tertiary Insitution location csv"
   ]
  },
  {
   "cell_type": "code",
   "execution_count": 10,
   "metadata": {},
   "outputs": [],
   "source": [
    "tertiary_df = pd.concat([tafe_df, university_df], ignore_index=True)\n",
    "\n",
    "# save as csv to data/raw folder \n",
    "tertiary_df.to_csv('../data/raw/tertiary_insitutions_suburbs.csv', index=False)"
   ]
  },
  {
   "cell_type": "markdown",
   "metadata": {},
   "source": [
    "### Preprocessing for Primary Secondary location"
   ]
  },
  {
   "cell_type": "code",
   "execution_count": 11,
   "metadata": {},
   "outputs": [],
   "source": [
    "# reading dataset\n",
    "# specify encoding to handle non-UTF-8 characters\n",
    "prim_sec_df = pd.read_csv('../data/landing/2023_primary_secondary_locations.csv', encoding='ISO-8859-1')"
   ]
  },
  {
   "cell_type": "code",
   "execution_count": 12,
   "metadata": {},
   "outputs": [],
   "source": [
    "# list of columns to keep\n",
    "columns_to_keep = ['School_Name', 'School_Type', 'Address_Town', 'Address_Postcode', 'X', 'Y']\n",
    "# keep selected columns\n",
    "prim_sec_df = prim_sec_df[columns_to_keep]\n",
    "# change column names\n",
    "prim_sec_df = prim_sec_df.rename(columns={\n",
    "    'School_Name': 'school_name',\n",
    "    'School_Type': 'school_type',\n",
    "    'Address_Town': 'suburb',\n",
    "    'Address_Postcode': 'postcode',\n",
    "    'X': 'longitude',\n",
    "    'Y': 'latitude'\n",
    "})\n",
    "\n",
    "prim_sec_df['school_name'] = prim_sec_df['school_name'].str.lower()\n",
    "prim_sec_df['suburb'] = prim_sec_df['suburb'].str.lower()\n",
    "prim_sec_df['school_type'] = prim_sec_df['school_type'].str.lower()"
   ]
  },
  {
   "cell_type": "code",
   "execution_count": 13,
   "metadata": {},
   "outputs": [],
   "source": [
    "# split df into primary schools and secondary schools\n",
    "primary_schools_df = prim_sec_df[prim_sec_df['school_type'].isin(['primary', 'pri/sec'])]\n",
    "secondary_schools_df = prim_sec_df[prim_sec_df['school_type'].isin(['secondary', 'pri/sec'])]"
   ]
  },
  {
   "cell_type": "code",
   "execution_count": 117,
   "metadata": {},
   "outputs": [
    {
     "name": "stdout",
     "output_type": "stream",
     "text": [
      "<class 'pandas.core.frame.DataFrame'>\n",
      "Index: 1823 entries, 0 to 2301\n",
      "Data columns (total 6 columns):\n",
      " #   Column       Non-Null Count  Dtype  \n",
      "---  ------       --------------  -----  \n",
      " 0   school_name  1823 non-null   object \n",
      " 1   school_type  1823 non-null   object \n",
      " 2   suburb       1823 non-null   object \n",
      " 3   postcode     1823 non-null   int64  \n",
      " 4   longitude    1823 non-null   float64\n",
      " 5   latitude     1823 non-null   float64\n",
      "dtypes: float64(2), int64(1), object(3)\n",
      "memory usage: 99.7+ KB\n"
     ]
    }
   ],
   "source": [
    "primary_schools_df.info()"
   ]
  },
  {
   "cell_type": "markdown",
   "metadata": {},
   "source": [
    "creating ranking for primary schools"
   ]
  },
  {
   "cell_type": "code",
   "execution_count": 104,
   "metadata": {},
   "outputs": [],
   "source": [
    "all_enrollments = pd.read_csv('../data/landing/All_schools_enrollments.csv', encoding='ISO-8859-1')"
   ]
  },
  {
   "cell_type": "code",
   "execution_count": 105,
   "metadata": {},
   "outputs": [
    {
     "name": "stdout",
     "output_type": "stream",
     "text": [
      "                  school_name  total_enrollments\n",
      "4         st patrick's school              247.0\n",
      "5   st alipius' parish school              238.0\n",
      "8            st mary's school              163.2\n",
      "9         sacred heart school              307.0\n",
      "10           st mary's school              286.6\n"
     ]
    }
   ],
   "source": [
    "# extract required columns 'School_Name', 'School_Type', and 'Primary Total'\n",
    "prim_enrollments = all_enrollments[['School_Name', 'School_Type', '\"Primary Total\"']]\n",
    "# clean column names and values to lowercase\n",
    "prim_enrollments.columns = [col.lower().replace('\"', '').strip() for col in prim_enrollments.columns]\n",
    "prim_enrollments = prim_enrollments.apply(lambda col: col.str.lower() if col.dtype == 'object' else col)\n",
    "# filter to exclude secondary schools\n",
    "prim_enrollments = prim_enrollments[prim_enrollments['school_type'].isin(['primary', 'pri/sec'])]\n",
    "# rename 'primary total' to 'total_enrollments'\n",
    "prim_enrollments = prim_enrollments.rename(columns={'primary total': 'total_enrollments'})\n",
    "# drop 'school_type' column\n",
    "prim_enrollments = prim_enrollments.drop(columns=['school_type'])"
   ]
  },
  {
   "cell_type": "code",
   "execution_count": 124,
   "metadata": {},
   "outputs": [],
   "source": [
    "# dealing with duplicates: keeping entries with the highest total_enrollments for each school_name\n",
    "prim_enrollments = prim_enrollments.sort_values('total_enrollments', ascending=False).drop_duplicates(subset='school_name', keep='first')\n",
    "# round enrollment counts up to nearest whole number\n",
    "prim_enrollments['total_enrollments'] = np.ceil(prim_enrollments['total_enrollments'])"
   ]
  },
  {
   "cell_type": "code",
   "execution_count": 125,
   "metadata": {},
   "outputs": [
    {
     "name": "stdout",
     "output_type": "stream",
     "text": [
      "<class 'pandas.core.frame.DataFrame'>\n",
      "Index: 1636 entries, 1665 to 968\n",
      "Data columns (total 2 columns):\n",
      " #   Column             Non-Null Count  Dtype  \n",
      "---  ------             --------------  -----  \n",
      " 0   school_name        1636 non-null   object \n",
      " 1   total_enrollments  1636 non-null   float64\n",
      "dtypes: float64(1), object(1)\n",
      "memory usage: 38.3+ KB\n"
     ]
    }
   ],
   "source": [
    "prim_enrollments.info()"
   ]
  },
  {
   "cell_type": "markdown",
   "metadata": {},
   "source": [
    "merging locations with enrollment number"
   ]
  },
  {
   "cell_type": "code",
   "execution_count": 127,
   "metadata": {},
   "outputs": [],
   "source": [
    "# exact match based on 'school_name'\n",
    "primary_schools_exact_matched = pd.merge(primary_schools_df, \n",
    "                                    prim_enrollments[['school_name', 'total_enrollments']], \n",
    "                                    on='school_name', how='left')\n",
    "# identify schools without exact matches (where total_enrollments is NaN)\n",
    "unmatched_schools = primary_schools_exact_matched[primary_schools_exact_matched['total_enrollments'].isna()]['school_name'].tolist()\n",
    "# fuzzy match for the identified unmatched schools\n",
    "def fuzzy_match(school_name, choices, threshold=90):\n",
    "    match, score = process.extractOne(school_name, choices)\n",
    "    if score >= threshold:\n",
    "        return match\n",
    "    else:\n",
    "        return None\n",
    "# get list of school names from prim_enrollments for matching\n",
    "prim_enrollment_names = prim_enrollments['school_name'].tolist()\n",
    "# dictionary to store fuzzy matches\n",
    "fuzzy_matches = {}\n",
    "# apply fuzzy matching\n",
    "for school in unmatched_schools:\n",
    "    match = fuzzy_match(school, prim_enrollment_names)\n",
    "    if match:\n",
    "        fuzzy_matches[school] = match\n",
    "# update original df with fuzzy matched results\n",
    "for school, match in fuzzy_matches.items():\n",
    "    enrollment_value = prim_enrollments[prim_enrollments['school_name'] == match]['total_enrollments'].values[0]\n",
    "    primary_schools_exact_matched.loc[primary_schools_exact_matched['school_name'] == school, 'total_enrollments'] = enrollment_value\n",
    "# remove rows for remaining unmatched schools\n",
    "primary_schools_df = primary_schools_exact_matched.dropna(subset=['total_enrollments'])"
   ]
  },
  {
   "cell_type": "code",
   "execution_count": 150,
   "metadata": {},
   "outputs": [
    {
     "name": "stdout",
     "output_type": "stream",
     "text": [
      "<class 'pandas.core.frame.DataFrame'>\n",
      "Index: 1817 entries, 0 to 1822\n",
      "Data columns (total 7 columns):\n",
      " #   Column             Non-Null Count  Dtype  \n",
      "---  ------             --------------  -----  \n",
      " 0   school_name        1817 non-null   object \n",
      " 1   school_type        1817 non-null   object \n",
      " 2   suburb             1817 non-null   object \n",
      " 3   postcode           1817 non-null   int64  \n",
      " 4   longitude          1817 non-null   float64\n",
      " 5   latitude           1817 non-null   float64\n",
      " 6   total_enrollments  1817 non-null   float64\n",
      "dtypes: float64(3), int64(1), object(3)\n",
      "memory usage: 113.6+ KB\n"
     ]
    }
   ],
   "source": [
    "primary_schools_df.info()"
   ]
  },
  {
   "cell_type": "markdown",
   "metadata": {},
   "source": [
    "merging locations data (which now includes enrollment number) to demographics for population"
   ]
  },
  {
   "cell_type": "code",
   "execution_count": 240,
   "metadata": {},
   "outputs": [],
   "source": [
    "demographics = pd.read_csv('../data/curated/demographics.csv')\n",
    "pop_density_df = demographics[['sa2_name', 'area_km2', 'pop_density_persons_km2']]\n",
    "pop_density_df = pop_density_df.rename(columns={'sa2_name': 'suburb'})"
   ]
  },
  {
   "cell_type": "code",
   "execution_count": 327,
   "metadata": {},
   "outputs": [],
   "source": [
    "# replace entries of 0 with 0.00001 in 'pop_density_persons_km2'\n",
    "pop_density_df.loc[pop_density_df['pop_density_persons_km2'] == 0, 'pop_density_persons_km2'] = 0.00001\n",
    "# create new column 'population' by multiplying 'area_km2' and 'pop_density_persons_km2'\n",
    "pop_density_df['population'] = pop_density_df['area_km2'] * pop_density_df['pop_density_persons_km2']"
   ]
  },
  {
   "cell_type": "code",
   "execution_count": 328,
   "metadata": {},
   "outputs": [],
   "source": [
    "# merge df on 'suburb' to add the population data\n",
    "primary_schools_df_with_population = primary_schools_df.merge(\n",
    "    pop_density_df[['suburb', 'population']], \n",
    "    on='suburb', \n",
    "    how='left'\n",
    ")\n",
    "# fill illing NaN values in the 'population' column with 0 for unmatched suburbs\n",
    "primary_schools_df_with_population['population'] = primary_schools_df_with_population['population'].fillna(0)"
   ]
  },
  {
   "cell_type": "markdown",
   "metadata": {},
   "source": [
    "it seems as though the demographic data our team has acquired does not include all of the suburbs that the education dataset includes. for the suburbs that do not have a recorded population, fill in estimated population based on the median population of suburbs with similar enrolment counts"
   ]
  },
  {
   "cell_type": "code",
   "execution_count": 329,
   "metadata": {},
   "outputs": [],
   "source": [
    "# loop through each row where population is 0\n",
    "for index, row in primary_schools_df_with_population[primary_schools_df_with_population['population'] == 0].iterrows():\n",
    "    # get the total_enrollments value for the current row\n",
    "    enrollments = row['total_enrollments']\n",
    "    \n",
    "    # find rows with non-zero population and total_enrollments within a difference of 16\n",
    "    similar_rows = primary_schools_df_with_population[\n",
    "        (primary_schools_df_with_population['population'] != 0) &\n",
    "        (primary_schools_df_with_population['total_enrollments'].between(enrollments - 16, enrollments + 16))\n",
    "    ].copy()\n",
    "    \n",
    "    # if similar rows are found, select the two closest entries by total_enrollments\n",
    "    if not similar_rows.empty:\n",
    "        similar_rows['enrollment_diff'] = (similar_rows['total_enrollments'] - enrollments).abs()\n",
    "        \n",
    "        # calculate median population of the closest entries\n",
    "        median_population = similar_rows['population'].median()\n",
    "        \n",
    "        # update the population value for the current row\n",
    "        primary_schools_df_with_population.at[index, 'population'] = median_population"
   ]
  },
  {
   "cell_type": "code",
   "execution_count": 330,
   "metadata": {},
   "outputs": [
    {
     "data": {
      "text/html": [
       "<div>\n",
       "<style scoped>\n",
       "    .dataframe tbody tr th:only-of-type {\n",
       "        vertical-align: middle;\n",
       "    }\n",
       "\n",
       "    .dataframe tbody tr th {\n",
       "        vertical-align: top;\n",
       "    }\n",
       "\n",
       "    .dataframe thead th {\n",
       "        text-align: right;\n",
       "    }\n",
       "</style>\n",
       "<table border=\"1\" class=\"dataframe\">\n",
       "  <thead>\n",
       "    <tr style=\"text-align: right;\">\n",
       "      <th></th>\n",
       "      <th>school_name</th>\n",
       "      <th>school_type</th>\n",
       "      <th>suburb</th>\n",
       "      <th>postcode</th>\n",
       "      <th>longitude</th>\n",
       "      <th>latitude</th>\n",
       "      <th>total_enrollments</th>\n",
       "      <th>population</th>\n",
       "    </tr>\n",
       "  </thead>\n",
       "  <tbody>\n",
       "    <tr>\n",
       "      <th>0</th>\n",
       "      <td>alberton primary school</td>\n",
       "      <td>primary</td>\n",
       "      <td>alberton</td>\n",
       "      <td>3971</td>\n",
       "      <td>146.66660</td>\n",
       "      <td>-38.61771</td>\n",
       "      <td>85.0</td>\n",
       "      <td>15362.640</td>\n",
       "    </tr>\n",
       "    <tr>\n",
       "      <th>1</th>\n",
       "      <td>allansford and district primary school</td>\n",
       "      <td>primary</td>\n",
       "      <td>allansford</td>\n",
       "      <td>3277</td>\n",
       "      <td>142.59039</td>\n",
       "      <td>-38.38628</td>\n",
       "      <td>179.0</td>\n",
       "      <td>14114.900</td>\n",
       "    </tr>\n",
       "    <tr>\n",
       "      <th>2</th>\n",
       "      <td>avoca primary school</td>\n",
       "      <td>primary</td>\n",
       "      <td>avoca</td>\n",
       "      <td>3467</td>\n",
       "      <td>143.47565</td>\n",
       "      <td>-37.08450</td>\n",
       "      <td>102.0</td>\n",
       "      <td>3599.820</td>\n",
       "    </tr>\n",
       "    <tr>\n",
       "      <th>3</th>\n",
       "      <td>avenel primary school</td>\n",
       "      <td>primary</td>\n",
       "      <td>avenel</td>\n",
       "      <td>3664</td>\n",
       "      <td>145.23472</td>\n",
       "      <td>-36.90137</td>\n",
       "      <td>152.0</td>\n",
       "      <td>14148.475</td>\n",
       "    </tr>\n",
       "    <tr>\n",
       "      <th>4</th>\n",
       "      <td>warrandyte primary school</td>\n",
       "      <td>primary</td>\n",
       "      <td>warrandyte</td>\n",
       "      <td>3113</td>\n",
       "      <td>145.21398</td>\n",
       "      <td>-37.74268</td>\n",
       "      <td>187.0</td>\n",
       "      <td>10149.280</td>\n",
       "    </tr>\n",
       "    <tr>\n",
       "      <th>...</th>\n",
       "      <td>...</td>\n",
       "      <td>...</td>\n",
       "      <td>...</td>\n",
       "      <td>...</td>\n",
       "      <td>...</td>\n",
       "      <td>...</td>\n",
       "      <td>...</td>\n",
       "      <td>...</td>\n",
       "    </tr>\n",
       "    <tr>\n",
       "      <th>1820</th>\n",
       "      <td>st lawrence of brindisi catholic primary school</td>\n",
       "      <td>primary</td>\n",
       "      <td>weir views</td>\n",
       "      <td>3338</td>\n",
       "      <td>144.57246</td>\n",
       "      <td>-37.73305</td>\n",
       "      <td>278.0</td>\n",
       "      <td>20186.100</td>\n",
       "    </tr>\n",
       "    <tr>\n",
       "      <th>1821</th>\n",
       "      <td>lysterfield lake college</td>\n",
       "      <td>primary</td>\n",
       "      <td>narre warren north</td>\n",
       "      <td>3804</td>\n",
       "      <td>145.31604</td>\n",
       "      <td>-37.97748</td>\n",
       "      <td>72.0</td>\n",
       "      <td>8204.400</td>\n",
       "    </tr>\n",
       "    <tr>\n",
       "      <th>1822</th>\n",
       "      <td>holy cross catholic primary school</td>\n",
       "      <td>primary</td>\n",
       "      <td>mickleham</td>\n",
       "      <td>3064</td>\n",
       "      <td>144.90520</td>\n",
       "      <td>-37.53046</td>\n",
       "      <td>265.0</td>\n",
       "      <td>31959.120</td>\n",
       "    </tr>\n",
       "    <tr>\n",
       "      <th>1823</th>\n",
       "      <td>sidrah gardens school</td>\n",
       "      <td>primary</td>\n",
       "      <td>narre warren north</td>\n",
       "      <td>3804</td>\n",
       "      <td>145.31589</td>\n",
       "      <td>-37.97324</td>\n",
       "      <td>53.0</td>\n",
       "      <td>8204.400</td>\n",
       "    </tr>\n",
       "    <tr>\n",
       "      <th>1824</th>\n",
       "      <td>mary queen of heaven catholic primary school</td>\n",
       "      <td>primary</td>\n",
       "      <td>greenvale</td>\n",
       "      <td>3059</td>\n",
       "      <td>144.88566</td>\n",
       "      <td>-37.62974</td>\n",
       "      <td>106.0</td>\n",
       "      <td>24607.940</td>\n",
       "    </tr>\n",
       "  </tbody>\n",
       "</table>\n",
       "<p>1825 rows × 8 columns</p>\n",
       "</div>"
      ],
      "text/plain": [
       "                                          school_name school_type  \\\n",
       "0                             alberton primary school     primary   \n",
       "1              allansford and district primary school     primary   \n",
       "2                                avoca primary school     primary   \n",
       "3                               avenel primary school     primary   \n",
       "4                           warrandyte primary school     primary   \n",
       "...                                               ...         ...   \n",
       "1820  st lawrence of brindisi catholic primary school     primary   \n",
       "1821                         lysterfield lake college     primary   \n",
       "1822               holy cross catholic primary school     primary   \n",
       "1823                            sidrah gardens school     primary   \n",
       "1824     mary queen of heaven catholic primary school     primary   \n",
       "\n",
       "                  suburb  postcode  longitude  latitude  total_enrollments  \\\n",
       "0               alberton      3971  146.66660 -38.61771               85.0   \n",
       "1             allansford      3277  142.59039 -38.38628              179.0   \n",
       "2                  avoca      3467  143.47565 -37.08450              102.0   \n",
       "3                 avenel      3664  145.23472 -36.90137              152.0   \n",
       "4             warrandyte      3113  145.21398 -37.74268              187.0   \n",
       "...                  ...       ...        ...       ...                ...   \n",
       "1820          weir views      3338  144.57246 -37.73305              278.0   \n",
       "1821  narre warren north      3804  145.31604 -37.97748               72.0   \n",
       "1822           mickleham      3064  144.90520 -37.53046              265.0   \n",
       "1823  narre warren north      3804  145.31589 -37.97324               53.0   \n",
       "1824           greenvale      3059  144.88566 -37.62974              106.0   \n",
       "\n",
       "      population  \n",
       "0      15362.640  \n",
       "1      14114.900  \n",
       "2       3599.820  \n",
       "3      14148.475  \n",
       "4      10149.280  \n",
       "...          ...  \n",
       "1820   20186.100  \n",
       "1821    8204.400  \n",
       "1822   31959.120  \n",
       "1823    8204.400  \n",
       "1824   24607.940  \n",
       "\n",
       "[1825 rows x 8 columns]"
      ]
     },
     "execution_count": 330,
     "metadata": {},
     "output_type": "execute_result"
    }
   ],
   "source": [
    "primary_schools_df_with_population"
   ]
  },
  {
   "cell_type": "markdown",
   "metadata": {},
   "source": [
    "calculate enrolment percentage and rank"
   ]
  },
  {
   "cell_type": "code",
   "execution_count": 331,
   "metadata": {},
   "outputs": [],
   "source": [
    "# Calculate 'enrollment_percentage' as total_enrollments divided by population\n",
    "primary_schools_df_with_population['enrollment_percentage'] = (\n",
    "    primary_schools_df_with_population['total_enrollments'] / primary_schools_df_with_population['population']\n",
    ")\n",
    "\n",
    "# Handle any potential division by zero or NaN values by creating a new series\n",
    "primary_schools_df_with_population['enrollment_percentage'] = primary_schools_df_with_population['enrollment_percentage'].fillna(0)\n",
    "primary_schools_df_with_population['enrollment_percentage'] = primary_schools_df_with_population['enrollment_percentage'].replace([float('inf'), -float('inf')], 0)\n",
    "\n",
    "# Create the 'rank' column based on the 'enrollment_percentage', with higher percentages ranked better\n",
    "primary_schools_df_with_population['rank'] = primary_schools_df_with_population['enrollment_percentage'].rank(\n",
    "    method='min', ascending=False\n",
    ").astype(int)"
   ]
  },
  {
   "cell_type": "code",
   "execution_count": 332,
   "metadata": {},
   "outputs": [],
   "source": [
    "primary_schools_df_final = primary_schools_df_with_population"
   ]
  },
  {
   "cell_type": "code",
   "execution_count": 334,
   "metadata": {},
   "outputs": [],
   "source": [
    "primary_schools_df_final.to_csv('../data/raw/primary_school_locations.csv', index=False)"
   ]
  },
  {
   "cell_type": "markdown",
   "metadata": {},
   "source": [
    "### Preprocessing for Highschool rankings"
   ]
  },
  {
   "cell_type": "markdown",
   "metadata": {},
   "source": [
    "##### Creating highschool rankings using school completion and achievement information"
   ]
  },
  {
   "cell_type": "code",
   "execution_count": 356,
   "metadata": {},
   "outputs": [],
   "source": [
    "hs_achievement = pd.read_csv('../data/landing/2023SeniorSecondaryCompletionAndAchievementInformation.csv')"
   ]
  },
  {
   "cell_type": "code",
   "execution_count": 358,
   "metadata": {},
   "outputs": [],
   "source": [
    "# removing trailing and leading spaces from column names\n",
    "hs_achievement.columns = hs_achievement.columns.str.strip()\n",
    "# remove trailing and leading spaces from string entries in df\n",
    "hs_achievement = hs_achievement.apply(lambda col: col.map(lambda x: x.strip() if isinstance(x, str) else x))\n",
    "\n",
    "columns_to_keep = ['School', \n",
    "                   'Number of VCE and VCE Vocational Major (VM) studies at Units 3 and 4 level with enrolments', \n",
    "                   'Percentage of satisfactory VCE completions', \n",
    "                   'Median VCE study score', \n",
    "                   'Percentage of study scores of 40 and over']\n",
    "hs_achievement = hs_achievement[columns_to_keep]"
   ]
  },
  {
   "cell_type": "code",
   "execution_count": 359,
   "metadata": {},
   "outputs": [],
   "source": [
    "cols_to_convert = hs_achievement.columns.difference(['School'])\n",
    "# convert the non-school columns to numeric, coercing errors to NaN\n",
    "hs_achievement[cols_to_convert] = hs_achievement[cols_to_convert].apply(pd.to_numeric, errors='coerce')\n",
    "\n",
    "# fill missing values with the median of their respective columns\n",
    "for col in cols_to_convert:\n",
    "    median_value = hs_achievement[col].median()\n",
    "    # assign column with filled NaN values directly back to df\n",
    "    hs_achievement[col] = hs_achievement[col].fillna(median_value)"
   ]
  },
  {
   "cell_type": "code",
   "execution_count": 361,
   "metadata": {},
   "outputs": [],
   "source": [
    "# define weights for each column based on importance\n",
    "weights = {\n",
    "    'Percentage of study scores of 40 and over': 0.4,\n",
    "    'Median VCE study score': 0.3,\n",
    "    'Number of VCE and VCE Vocational Major (VM) studies at Units 3 and 4 level with enrolments': 0.15,\n",
    "    'Percentage of satisfactory VCE completions': 0.15\n",
    "}\n",
    "\n",
    "# normalise scores by dividing each by its maximum value, so they are on the same scale\n",
    "for col in weights.keys():\n",
    "    hs_achievement[col] = hs_achievement[col] / hs_achievement[col].max()\n",
    "\n",
    "# calculate total score as the weighted sum of the columns\n",
    "hs_achievement['total_score'] = (\n",
    "    hs_achievement['Percentage of study scores of 40 and over'] * weights['Percentage of study scores of 40 and over'] +\n",
    "    hs_achievement['Median VCE study score'] * weights['Median VCE study score'] +\n",
    "    hs_achievement['Number of VCE and VCE Vocational Major (VM) studies at Units 3 and 4 level with enrolments'] * weights['Number of VCE and VCE Vocational Major (VM) studies at Units 3 and 4 level with enrolments'] +\n",
    "    hs_achievement['Percentage of satisfactory VCE completions'] * weights['Percentage of satisfactory VCE completions']\n",
    ")\n",
    "\n",
    "# rank schools based on the total score (1 is best)\n",
    "hs_achievement['school_rank'] = hs_achievement['total_score'].rank(ascending=False)"
   ]
  },
  {
   "cell_type": "code",
   "execution_count": 363,
   "metadata": {},
   "outputs": [],
   "source": [
    "hs_achievement = hs_achievement.sort_values(by='school_rank')\n",
    "hs_achievement['school_rank'] = hs_achievement['school_rank'].round().astype(int)\n",
    "cols = hs_achievement.columns.tolist()\n",
    "# move 'school_rank' to the second position\n",
    "cols.insert(1, cols.pop(cols.index('school_rank')))\n",
    "# reorder df\n",
    "hs_achievement = hs_achievement[cols]"
   ]
  },
  {
   "cell_type": "code",
   "execution_count": 364,
   "metadata": {},
   "outputs": [],
   "source": [
    "# rename the columns: lowercase and replace spaces with underscores\n",
    "hs_achievement.columns = hs_achievement.columns.str.lower().str.replace(' ', '_')\n",
    "# convert all entries in the 'school' column to lowercase\n",
    "hs_achievement['school'] = hs_achievement['school'].str.lower()"
   ]
  },
  {
   "cell_type": "code",
   "execution_count": 365,
   "metadata": {},
   "outputs": [],
   "source": [
    "hs_achievement = hs_achievement.rename(columns={\n",
    "    'school_rank': 'rank',\n",
    "    'school': 'school_name',\n",
    "})"
   ]
  },
  {
   "cell_type": "markdown",
   "metadata": {},
   "source": [
    "##### fuzzy match school_names to map rankings to schools"
   ]
  },
  {
   "cell_type": "code",
   "execution_count": 367,
   "metadata": {},
   "outputs": [],
   "source": [
    "# Step 1: Define a function to remove common words for matching purposes\n",
    "def clean_school_name(name):\n",
    "    common_words = ['college', 'school', 'centre', 'senior', 'prep', 'year', 'secondary', \n",
    "                    'primary', 'grammar', 'christian', 'catholic', 'p-9', 'p-12', '-9', 'sec']\n",
    "    tokens = name.split()\n",
    "    filtered_tokens = [token for token in tokens if token.lower() not in common_words]\n",
    "    return ' '.join(filtered_tokens)\n",
    "\n",
    "# Function to perform fuzzy matching\n",
    "def fuzzy_match_school(school, achievement_schools_cleaned):\n",
    "    return process.extractOne(school, achievement_schools_cleaned)\n",
    "\n",
    "# Step 2: Create cleaned school name lists for matching\n",
    "achievement_schools_cleaned = [clean_school_name(school) for school in hs_achievement['school_name'].tolist()]\n",
    "secondary_schools_cleaned = [clean_school_name(school) for school in secondary_schools_df['school_name'].tolist()]\n",
    "\n",
    "# Step 3: Perform fuzzy matching using the cleaned school names\n",
    "best_matches = []\n",
    "match_scores = []\n",
    "\n",
    "for school in secondary_schools_cleaned:\n",
    "    match, score = fuzzy_match_school(school, achievement_schools_cleaned)\n",
    "    best_matches.append(match)  # Store the best match (from cleaned names)\n",
    "    match_scores.append(score)  # Store the match score\n",
    "\n",
    "# Step 4: Create a DataFrame to store the matches along with their scores\n",
    "match_df = pd.DataFrame({\n",
    "    'original_school_name_in_secondary': secondary_schools_df['school_name'],  # Original school names\n",
    "    'cleaned_school_name_in_secondary': secondary_schools_cleaned,  # Cleaned school names\n",
    "    'best_match_cleaned': best_matches,  # Best match (from cleaned names)\n",
    "    'match_score': match_scores  # Match score\n",
    "})\n",
    "\n",
    "# Step 5: Set your match score threshold for a valid match\n",
    "threshold = 88\n",
    "\n",
    "# Filter matches that exceed the threshold\n",
    "match_df_filtered = match_df[match_df['match_score'] >= threshold]\n",
    "\n",
    "# Step 6: Prepare hs_achievement_cleaned DataFrame\n",
    "hs_achievement_cleaned = pd.DataFrame({\n",
    "    'original_school_name_in_achievement': hs_achievement['school_name'],  # Original names\n",
    "    'cleaned_school_name_in_achievement': achievement_schools_cleaned,  # Cleaned names\n",
    "    'rank': hs_achievement['rank']  # Rank\n",
    "})\n",
    "\n",
    "# Step 7: Merge the cleaned school name matches to get the rank\n",
    "match_df_filtered = match_df_filtered.merge(\n",
    "    hs_achievement_cleaned[['cleaned_school_name_in_achievement', 'rank']], \n",
    "    left_on='best_match_cleaned', right_on='cleaned_school_name_in_achievement', how='left'\n",
    ")\n",
    "\n",
    "# Step 8: Merge with the secondary_schools_df to include the rank\n",
    "final_secondary_schools_df = pd.merge(\n",
    "    secondary_schools_df, \n",
    "    match_df_filtered[['original_school_name_in_secondary', 'rank']], \n",
    "    left_on='school_name', \n",
    "    right_on='original_school_name_in_secondary', \n",
    "    how='left'\n",
    ")\n",
    "\n",
    "final_secondary_schools_df.drop(columns=['original_school_name_in_secondary'], inplace=True)"
   ]
  },
  {
   "cell_type": "code",
   "execution_count": 370,
   "metadata": {},
   "outputs": [],
   "source": [
    "# Identify entries in final_secondary_schools_df with NaN rank\n",
    "nan_rank_entries = final_secondary_schools_df[final_secondary_schools_df['rank'].isnull()].copy()\n",
    "\n",
    "# Define a function to identify why rank is NaN for each entry\n",
    "def find_nan_reason(row, match_df, hs_achievement_cleaned, threshold):\n",
    "    school_name = row['school_name']\n",
    "    # Check if it exists in match_df\n",
    "    match_entry = match_df[match_df['original_school_name_in_secondary'] == school_name]\n",
    "    if match_entry.empty:\n",
    "        return \"No match found in match_df\"\n",
    "    \n",
    "    # Check if match score is below threshold\n",
    "    match_score = match_entry['match_score'].values[0]\n",
    "    if match_score < threshold:\n",
    "        return f\"Match score ({match_score}) below threshold\"\n",
    "    \n",
    "    # Check if the best match cleaned name exists in hs_achievement_cleaned\n",
    "    best_match = match_entry['best_match_cleaned'].values[0]\n",
    "    if hs_achievement_cleaned[hs_achievement_cleaned['cleaned_school_name_in_achievement'] == best_match].empty:\n",
    "        return \"Best match cleaned name not found in hs_achievement_cleaned\"\n",
    "    \n",
    "    # If all else passes, it's an unexpected NaN\n",
    "    return \"Unknown reason\"\n",
    "\n",
    "# Apply the function to find the reason for NaN rank\n",
    "nan_rank_entries['reason_for_nan'] = nan_rank_entries.apply(\n",
    "    find_nan_reason, axis=1, \n",
    "    match_df=match_df, \n",
    "    hs_achievement_cleaned=hs_achievement_cleaned, \n",
    "    threshold=threshold\n",
    ")"
   ]
  },
  {
   "cell_type": "code",
   "execution_count": 371,
   "metadata": {},
   "outputs": [
    {
     "data": {
      "text/html": [
       "<div>\n",
       "<style scoped>\n",
       "    .dataframe tbody tr th:only-of-type {\n",
       "        vertical-align: middle;\n",
       "    }\n",
       "\n",
       "    .dataframe tbody tr th {\n",
       "        vertical-align: top;\n",
       "    }\n",
       "\n",
       "    .dataframe thead th {\n",
       "        text-align: right;\n",
       "    }\n",
       "</style>\n",
       "<table border=\"1\" class=\"dataframe\">\n",
       "  <thead>\n",
       "    <tr style=\"text-align: right;\">\n",
       "      <th></th>\n",
       "      <th>school_name</th>\n",
       "      <th>rank</th>\n",
       "      <th>reason_for_nan</th>\n",
       "    </tr>\n",
       "  </thead>\n",
       "  <tbody>\n",
       "    <tr>\n",
       "      <th>1</th>\n",
       "      <td>lake bolac college</td>\n",
       "      <td>NaN</td>\n",
       "      <td>Match score (72) below threshold</td>\n",
       "    </tr>\n",
       "    <tr>\n",
       "      <th>8</th>\n",
       "      <td>baden powell p-9 college</td>\n",
       "      <td>NaN</td>\n",
       "      <td>Match score (56) below threshold</td>\n",
       "    </tr>\n",
       "    <tr>\n",
       "      <th>16</th>\n",
       "      <td>timbarra p-9 college</td>\n",
       "      <td>NaN</td>\n",
       "      <td>Match score (68) below threshold</td>\n",
       "    </tr>\n",
       "    <tr>\n",
       "      <th>17</th>\n",
       "      <td>carranballac p-9 college</td>\n",
       "      <td>NaN</td>\n",
       "      <td>Match score (68) below threshold</td>\n",
       "    </tr>\n",
       "    <tr>\n",
       "      <th>18</th>\n",
       "      <td>truganina p-9 college</td>\n",
       "      <td>NaN</td>\n",
       "      <td>Match score (60) below threshold</td>\n",
       "    </tr>\n",
       "    <tr>\n",
       "      <th>19</th>\n",
       "      <td>yuille park p-8 community college</td>\n",
       "      <td>NaN</td>\n",
       "      <td>Match score (86) below threshold</td>\n",
       "    </tr>\n",
       "    <tr>\n",
       "      <th>20</th>\n",
       "      <td>alamanda k-9 college</td>\n",
       "      <td>NaN</td>\n",
       "      <td>Match score (86) below threshold</td>\n",
       "    </tr>\n",
       "    <tr>\n",
       "      <th>27</th>\n",
       "      <td>manangatang p-12 college</td>\n",
       "      <td>NaN</td>\n",
       "      <td>Match score (70) below threshold</td>\n",
       "    </tr>\n",
       "    <tr>\n",
       "      <th>32</th>\n",
       "      <td>werrimull p-12 school</td>\n",
       "      <td>NaN</td>\n",
       "      <td>Match score (60) below threshold</td>\n",
       "    </tr>\n",
       "    <tr>\n",
       "      <th>37</th>\n",
       "      <td>victorian school of languages</td>\n",
       "      <td>NaN</td>\n",
       "      <td>Match score (77) below threshold</td>\n",
       "    </tr>\n",
       "    <tr>\n",
       "      <th>41</th>\n",
       "      <td>elevation secondary college</td>\n",
       "      <td>NaN</td>\n",
       "      <td>Match score (70) below threshold</td>\n",
       "    </tr>\n",
       "    <tr>\n",
       "      <th>42</th>\n",
       "      <td>clyde secondary college</td>\n",
       "      <td>NaN</td>\n",
       "      <td>Match score (67) below threshold</td>\n",
       "    </tr>\n",
       "    <tr>\n",
       "      <th>57</th>\n",
       "      <td>northern college of the arts and technology</td>\n",
       "      <td>NaN</td>\n",
       "      <td>Match score (86) below threshold</td>\n",
       "    </tr>\n",
       "    <tr>\n",
       "      <th>77</th>\n",
       "      <td>outdoor school</td>\n",
       "      <td>NaN</td>\n",
       "      <td>Match score (67) below threshold</td>\n",
       "    </tr>\n",
       "    <tr>\n",
       "      <th>144</th>\n",
       "      <td>mickleham secondary college</td>\n",
       "      <td>NaN</td>\n",
       "      <td>Match score (63) below threshold</td>\n",
       "    </tr>\n",
       "    <tr>\n",
       "      <th>155</th>\n",
       "      <td>macrobertson girls high school</td>\n",
       "      <td>NaN</td>\n",
       "      <td>Match score (87) below threshold</td>\n",
       "    </tr>\n",
       "    <tr>\n",
       "      <th>166</th>\n",
       "      <td>edenbrook secondary college</td>\n",
       "      <td>NaN</td>\n",
       "      <td>Match score (60) below threshold</td>\n",
       "    </tr>\n",
       "    <tr>\n",
       "      <th>181</th>\n",
       "      <td>rubicon outdoor school</td>\n",
       "      <td>NaN</td>\n",
       "      <td>Match score (66) below threshold</td>\n",
       "    </tr>\n",
       "    <tr>\n",
       "      <th>183</th>\n",
       "      <td>saltwater p-9 college</td>\n",
       "      <td>NaN</td>\n",
       "      <td>Match score (68) below threshold</td>\n",
       "    </tr>\n",
       "    <tr>\n",
       "      <th>194</th>\n",
       "      <td>dohertys creek p-9 college</td>\n",
       "      <td>NaN</td>\n",
       "      <td>Match score (69) below threshold</td>\n",
       "    </tr>\n",
       "    <tr>\n",
       "      <th>203</th>\n",
       "      <td>greenvale secondary college</td>\n",
       "      <td>NaN</td>\n",
       "      <td>Match score (72) below threshold</td>\n",
       "    </tr>\n",
       "    <tr>\n",
       "      <th>328</th>\n",
       "      <td>wollert secondary college</td>\n",
       "      <td>NaN</td>\n",
       "      <td>Match score (56) below threshold</td>\n",
       "    </tr>\n",
       "    <tr>\n",
       "      <th>331</th>\n",
       "      <td>featherbrook p-9 college</td>\n",
       "      <td>NaN</td>\n",
       "      <td>Match score (64) below threshold</td>\n",
       "    </tr>\n",
       "    <tr>\n",
       "      <th>332</th>\n",
       "      <td>phoenix p-12 community college</td>\n",
       "      <td>NaN</td>\n",
       "      <td>Match score (74) below threshold</td>\n",
       "    </tr>\n",
       "    <tr>\n",
       "      <th>336</th>\n",
       "      <td>doveton college</td>\n",
       "      <td>NaN</td>\n",
       "      <td>Match score (67) below threshold</td>\n",
       "    </tr>\n",
       "    <tr>\n",
       "      <th>338</th>\n",
       "      <td>brookside p-9 college</td>\n",
       "      <td>NaN</td>\n",
       "      <td>Match score (68) below threshold</td>\n",
       "    </tr>\n",
       "    <tr>\n",
       "      <th>339</th>\n",
       "      <td>creekside k-9 college</td>\n",
       "      <td>NaN</td>\n",
       "      <td>Match score (54) below threshold</td>\n",
       "    </tr>\n",
       "    <tr>\n",
       "      <th>345</th>\n",
       "      <td>centre for higher education studies</td>\n",
       "      <td>NaN</td>\n",
       "      <td>Match score (60) below threshold</td>\n",
       "    </tr>\n",
       "    <tr>\n",
       "      <th>379</th>\n",
       "      <td>fcj college</td>\n",
       "      <td>NaN</td>\n",
       "      <td>Match score (75) below threshold</td>\n",
       "    </tr>\n",
       "    <tr>\n",
       "      <th>468</th>\n",
       "      <td>henderson college</td>\n",
       "      <td>NaN</td>\n",
       "      <td>Match score (63) below threshold</td>\n",
       "    </tr>\n",
       "    <tr>\n",
       "      <th>536</th>\n",
       "      <td>st john's college preston</td>\n",
       "      <td>NaN</td>\n",
       "      <td>Match score (86) below threshold</td>\n",
       "    </tr>\n",
       "    <tr>\n",
       "      <th>538</th>\n",
       "      <td>olivet christian college</td>\n",
       "      <td>NaN</td>\n",
       "      <td>Match score (62) below threshold</td>\n",
       "    </tr>\n",
       "    <tr>\n",
       "      <th>548</th>\n",
       "      <td>creek street christian college</td>\n",
       "      <td>NaN</td>\n",
       "      <td>Match score (64) below threshold</td>\n",
       "    </tr>\n",
       "    <tr>\n",
       "      <th>567</th>\n",
       "      <td>river city christian college</td>\n",
       "      <td>NaN</td>\n",
       "      <td>Match score (86) below threshold</td>\n",
       "    </tr>\n",
       "    <tr>\n",
       "      <th>574</th>\n",
       "      <td>australian international academy of education</td>\n",
       "      <td>NaN</td>\n",
       "      <td>Match score (86) below threshold</td>\n",
       "    </tr>\n",
       "    <tr>\n",
       "      <th>575</th>\n",
       "      <td>flinders christian community college</td>\n",
       "      <td>NaN</td>\n",
       "      <td>Match score (84) below threshold</td>\n",
       "    </tr>\n",
       "    <tr>\n",
       "      <th>584</th>\n",
       "      <td>sophia mundi steiner school</td>\n",
       "      <td>NaN</td>\n",
       "      <td>Match score (64) below threshold</td>\n",
       "    </tr>\n",
       "    <tr>\n",
       "      <th>586</th>\n",
       "      <td>overnewton anglican community college</td>\n",
       "      <td>NaN</td>\n",
       "      <td>Match score (86) below threshold</td>\n",
       "    </tr>\n",
       "    <tr>\n",
       "      <th>620</th>\n",
       "      <td>stott's college</td>\n",
       "      <td>NaN</td>\n",
       "      <td>Match score (86) below threshold</td>\n",
       "    </tr>\n",
       "    <tr>\n",
       "      <th>626</th>\n",
       "      <td>ozford college</td>\n",
       "      <td>NaN</td>\n",
       "      <td>Match score (67) below threshold</td>\n",
       "    </tr>\n",
       "    <tr>\n",
       "      <th>663</th>\n",
       "      <td>harkaway hills college</td>\n",
       "      <td>NaN</td>\n",
       "      <td>Match score (86) below threshold</td>\n",
       "    </tr>\n",
       "    <tr>\n",
       "      <th>665</th>\n",
       "      <td>cheder levi yitzchok inc</td>\n",
       "      <td>NaN</td>\n",
       "      <td>Match score (60) below threshold</td>\n",
       "    </tr>\n",
       "    <tr>\n",
       "      <th>666</th>\n",
       "      <td>fernbrook school</td>\n",
       "      <td>NaN</td>\n",
       "      <td>Match score (70) below threshold</td>\n",
       "    </tr>\n",
       "    <tr>\n",
       "      <th>672</th>\n",
       "      <td>ignatius learning centre</td>\n",
       "      <td>NaN</td>\n",
       "      <td>Match score (73) below threshold</td>\n",
       "    </tr>\n",
       "  </tbody>\n",
       "</table>\n",
       "</div>"
      ],
      "text/plain": [
       "                                       school_name  rank  \\\n",
       "1                               lake bolac college   NaN   \n",
       "8                         baden powell p-9 college   NaN   \n",
       "16                            timbarra p-9 college   NaN   \n",
       "17                        carranballac p-9 college   NaN   \n",
       "18                           truganina p-9 college   NaN   \n",
       "19               yuille park p-8 community college   NaN   \n",
       "20                            alamanda k-9 college   NaN   \n",
       "27                        manangatang p-12 college   NaN   \n",
       "32                           werrimull p-12 school   NaN   \n",
       "37                   victorian school of languages   NaN   \n",
       "41                     elevation secondary college   NaN   \n",
       "42                         clyde secondary college   NaN   \n",
       "57     northern college of the arts and technology   NaN   \n",
       "77                                  outdoor school   NaN   \n",
       "144                    mickleham secondary college   NaN   \n",
       "155                 macrobertson girls high school   NaN   \n",
       "166                    edenbrook secondary college   NaN   \n",
       "181                         rubicon outdoor school   NaN   \n",
       "183                          saltwater p-9 college   NaN   \n",
       "194                     dohertys creek p-9 college   NaN   \n",
       "203                    greenvale secondary college   NaN   \n",
       "328                      wollert secondary college   NaN   \n",
       "331                       featherbrook p-9 college   NaN   \n",
       "332                 phoenix p-12 community college   NaN   \n",
       "336                                doveton college   NaN   \n",
       "338                          brookside p-9 college   NaN   \n",
       "339                          creekside k-9 college   NaN   \n",
       "345            centre for higher education studies   NaN   \n",
       "379                                    fcj college   NaN   \n",
       "468                              henderson college   NaN   \n",
       "536                      st john's college preston   NaN   \n",
       "538                       olivet christian college   NaN   \n",
       "548                 creek street christian college   NaN   \n",
       "567                   river city christian college   NaN   \n",
       "574  australian international academy of education   NaN   \n",
       "575           flinders christian community college   NaN   \n",
       "584                    sophia mundi steiner school   NaN   \n",
       "586          overnewton anglican community college   NaN   \n",
       "620                                stott's college   NaN   \n",
       "626                                 ozford college   NaN   \n",
       "663                         harkaway hills college   NaN   \n",
       "665                       cheder levi yitzchok inc   NaN   \n",
       "666                               fernbrook school   NaN   \n",
       "672                       ignatius learning centre   NaN   \n",
       "\n",
       "                       reason_for_nan  \n",
       "1    Match score (72) below threshold  \n",
       "8    Match score (56) below threshold  \n",
       "16   Match score (68) below threshold  \n",
       "17   Match score (68) below threshold  \n",
       "18   Match score (60) below threshold  \n",
       "19   Match score (86) below threshold  \n",
       "20   Match score (86) below threshold  \n",
       "27   Match score (70) below threshold  \n",
       "32   Match score (60) below threshold  \n",
       "37   Match score (77) below threshold  \n",
       "41   Match score (70) below threshold  \n",
       "42   Match score (67) below threshold  \n",
       "57   Match score (86) below threshold  \n",
       "77   Match score (67) below threshold  \n",
       "144  Match score (63) below threshold  \n",
       "155  Match score (87) below threshold  \n",
       "166  Match score (60) below threshold  \n",
       "181  Match score (66) below threshold  \n",
       "183  Match score (68) below threshold  \n",
       "194  Match score (69) below threshold  \n",
       "203  Match score (72) below threshold  \n",
       "328  Match score (56) below threshold  \n",
       "331  Match score (64) below threshold  \n",
       "332  Match score (74) below threshold  \n",
       "336  Match score (67) below threshold  \n",
       "338  Match score (68) below threshold  \n",
       "339  Match score (54) below threshold  \n",
       "345  Match score (60) below threshold  \n",
       "379  Match score (75) below threshold  \n",
       "468  Match score (63) below threshold  \n",
       "536  Match score (86) below threshold  \n",
       "538  Match score (62) below threshold  \n",
       "548  Match score (64) below threshold  \n",
       "567  Match score (86) below threshold  \n",
       "574  Match score (86) below threshold  \n",
       "575  Match score (84) below threshold  \n",
       "584  Match score (64) below threshold  \n",
       "586  Match score (86) below threshold  \n",
       "620  Match score (86) below threshold  \n",
       "626  Match score (67) below threshold  \n",
       "663  Match score (86) below threshold  \n",
       "665  Match score (60) below threshold  \n",
       "666  Match score (70) below threshold  \n",
       "672  Match score (73) below threshold  "
      ]
     },
     "execution_count": 371,
     "metadata": {},
     "output_type": "execute_result"
    }
   ],
   "source": [
    "# Display the resulting DataFrame with NaN rank entries and reasons\n",
    "nan_rank_entries[['school_name', 'rank', 'reason_for_nan']]"
   ]
  },
  {
   "cell_type": "code",
   "execution_count": 374,
   "metadata": {},
   "outputs": [],
   "source": [
    "final_secondary_schools_df = final_secondary_schools_df[~final_secondary_schools_df['school_name'].isin(nan_rank_entries['school_name'])]\n",
    "final_secondary_schools_df = final_secondary_schools_df.dropna(subset=['longitude', 'latitude'])"
   ]
  },
  {
   "cell_type": "code",
   "execution_count": 385,
   "metadata": {},
   "outputs": [],
   "source": [
    "# Step 2: Sort the dataframe by 'school_name' and 'rank'\n",
    "final_secondary_schools_df = final_secondary_schools_df.sort_values(by=['school_name', 'rank'])\n",
    "# Step 3: Drop duplicates based on 'school_name', keeping the row with the highest rank (smallest number)\n",
    "final_secondary_schools_df = final_secondary_schools_df.drop_duplicates(subset='school_name', keep='first')\n",
    "final_secondary_schools_df['rank'] = final_secondary_schools_df['rank'].astype(int)"
   ]
  },
  {
   "cell_type": "code",
   "execution_count": 386,
   "metadata": {},
   "outputs": [],
   "source": [
    "final_secondary_schools_df.to_csv('../data/raw/secondary_school_locations.csv', index=False)"
   ]
  },
  {
   "cell_type": "markdown",
   "metadata": {},
   "source": [
    "### Create features for final dataset"
   ]
  },
  {
   "cell_type": "code",
   "execution_count": 382,
   "metadata": {},
   "outputs": [
    {
     "name": "stdout",
     "output_type": "stream",
     "text": [
      "<class 'pandas.core.frame.DataFrame'>\n",
      "RangeIndex: 1825 entries, 0 to 1824\n",
      "Data columns (total 10 columns):\n",
      " #   Column                 Non-Null Count  Dtype  \n",
      "---  ------                 --------------  -----  \n",
      " 0   school_name            1825 non-null   object \n",
      " 1   school_type            1825 non-null   object \n",
      " 2   suburb                 1825 non-null   object \n",
      " 3   postcode               1825 non-null   int64  \n",
      " 4   longitude              1825 non-null   float64\n",
      " 5   latitude               1825 non-null   float64\n",
      " 6   total_enrollments      1825 non-null   float64\n",
      " 7   population             1825 non-null   float64\n",
      " 8   enrollment_percentage  1825 non-null   float64\n",
      " 9   rank                   1825 non-null   int64  \n",
      "dtypes: float64(5), int64(2), object(3)\n",
      "memory usage: 142.7+ KB\n"
     ]
    }
   ],
   "source": [
    "primary_schools_df_final.info()"
   ]
  },
  {
   "cell_type": "code",
   "execution_count": 391,
   "metadata": {},
   "outputs": [
    {
     "name": "stdout",
     "output_type": "stream",
     "text": [
      "\n",
      "Checking for NaN values after :\n",
      "\n",
      "Columns with NaN values and their counts:\n",
      "Series([], dtype: int64)\n",
      "Rows with NaN values (0 rows):\n",
      "Empty DataFrame\n",
      "Columns: [school_name, school_type, suburb, postcode, longitude, latitude, total_enrollments, population, enrollment_percentage, rank]\n",
      "Index: []\n",
      "--------------------------------------------------\n"
     ]
    }
   ],
   "source": [
    "check_for_nans(primary_schools_df_final, '')"
   ]
  },
  {
   "cell_type": "code",
   "execution_count": 383,
   "metadata": {},
   "outputs": [
    {
     "name": "stdout",
     "output_type": "stream",
     "text": [
      "<class 'pandas.core.frame.DataFrame'>\n",
      "Index: 631 entries, 388 to 671\n",
      "Data columns (total 7 columns):\n",
      " #   Column       Non-Null Count  Dtype  \n",
      "---  ------       --------------  -----  \n",
      " 0   school_name  631 non-null    object \n",
      " 1   school_type  631 non-null    object \n",
      " 2   suburb       631 non-null    object \n",
      " 3   postcode     631 non-null    int64  \n",
      " 4   longitude    631 non-null    float64\n",
      " 5   latitude     631 non-null    float64\n",
      " 6   rank         631 non-null    int64  \n",
      "dtypes: float64(2), int64(2), object(3)\n",
      "memory usage: 39.4+ KB\n"
     ]
    }
   ],
   "source": [
    "final_secondary_schools_df.info()"
   ]
  },
  {
   "cell_type": "code",
   "execution_count": 392,
   "metadata": {},
   "outputs": [
    {
     "name": "stdout",
     "output_type": "stream",
     "text": [
      "\n",
      "Checking for NaN values after :\n",
      "\n",
      "Columns with NaN values and their counts:\n",
      "Series([], dtype: int64)\n",
      "Rows with NaN values (0 rows):\n",
      "Empty DataFrame\n",
      "Columns: [school_name, school_type, suburb, postcode, longitude, latitude, rank]\n",
      "Index: []\n",
      "--------------------------------------------------\n"
     ]
    }
   ],
   "source": [
    "check_for_nans(final_secondary_schools_df,'')"
   ]
  },
  {
   "cell_type": "code",
   "execution_count": 384,
   "metadata": {},
   "outputs": [
    {
     "name": "stdout",
     "output_type": "stream",
     "text": [
      "<class 'pandas.core.frame.DataFrame'>\n",
      "RangeIndex: 131 entries, 0 to 130\n",
      "Data columns (total 2 columns):\n",
      " #   Column          Non-Null Count  Dtype \n",
      "---  ------          --------------  ----- \n",
      " 0   institute_name  131 non-null    object\n",
      " 1   suburb          131 non-null    object\n",
      "dtypes: object(2)\n",
      "memory usage: 2.2+ KB\n"
     ]
    }
   ],
   "source": [
    "tertiary_df.info()"
   ]
  },
  {
   "cell_type": "code",
   "execution_count": 393,
   "metadata": {},
   "outputs": [
    {
     "name": "stdout",
     "output_type": "stream",
     "text": [
      "\n",
      "Checking for NaN values after :\n",
      "\n",
      "Columns with NaN values and their counts:\n",
      "Series([], dtype: int64)\n",
      "Rows with NaN values (0 rows):\n",
      "Empty DataFrame\n",
      "Columns: [institute_name, suburb]\n",
      "Index: []\n",
      "--------------------------------------------------\n"
     ]
    }
   ],
   "source": [
    "check_for_nans(tertiary_df,'')"
   ]
  },
  {
   "cell_type": "code",
   "execution_count": 396,
   "metadata": {},
   "outputs": [],
   "source": [
    "# Count unique primary schools by suburb\n",
    "primary_counts = primary_schools_df_final['suburb'].value_counts().reset_index()\n",
    "primary_counts.columns = ['suburb', 'primary_school_count']\n",
    "\n",
    "# Count unique secondary schools by suburb\n",
    "secondary_counts = final_secondary_schools_df['suburb'].value_counts().reset_index()\n",
    "secondary_counts.columns = ['suburb', 'secondary_school_count']\n",
    "\n",
    "# Count unique tertiary institutions by suburb\n",
    "tertiary_counts = tertiary_df['suburb'].value_counts().reset_index()\n",
    "tertiary_counts.columns = ['suburb', 'tertiary_institutions_count']\n",
    "\n",
    "# Merge counts into a single DataFrame\n",
    "final_suburb_counts = primary_counts.merge(secondary_counts, on='suburb', how='outer')\n",
    "final_suburb_counts = final_suburb_counts.merge(tertiary_counts, on='suburb', how='outer')\n",
    "\n",
    "# Fill NaN values with 0 (if any suburbs are missing in some counts)\n",
    "final_suburb_counts.fillna(0, inplace=True)\n",
    "\n",
    "# Convert counts to integers\n",
    "final_suburb_counts['primary_school_count'] = final_suburb_counts['primary_school_count'].astype(int)\n",
    "final_suburb_counts['secondary_school_count'] = final_suburb_counts['secondary_school_count'].astype(int)\n",
    "final_suburb_counts['tertiary_institutions_count'] = final_suburb_counts['tertiary_institutions_count'].astype(int)\n",
    "\n",
    "# Calculate total education count\n",
    "final_suburb_counts['total_education_count'] = (\n",
    "    final_suburb_counts['primary_school_count'] +\n",
    "    final_suburb_counts['secondary_school_count'] +\n",
    "    final_suburb_counts['tertiary_institutions_count']\n",
    ")"
   ]
  },
  {
   "cell_type": "markdown",
   "metadata": {},
   "source": [
    "code below includes rank. keep this is model performs better "
   ]
  },
  {
   "cell_type": "code",
   "execution_count": 402,
   "metadata": {},
   "outputs": [
    {
     "name": "stdout",
     "output_type": "stream",
     "text": [
      "         suburb  primary_school_count  secondary_school_count  \\\n",
      "0    abbotsford                     2                       0   \n",
      "1    aberfeldie                     1                       1   \n",
      "2       aintree                     1                       0   \n",
      "3  aireys inlet                     1                       0   \n",
      "4         airly                     1                       0   \n",
      "\n",
      "   tertiary_institutions_count  avg_primary_school_rank  \\\n",
      "0                            0                    964.5   \n",
      "1                            0                    643.0   \n",
      "2                            0                    215.0   \n",
      "3                            0                   1457.0   \n",
      "4                            0                   1626.0   \n",
      "\n",
      "   avg_secondary_school_rank  has_primary_school  has_secondary_school  \\\n",
      "0                        0.0                   1                     0   \n",
      "1                      172.0                   1                     1   \n",
      "2                        0.0                   1                     0   \n",
      "3                        0.0                   1                     0   \n",
      "4                        0.0                   1                     0   \n",
      "\n",
      "   total_education_count  \n",
      "0                      2  \n",
      "1                      2  \n",
      "2                      1  \n",
      "3                      1  \n",
      "4                      1  \n"
     ]
    }
   ],
   "source": [
    "# Count unique primary schools by suburb\n",
    "primary_counts = primary_schools_df_final['suburb'].value_counts().reset_index()\n",
    "primary_counts.columns = ['suburb', 'primary_school_count']\n",
    "\n",
    "# Calculate average primary school rank by suburb\n",
    "primary_avg_rank = primary_schools_df_final.groupby('suburb')['rank'].mean().reset_index()\n",
    "primary_avg_rank.columns = ['suburb', 'avg_primary_school_rank']\n",
    "\n",
    "# Count unique secondary schools by suburb\n",
    "secondary_counts = final_secondary_schools_df['suburb'].value_counts().reset_index()\n",
    "secondary_counts.columns = ['suburb', 'secondary_school_count']\n",
    "\n",
    "# Calculate average secondary school rank by suburb\n",
    "secondary_avg_rank = final_secondary_schools_df.groupby('suburb')['rank'].mean().reset_index()\n",
    "secondary_avg_rank.columns = ['suburb', 'avg_secondary_school_rank']\n",
    "\n",
    "# Count unique tertiary institutions by suburb\n",
    "tertiary_counts = tertiary_df['suburb'].value_counts().reset_index()\n",
    "tertiary_counts.columns = ['suburb', 'tertiary_institutions_count']\n",
    "\n",
    "# Merge counts into a single DataFrame\n",
    "final_suburb_counts = primary_counts.merge(secondary_counts, on='suburb', how='outer')\n",
    "final_suburb_counts = final_suburb_counts.merge(tertiary_counts, on='suburb', how='outer')\n",
    "\n",
    "# Merge average ranks into the final DataFrame\n",
    "final_suburb_counts = final_suburb_counts.merge(primary_avg_rank, on='suburb', how='left')\n",
    "final_suburb_counts = final_suburb_counts.merge(secondary_avg_rank, on='suburb', how='left')\n",
    "\n",
    "# Fill NaN values with 0 for count columns and average ranks\n",
    "final_suburb_counts.fillna({\n",
    "    'primary_school_count': 0,\n",
    "    'secondary_school_count': 0,\n",
    "    'tertiary_institutions_count': 0,\n",
    "    'avg_primary_school_rank': 0,\n",
    "    'avg_secondary_school_rank': 0\n",
    "}, inplace=True)\n",
    "\n",
    "# Convert count columns to integers\n",
    "final_suburb_counts['primary_school_count'] = final_suburb_counts['primary_school_count'].astype(int)\n",
    "final_suburb_counts['secondary_school_count'] = final_suburb_counts['secondary_school_count'].astype(int)\n",
    "final_suburb_counts['tertiary_institutions_count'] = final_suburb_counts['tertiary_institutions_count'].astype(int)\n",
    "\n",
    "# Create binary indicators for presence of primary and secondary schools\n",
    "final_suburb_counts['has_primary_school'] = (final_suburb_counts['primary_school_count'] > 0).astype(int)\n",
    "final_suburb_counts['has_secondary_school'] = (final_suburb_counts['secondary_school_count'] > 0).astype(int)\n",
    "\n",
    "# Calculate total education count\n",
    "final_suburb_counts['total_education_count'] = (\n",
    "    final_suburb_counts['primary_school_count'] +\n",
    "    final_suburb_counts['secondary_school_count'] +\n",
    "    final_suburb_counts['tertiary_institutions_count']\n",
    ")"
   ]
  },
  {
   "cell_type": "code",
   "execution_count": 405,
   "metadata": {},
   "outputs": [
    {
     "name": "stdout",
     "output_type": "stream",
     "text": [
      "\n",
      "Checking for NaN values after :\n",
      "\n",
      "Columns with NaN values and their counts:\n",
      "Series([], dtype: int64)\n",
      "Rows with NaN values (0 rows):\n",
      "Empty DataFrame\n",
      "Columns: [suburb, primary_school_count, secondary_school_count, tertiary_institutions_count, avg_primary_school_rank, avg_secondary_school_rank, has_primary_school, has_secondary_school, total_education_count]\n",
      "Index: []\n",
      "--------------------------------------------------\n"
     ]
    }
   ],
   "source": [
    "check_for_nans(final_suburb_counts,'')"
   ]
  },
  {
   "cell_type": "code",
   "execution_count": 409,
   "metadata": {},
   "outputs": [
    {
     "name": "stdout",
     "output_type": "stream",
     "text": [
      "<class 'pandas.core.frame.DataFrame'>\n",
      "RangeIndex: 956 entries, 0 to 955\n",
      "Data columns (total 9 columns):\n",
      " #   Column                       Non-Null Count  Dtype  \n",
      "---  ------                       --------------  -----  \n",
      " 0   suburb                       956 non-null    object \n",
      " 1   primary_school_count         956 non-null    int64  \n",
      " 2   secondary_school_count       956 non-null    int64  \n",
      " 3   tertiary_institutions_count  956 non-null    int64  \n",
      " 4   avg_primary_school_rank      956 non-null    float64\n",
      " 5   avg_secondary_school_rank    956 non-null    float64\n",
      " 6   has_primary_school           956 non-null    int64  \n",
      " 7   has_secondary_school         956 non-null    int64  \n",
      " 8   total_education_count        956 non-null    int64  \n",
      "dtypes: float64(2), int64(6), object(1)\n",
      "memory usage: 67.3+ KB\n"
     ]
    }
   ],
   "source": [
    "final_suburb_counts.info()"
   ]
  },
  {
   "cell_type": "code",
   "execution_count": 406,
   "metadata": {},
   "outputs": [],
   "source": [
    "final_suburb_counts.to_csv('../data/curated/education_df.csv', index=False)"
   ]
  }
 ],
 "metadata": {
  "kernelspec": {
   "display_name": ".venv",
   "language": "python",
   "name": "python3"
  },
  "language_info": {
   "codemirror_mode": {
    "name": "ipython",
    "version": 3
   },
   "file_extension": ".py",
   "mimetype": "text/x-python",
   "name": "python",
   "nbconvert_exporter": "python",
   "pygments_lexer": "ipython3",
   "version": "3.12.4"
  }
 },
 "nbformat": 4,
 "nbformat_minor": 2
}
