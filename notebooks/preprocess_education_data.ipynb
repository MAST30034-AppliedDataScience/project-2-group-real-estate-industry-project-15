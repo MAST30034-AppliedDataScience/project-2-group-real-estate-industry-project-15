{
 "cells": [
  {
   "cell_type": "markdown",
   "metadata": {},
   "source": [
    "#### !!  Important  !!\n",
    "Before running this code make sure all of the education related datasets are properly downloaded / scraped and saved into the landing folder\n",
    "- for datasets that are scraped check that they are in the landing folder \n",
    "- for datasets that need to be manually downloaded BEFORE running this notebook:\n",
    "\n",
    "      - please move the csv file (university_locations.csv) to the data/landing folder\n",
    "      - please move the government school zones shapefile folder to the data/landing folder"
   ]
  },
  {
   "cell_type": "code",
   "execution_count": 125,
   "metadata": {},
   "outputs": [],
   "source": [
    "import pandas as pd\n",
    "import geopandas as gpd\n",
    "import numpy as np\n",
    "from fuzzywuzzy import process\n",
    "import os\n"
   ]
  },
  {
   "cell_type": "markdown",
   "metadata": {},
   "source": [
    "Preprocessing for TAFE locations"
   ]
  },
  {
   "cell_type": "code",
   "execution_count": 59,
   "metadata": {},
   "outputs": [],
   "source": [
    "# reading TAFE dataset\n",
    "tafe_df = pd.read_csv('../data/landing/TAFE_locations.csv')"
   ]
  },
  {
   "cell_type": "code",
   "execution_count": 60,
   "metadata": {},
   "outputs": [],
   "source": [
    "# extract suburbs where TAFE campuses are located\n",
    "def extract_suburbs(location):\n",
    "    suburbs = []\n",
    "    # split by semicolumn and space to get each part of the multiple campus locations\n",
    "    for part in location.split('; '):\n",
    "        # for each part get everything before the first colon (the suburb)\n",
    "        suburb = part.split(':')[0]\n",
    "        suburbs.append(suburb)\n",
    "    return suburbs\n",
    "\n",
    "# apply function to TAFE df\n",
    "tafe_df['suburbs'] = tafe_df['Locations'].apply(extract_suburbs)\n",
    "# each suburb gets an individual row \n",
    "tafe_df = tafe_df.explode('suburbs')\n"
   ]
  },
  {
   "cell_type": "code",
   "execution_count": 61,
   "metadata": {},
   "outputs": [],
   "source": [
    "# drop locations column - dont need anymore\n",
    "tafe_df = tafe_df.drop(columns='Locations')\n",
    "# change column name to align format\n",
    "tafe_df = tafe_df.rename(columns={'Institute Name': 'institute_name'})"
   ]
  },
  {
   "cell_type": "code",
   "execution_count": 22,
   "metadata": {},
   "outputs": [],
   "source": [
    "# save as csv to data/raw folder \n",
    "tafe_df.to_csv('../data/raw/tafe_suburbs.csv', index=False)"
   ]
  },
  {
   "cell_type": "markdown",
   "metadata": {},
   "source": [
    "Preprocessing for University locations"
   ]
  },
  {
   "cell_type": "code",
   "execution_count": 84,
   "metadata": {},
   "outputs": [],
   "source": [
    "# reading university dataset\n",
    "university_df = pd.read_csv('../data/landing/university_locations.csv')"
   ]
  },
  {
   "cell_type": "code",
   "execution_count": 85,
   "metadata": {},
   "outputs": [],
   "source": [
    "# drop columns that we dont need \n",
    "university_df = university_df.drop(columns=['Campus', 'City or Town', 'Post Code', 'Name'])\n",
    "# rename columns \n",
    "university_df = university_df.rename(columns={'University': 'institute_name'})"
   ]
  },
  {
   "cell_type": "code",
   "execution_count": 86,
   "metadata": {},
   "outputs": [],
   "source": [
    "# extract the suburb information from address column\n",
    "pattern = r'(?:,\\s*(.*?)\\s*V)|(?:\\s+([^\\s]+)\\s*V)' # i want the text between , and VIC, if theres no , then between a space and VIC\n",
    "university_df['suburbs'] = university_df['Address'].str.extract(pattern).bfill(axis=1).iloc[:, 0]\n",
    "\n",
    "# drop columnds that we dont need\n",
    "university_df = university_df.drop(columns=['Address'])\n",
    "\n",
    "# remove any punctuation\n",
    "university_df['suburbs'] = university_df['suburbs'].str.replace('[,\"\\']', '', regex=True)"
   ]
  },
  {
   "cell_type": "code",
   "execution_count": 87,
   "metadata": {},
   "outputs": [],
   "source": [
    "# save as csv to data/raw folder \n",
    "university_df.to_csv('../data/raw/university_suburbs.csv', index=False)"
   ]
  },
  {
   "cell_type": "markdown",
   "metadata": {},
   "source": [
    "Combine into Tertiary Insitution location csv"
   ]
  },
  {
   "cell_type": "code",
   "execution_count": 88,
   "metadata": {},
   "outputs": [],
   "source": [
    "tertiary_df = pd.concat([tafe_df, university_df], ignore_index=True)\n",
    "# save as csv to data/raw folder \n",
    "tertiary_df.to_csv('../data/raw/tertiary_insitutions_suburbs.csv', index=False)"
   ]
  },
  {
   "cell_type": "markdown",
   "metadata": {},
   "source": [
    "Preprocessing for Primary Secondary location"
   ]
  },
  {
   "cell_type": "code",
   "execution_count": 109,
   "metadata": {},
   "outputs": [],
   "source": [
    "# reading dataset\n",
    "# specify encoding to handle non-UTF-8 characters\n",
    "prim_sec_df = pd.read_csv('../data/landing/2023_primary_secondary_locations.csv', encoding='ISO-8859-1')"
   ]
  },
  {
   "cell_type": "code",
   "execution_count": 110,
   "metadata": {},
   "outputs": [],
   "source": [
    "# list of columns to keep\n",
    "columns_to_keep = ['School_Name', 'School_Type', 'Address_Town', 'Address_Postcode', 'X', 'Y']\n",
    "# keep selected columns\n",
    "prim_sec_df = prim_sec_df[columns_to_keep]\n",
    "# change column names\n",
    "prim_sec_df = prim_sec_df.rename(columns={\n",
    "    'School_Name': 'school_name',\n",
    "    'School_Type': 'school_type',\n",
    "    'Address_Town': 'suburb',\n",
    "    'Address_Postcode': 'postcode',\n",
    "    'X': 'longitude',\n",
    "    'Y': 'latitude'\n",
    "})"
   ]
  },
  {
   "cell_type": "code",
   "execution_count": 112,
   "metadata": {},
   "outputs": [],
   "source": [
    "# split df into primary schools and secondary schools\n",
    "primary_schools_df = prim_sec_df[prim_sec_df['school_type'].isin(['Primary', 'Pri/Sec'])]\n",
    "secondary_schools_df = prim_sec_df[prim_sec_df['school_type'].isin(['Secondary', 'Pri/Sec'])]"
   ]
  },
  {
   "cell_type": "code",
   "execution_count": 151,
   "metadata": {},
   "outputs": [],
   "source": [
    "# save as csv to data/raw folder \n",
    "primary_schools_df.to_csv('../data/raw/primary_school_locations.csv', index=False)\n",
    "secondary_schools_df.to_csv('../data/raw/highschool_locations.csv', index=False)"
   ]
  },
  {
   "cell_type": "code",
   "execution_count": 146,
   "metadata": {},
   "outputs": [
    {
     "data": {
      "text/html": [
       "<div>\n",
       "<style scoped>\n",
       "    .dataframe tbody tr th:only-of-type {\n",
       "        vertical-align: middle;\n",
       "    }\n",
       "\n",
       "    .dataframe tbody tr th {\n",
       "        vertical-align: top;\n",
       "    }\n",
       "\n",
       "    .dataframe thead th {\n",
       "        text-align: right;\n",
       "    }\n",
       "</style>\n",
       "<table border=\"1\" class=\"dataframe\">\n",
       "  <thead>\n",
       "    <tr style=\"text-align: right;\">\n",
       "      <th></th>\n",
       "      <th>school_name</th>\n",
       "      <th>school_type</th>\n",
       "      <th>suburb</th>\n",
       "      <th>postcode</th>\n",
       "      <th>longitude</th>\n",
       "      <th>latitude</th>\n",
       "    </tr>\n",
       "  </thead>\n",
       "  <tbody>\n",
       "    <tr>\n",
       "      <th>0</th>\n",
       "      <td>Alberton Primary School</td>\n",
       "      <td>Primary</td>\n",
       "      <td>Alberton</td>\n",
       "      <td>3971</td>\n",
       "      <td>146.66660</td>\n",
       "      <td>-38.61771</td>\n",
       "    </tr>\n",
       "    <tr>\n",
       "      <th>1</th>\n",
       "      <td>Allansford and District Primary School</td>\n",
       "      <td>Primary</td>\n",
       "      <td>Allansford</td>\n",
       "      <td>3277</td>\n",
       "      <td>142.59039</td>\n",
       "      <td>-38.38628</td>\n",
       "    </tr>\n",
       "    <tr>\n",
       "      <th>2</th>\n",
       "      <td>Avoca Primary School</td>\n",
       "      <td>Primary</td>\n",
       "      <td>Avoca</td>\n",
       "      <td>3467</td>\n",
       "      <td>143.47565</td>\n",
       "      <td>-37.08450</td>\n",
       "    </tr>\n",
       "    <tr>\n",
       "      <th>3</th>\n",
       "      <td>Avenel Primary School</td>\n",
       "      <td>Primary</td>\n",
       "      <td>Avenel</td>\n",
       "      <td>3664</td>\n",
       "      <td>145.23472</td>\n",
       "      <td>-36.90137</td>\n",
       "    </tr>\n",
       "    <tr>\n",
       "      <th>4</th>\n",
       "      <td>Warrandyte Primary School</td>\n",
       "      <td>Primary</td>\n",
       "      <td>Warrandyte</td>\n",
       "      <td>3113</td>\n",
       "      <td>145.21398</td>\n",
       "      <td>-37.74268</td>\n",
       "    </tr>\n",
       "  </tbody>\n",
       "</table>\n",
       "</div>"
      ],
      "text/plain": [
       "                              school_name school_type      suburb  postcode  \\\n",
       "0                 Alberton Primary School     Primary    Alberton      3971   \n",
       "1  Allansford and District Primary School     Primary  Allansford      3277   \n",
       "2                    Avoca Primary School     Primary       Avoca      3467   \n",
       "3                   Avenel Primary School     Primary      Avenel      3664   \n",
       "4               Warrandyte Primary School     Primary  Warrandyte      3113   \n",
       "\n",
       "   longitude  latitude  \n",
       "0  146.66660 -38.61771  \n",
       "1  142.59039 -38.38628  \n",
       "2  143.47565 -37.08450  \n",
       "3  145.23472 -36.90137  \n",
       "4  145.21398 -37.74268  "
      ]
     },
     "execution_count": 146,
     "metadata": {},
     "output_type": "execute_result"
    }
   ],
   "source": [
    "primary_schools_df.head()"
   ]
  },
  {
   "cell_type": "markdown",
   "metadata": {},
   "source": [
    "Preprocessing for Highschool rankings"
   ]
  },
  {
   "cell_type": "code",
   "execution_count": 129,
   "metadata": {},
   "outputs": [],
   "source": [
    "# read df\n",
    "highschool_rankings = pd.read_csv('../data/landing/VIC_high_school_rankings.csv')\n",
    "# drop median vce column\n",
    "highschool_rankings = highschool_rankings.drop(columns=['Median VCE Score'])\n",
    "# rename columns\n",
    "highschool_rankings = highschool_rankings.rename(columns={\n",
    "    'Rank': 'rank',\n",
    "    'School': 'school_name',\n",
    "    'Percentage of study scores of 40 or above': 'over_forty_score_percentage'\n",
    "})"
   ]
  },
  {
   "cell_type": "code",
   "execution_count": 130,
   "metadata": {},
   "outputs": [
    {
     "data": {
      "text/html": [
       "<div>\n",
       "<style scoped>\n",
       "    .dataframe tbody tr th:only-of-type {\n",
       "        vertical-align: middle;\n",
       "    }\n",
       "\n",
       "    .dataframe tbody tr th {\n",
       "        vertical-align: top;\n",
       "    }\n",
       "\n",
       "    .dataframe thead th {\n",
       "        text-align: right;\n",
       "    }\n",
       "</style>\n",
       "<table border=\"1\" class=\"dataframe\">\n",
       "  <thead>\n",
       "    <tr style=\"text-align: right;\">\n",
       "      <th></th>\n",
       "      <th>rank</th>\n",
       "      <th>school_name</th>\n",
       "      <th>over_forty_score_percentage</th>\n",
       "    </tr>\n",
       "  </thead>\n",
       "  <tbody>\n",
       "    <tr>\n",
       "      <th>0</th>\n",
       "      <td>1</td>\n",
       "      <td>Ballarat Clarendon College</td>\n",
       "      <td>45.8</td>\n",
       "    </tr>\n",
       "    <tr>\n",
       "      <th>1</th>\n",
       "      <td>2</td>\n",
       "      <td>Bialik College</td>\n",
       "      <td>34.1</td>\n",
       "    </tr>\n",
       "    <tr>\n",
       "      <th>2</th>\n",
       "      <td>3</td>\n",
       "      <td>Huntingtower School</td>\n",
       "      <td>33.8</td>\n",
       "    </tr>\n",
       "    <tr>\n",
       "      <th>3</th>\n",
       "      <td>4</td>\n",
       "      <td>Mount Scopus Memorial College</td>\n",
       "      <td>31.5</td>\n",
       "    </tr>\n",
       "    <tr>\n",
       "      <th>4</th>\n",
       "      <td>5</td>\n",
       "      <td>Ruyton Girls’ School</td>\n",
       "      <td>31.4</td>\n",
       "    </tr>\n",
       "  </tbody>\n",
       "</table>\n",
       "</div>"
      ],
      "text/plain": [
       "   rank                    school_name  over_forty_score_percentage\n",
       "0     1     Ballarat Clarendon College                         45.8\n",
       "1     2                 Bialik College                         34.1\n",
       "2     3            Huntingtower School                         33.8\n",
       "3     4  Mount Scopus Memorial College                         31.5\n",
       "4     5           Ruyton Girls’ School                         31.4"
      ]
     },
     "execution_count": 130,
     "metadata": {},
     "output_type": "execute_result"
    }
   ],
   "source": [
    "highschool_rankings.head()"
   ]
  },
  {
   "cell_type": "code",
   "execution_count": 132,
   "metadata": {},
   "outputs": [],
   "source": [
    "# use fuzzy matching on school_names to get longitude and latitude coordinates from secondary schools df \n",
    "\n",
    "# find the best match for a school name in secondary_schools_df\n",
    "def fuzzy_match_school(school_name, possible_school_names, scorer=process.extractOne):\n",
    "    match = scorer(school_name, possible_school_names)\n",
    "    if match:  # if match found, return best match and score\n",
    "        return match[0], match[1] \n",
    "    return None, 0  # if not found return none and 0 \n",
    "\n",
    "# apply fuzzy matching to merge the longitude and latitude by comparing school name to list of school names in secondary schools df\n",
    "highschool_rankings['best_match'], highschool_rankings['match_score'] = zip(\n",
    "    *highschool_rankings['school_name'].apply(fuzzy_match_school, possible_school_names=secondary_schools_df['school_name'].tolist())\n",
    ")"
   ]
  },
  {
   "cell_type": "code",
   "execution_count": 133,
   "metadata": {},
   "outputs": [],
   "source": [
    "# merge dataframes based on best matched school names\n",
    "highschool_rankings = pd.merge(\n",
    "    highschool_rankings,\n",
    "    secondary_schools_df[['school_name', 'longitude', 'latitude']],\n",
    "    left_on='best_match',\n",
    "    right_on='school_name',\n",
    "    how='left'\n",
    ")\n",
    "\n",
    "# drop the extra school_name column from the secondary_schools_df\n",
    "highschool_rankings = highschool_rankings.drop(columns=['school_name_y', 'best_match', 'match_score']).rename(columns={'school_name_x': 'school_name'})"
   ]
  },
  {
   "cell_type": "code",
   "execution_count": 135,
   "metadata": {},
   "outputs": [],
   "source": [
    "# save as csv to data/raw folder \n",
    "highschool_rankings.to_csv('../data/raw/highschool_rankings.csv', index=False)"
   ]
  },
  {
   "cell_type": "markdown",
   "metadata": {},
   "source": [
    "Preprocessing for Primary School rankings"
   ]
  },
  {
   "cell_type": "code",
   "execution_count": 140,
   "metadata": {},
   "outputs": [],
   "source": [
    "# read df\n",
    "primary_school_rankings = pd.read_csv('../data/landing/VIC_primary_school_rankings.csv')\n",
    "# drop first row with NaN rank\n",
    "primary_school_rankings = primary_school_rankings.drop(index=0)\n",
    "# keep columns that we need\n",
    "primary_school_rankings = primary_school_rankings[['Order', 'School', 'State Overall Score']]\n",
    "# rename columns\n",
    "primary_school_rankings = primary_school_rankings.rename(columns={\n",
    "    'Order': 'rank',\n",
    "    'School': 'school_name',\n",
    "    'State Overall Score': 'state_overall_score'\n",
    "})"
   ]
  },
  {
   "cell_type": "code",
   "execution_count": 143,
   "metadata": {},
   "outputs": [],
   "source": [
    "# since school_name column includes suburb, state, and postcode information that we dont need,\n",
    "# remove the additional information after the first comma in the school_name column\n",
    "primary_school_rankings['school_name'] = primary_school_rankings['school_name'].str.split(',', n=1).str[0]"
   ]
  },
  {
   "cell_type": "code",
   "execution_count": 147,
   "metadata": {},
   "outputs": [],
   "source": [
    "# do fuzzy matching on primary_school_rankings and primary_schools_df to get longitude and latitude columns\n",
    "primary_school_rankings['best_match'], primary_school_rankings['match_score'] = zip(\n",
    "    *primary_school_rankings['school_name'].apply(fuzzy_match_school, possible_school_names=primary_schools_df['school_name'].tolist())\n",
    ")\n",
    "# merge longitude and latitude from primary_schools_df into primary_school_rankings based on the best match\n",
    "primary_school_rankings = pd.merge(\n",
    "    primary_school_rankings, \n",
    "    primary_schools_df[['school_name', 'longitude', 'latitude']], \n",
    "    left_on='best_match', \n",
    "    right_on='school_name', \n",
    "    how='left'\n",
    ")\n",
    "# drop the extra 'school_name_y' column and rename 'school_name_x' to 'school_name'\n",
    "primary_school_rankings = primary_school_rankings.drop(columns=['school_name_y', 'best_match', 'match_score']).rename(columns={'school_name_x': 'school_name'})"
   ]
  },
  {
   "cell_type": "code",
   "execution_count": 148,
   "metadata": {},
   "outputs": [],
   "source": [
    "# convert rank column to integers\n",
    "primary_school_rankings['rank'] = primary_school_rankings['rank'].astype(int)"
   ]
  },
  {
   "cell_type": "code",
   "execution_count": 150,
   "metadata": {},
   "outputs": [],
   "source": [
    "# save as csv to data/raw folder \n",
    "primary_school_rankings.to_csv('../data/raw/primary_school_rankings.csv', index=False)"
   ]
  },
  {
   "cell_type": "code",
   "execution_count": 149,
   "metadata": {},
   "outputs": [
    {
     "data": {
      "text/html": [
       "<div>\n",
       "<style scoped>\n",
       "    .dataframe tbody tr th:only-of-type {\n",
       "        vertical-align: middle;\n",
       "    }\n",
       "\n",
       "    .dataframe tbody tr th {\n",
       "        vertical-align: top;\n",
       "    }\n",
       "\n",
       "    .dataframe thead th {\n",
       "        text-align: right;\n",
       "    }\n",
       "</style>\n",
       "<table border=\"1\" class=\"dataframe\">\n",
       "  <thead>\n",
       "    <tr style=\"text-align: right;\">\n",
       "      <th></th>\n",
       "      <th>rank</th>\n",
       "      <th>school_name</th>\n",
       "      <th>state_overall_score</th>\n",
       "      <th>longitude</th>\n",
       "      <th>latitude</th>\n",
       "    </tr>\n",
       "  </thead>\n",
       "  <tbody>\n",
       "    <tr>\n",
       "      <th>0</th>\n",
       "      <td>1</td>\n",
       "      <td>Presbyterian Ladies' College</td>\n",
       "      <td>100</td>\n",
       "      <td>145.10700</td>\n",
       "      <td>-37.84856</td>\n",
       "    </tr>\n",
       "    <tr>\n",
       "      <th>1</th>\n",
       "      <td>2</td>\n",
       "      <td>Camberwell Grammar School</td>\n",
       "      <td>100</td>\n",
       "      <td>145.06641</td>\n",
       "      <td>-37.81609</td>\n",
       "    </tr>\n",
       "    <tr>\n",
       "      <th>2</th>\n",
       "      <td>3</td>\n",
       "      <td>St Andrews Christian College</td>\n",
       "      <td>100</td>\n",
       "      <td>145.24464</td>\n",
       "      <td>-37.87387</td>\n",
       "    </tr>\n",
       "    <tr>\n",
       "      <th>3</th>\n",
       "      <td>4</td>\n",
       "      <td>Huntingtower School</td>\n",
       "      <td>100</td>\n",
       "      <td>145.13629</td>\n",
       "      <td>-37.87674</td>\n",
       "    </tr>\n",
       "    <tr>\n",
       "      <th>4</th>\n",
       "      <td>5</td>\n",
       "      <td>Ballarat Clarendon College</td>\n",
       "      <td>100</td>\n",
       "      <td>143.83365</td>\n",
       "      <td>-37.55965</td>\n",
       "    </tr>\n",
       "    <tr>\n",
       "      <th>...</th>\n",
       "      <td>...</td>\n",
       "      <td>...</td>\n",
       "      <td>...</td>\n",
       "      <td>...</td>\n",
       "      <td>...</td>\n",
       "    </tr>\n",
       "    <tr>\n",
       "      <th>924</th>\n",
       "      <td>449</td>\n",
       "      <td>St Michael's School</td>\n",
       "      <td>90</td>\n",
       "      <td>147.17342</td>\n",
       "      <td>-36.21623</td>\n",
       "    </tr>\n",
       "    <tr>\n",
       "      <th>925</th>\n",
       "      <td>449</td>\n",
       "      <td>St Michael's School</td>\n",
       "      <td>90</td>\n",
       "      <td>145.35357</td>\n",
       "      <td>-38.03382</td>\n",
       "    </tr>\n",
       "    <tr>\n",
       "      <th>926</th>\n",
       "      <td>450</td>\n",
       "      <td>Thomas Mitchell Primary School</td>\n",
       "      <td>90</td>\n",
       "      <td>145.27391</td>\n",
       "      <td>-37.98056</td>\n",
       "    </tr>\n",
       "    <tr>\n",
       "      <th>927</th>\n",
       "      <td>451</td>\n",
       "      <td>St Luke's Primary School</td>\n",
       "      <td>90</td>\n",
       "      <td>145.41203</td>\n",
       "      <td>-36.32432</td>\n",
       "    </tr>\n",
       "    <tr>\n",
       "      <th>928</th>\n",
       "      <td>452</td>\n",
       "      <td>St Robert's School</td>\n",
       "      <td>90</td>\n",
       "      <td>144.34301</td>\n",
       "      <td>-38.15641</td>\n",
       "    </tr>\n",
       "  </tbody>\n",
       "</table>\n",
       "<p>929 rows × 5 columns</p>\n",
       "</div>"
      ],
      "text/plain": [
       "     rank                     school_name  state_overall_score  longitude  \\\n",
       "0       1    Presbyterian Ladies' College                  100  145.10700   \n",
       "1       2       Camberwell Grammar School                  100  145.06641   \n",
       "2       3    St Andrews Christian College                  100  145.24464   \n",
       "3       4             Huntingtower School                  100  145.13629   \n",
       "4       5      Ballarat Clarendon College                  100  143.83365   \n",
       "..    ...                             ...                  ...        ...   \n",
       "924   449             St Michael's School                   90  147.17342   \n",
       "925   449             St Michael's School                   90  145.35357   \n",
       "926   450  Thomas Mitchell Primary School                   90  145.27391   \n",
       "927   451        St Luke's Primary School                   90  145.41203   \n",
       "928   452              St Robert's School                   90  144.34301   \n",
       "\n",
       "     latitude  \n",
       "0   -37.84856  \n",
       "1   -37.81609  \n",
       "2   -37.87387  \n",
       "3   -37.87674  \n",
       "4   -37.55965  \n",
       "..        ...  \n",
       "924 -36.21623  \n",
       "925 -38.03382  \n",
       "926 -37.98056  \n",
       "927 -36.32432  \n",
       "928 -38.15641  \n",
       "\n",
       "[929 rows x 5 columns]"
      ]
     },
     "execution_count": 149,
     "metadata": {},
     "output_type": "execute_result"
    }
   ],
   "source": [
    "primary_school_rankings"
   ]
  },
  {
   "cell_type": "code",
   "execution_count": null,
   "metadata": {},
   "outputs": [],
   "source": []
  }
 ],
 "metadata": {
  "kernelspec": {
   "display_name": ".venv",
   "language": "python",
   "name": "python3"
  },
  "language_info": {
   "codemirror_mode": {
    "name": "ipython",
    "version": 3
   },
   "file_extension": ".py",
   "mimetype": "text/x-python",
   "name": "python",
   "nbconvert_exporter": "python",
   "pygments_lexer": "ipython3",
   "version": "3.12.4"
  }
 },
 "nbformat": 4,
 "nbformat_minor": 2
}
