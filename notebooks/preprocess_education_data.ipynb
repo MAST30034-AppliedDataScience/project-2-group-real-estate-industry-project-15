{
 "cells": [
  {
   "cell_type": "markdown",
   "metadata": {},
   "source": [
    "# lowercase suburb names and change object type"
   ]
  },
  {
   "cell_type": "markdown",
   "metadata": {},
   "source": [
    "final dataset: \n",
    "rows:suburb \n",
    "features: primary school count per suburb, highschool count per suburb, tertiary count per suburb, average rank of highschools, median rank of highschools,rank of suburb based on total education institutions count"
   ]
  },
  {
   "cell_type": "markdown",
   "metadata": {},
   "source": [
    "suburb = string\n",
    "Institute_name = string\n",
    "School_name = string\n",
    "School_type = string\n",
    "Postcode = int\n",
    "Longitude = float\n",
    "Latitude = float"
   ]
  },
  {
   "cell_type": "markdown",
   "metadata": {},
   "source": [
    "#### !!  Important  !!\n",
    "Before running this code make sure all of the education related datasets are properly downloaded / scraped and saved into the landing folder\n",
    "- for datasets that are scraped check that they are in the landing folder \n",
    "- for datasets that need to be manually downloaded BEFORE running this notebook:\n",
    "\n",
    "      - please move the csv file (university_locations.csv) to the data/landing folder"
   ]
  },
  {
   "cell_type": "code",
   "execution_count": 270,
   "metadata": {},
   "outputs": [],
   "source": [
    "import pandas as pd\n",
    "import geopandas as gpd\n",
    "import numpy as np\n",
    "from fuzzywuzzy import process, fuzz\n",
    "import os\n"
   ]
  },
  {
   "cell_type": "markdown",
   "metadata": {},
   "source": [
    "### Preprocessing for TAFE locations"
   ]
  },
  {
   "cell_type": "code",
   "execution_count": 391,
   "metadata": {},
   "outputs": [],
   "source": [
    "# reading TAFE dataset\n",
    "tafe_df = pd.read_csv('../data/landing/TAFE_locations.csv')"
   ]
  },
  {
   "cell_type": "code",
   "execution_count": 392,
   "metadata": {},
   "outputs": [],
   "source": [
    "# extract suburbs where TAFE campuses are located\n",
    "def extract_suburbs(location):\n",
    "    suburbs = []\n",
    "    # split by semicolumn and space to get each part of the multiple campus locations\n",
    "    for part in location.split('; '):\n",
    "        # for each part get everything before the first colon (the suburb)\n",
    "        suburb = part.split(':')[0]\n",
    "        suburbs.append(suburb)\n",
    "    return suburbs\n",
    "\n",
    "# apply function to TAFE df\n",
    "tafe_df['suburbs'] = tafe_df['Locations'].apply(extract_suburbs)\n",
    "# each suburb gets an individual row \n",
    "tafe_df = tafe_df.explode('suburbs')\n"
   ]
  },
  {
   "cell_type": "code",
   "execution_count": 394,
   "metadata": {},
   "outputs": [],
   "source": [
    "# drop locations column - dont need anymore\n",
    "tafe_df = tafe_df.drop(columns='Locations')\n",
    "# change column name to align format\n",
    "tafe_df = tafe_df.rename(columns={'Institute Name': 'institute_name'})\n",
    "tafe_df = tafe_df.rename(columns={'suburbs': 'suburb'})\n",
    "tafe_df['institute_name'] = tafe_df['institute_name'].str.lower()\n",
    "tafe_df['suburb'] = tafe_df['suburb'].str.lower()"
   ]
  },
  {
   "cell_type": "code",
   "execution_count": 395,
   "metadata": {},
   "outputs": [
    {
     "data": {
      "text/html": [
       "<div>\n",
       "<style scoped>\n",
       "    .dataframe tbody tr th:only-of-type {\n",
       "        vertical-align: middle;\n",
       "    }\n",
       "\n",
       "    .dataframe tbody tr th {\n",
       "        vertical-align: top;\n",
       "    }\n",
       "\n",
       "    .dataframe thead th {\n",
       "        text-align: right;\n",
       "    }\n",
       "</style>\n",
       "<table border=\"1\" class=\"dataframe\">\n",
       "  <thead>\n",
       "    <tr style=\"text-align: right;\">\n",
       "      <th></th>\n",
       "      <th>institute_name</th>\n",
       "      <th>suburb</th>\n",
       "    </tr>\n",
       "  </thead>\n",
       "  <tbody>\n",
       "    <tr>\n",
       "      <th>0</th>\n",
       "      <td>bendigo tafe</td>\n",
       "      <td>bendigo</td>\n",
       "    </tr>\n",
       "    <tr>\n",
       "      <th>0</th>\n",
       "      <td>bendigo tafe</td>\n",
       "      <td>bendigo</td>\n",
       "    </tr>\n",
       "    <tr>\n",
       "      <th>0</th>\n",
       "      <td>bendigo tafe</td>\n",
       "      <td>castlemaine</td>\n",
       "    </tr>\n",
       "    <tr>\n",
       "      <th>0</th>\n",
       "      <td>bendigo tafe</td>\n",
       "      <td>echuca</td>\n",
       "    </tr>\n",
       "    <tr>\n",
       "      <th>1</th>\n",
       "      <td>box hill institute</td>\n",
       "      <td>box hill</td>\n",
       "    </tr>\n",
       "    <tr>\n",
       "      <th>...</th>\n",
       "      <td>...</td>\n",
       "      <td>...</td>\n",
       "    </tr>\n",
       "    <tr>\n",
       "      <th>14</th>\n",
       "      <td>victoria university</td>\n",
       "      <td>sunshine</td>\n",
       "    </tr>\n",
       "    <tr>\n",
       "      <th>14</th>\n",
       "      <td>victoria university</td>\n",
       "      <td>werribee</td>\n",
       "    </tr>\n",
       "    <tr>\n",
       "      <th>15</th>\n",
       "      <td>william angliss institute</td>\n",
       "      <td>melbourne</td>\n",
       "    </tr>\n",
       "    <tr>\n",
       "      <th>16</th>\n",
       "      <td>wodonga tafe</td>\n",
       "      <td>barnawartha north</td>\n",
       "    </tr>\n",
       "    <tr>\n",
       "      <th>16</th>\n",
       "      <td>wodonga tafe</td>\n",
       "      <td>west wodonga</td>\n",
       "    </tr>\n",
       "  </tbody>\n",
       "</table>\n",
       "<p>85 rows × 2 columns</p>\n",
       "</div>"
      ],
      "text/plain": [
       "               institute_name             suburb\n",
       "0                bendigo tafe            bendigo\n",
       "0                bendigo tafe            bendigo\n",
       "0                bendigo tafe        castlemaine\n",
       "0                bendigo tafe             echuca\n",
       "1          box hill institute           box hill\n",
       "..                        ...                ...\n",
       "14        victoria university           sunshine\n",
       "14        victoria university           werribee\n",
       "15  william angliss institute          melbourne\n",
       "16               wodonga tafe  barnawartha north\n",
       "16               wodonga tafe       west wodonga\n",
       "\n",
       "[85 rows x 2 columns]"
      ]
     },
     "execution_count": 395,
     "metadata": {},
     "output_type": "execute_result"
    }
   ],
   "source": [
    "tafe_df"
   ]
  },
  {
   "cell_type": "markdown",
   "metadata": {},
   "source": [
    "### Preprocessing for University locations"
   ]
  },
  {
   "cell_type": "code",
   "execution_count": 342,
   "metadata": {},
   "outputs": [],
   "source": [
    "# reading university dataset\n",
    "university_df = pd.read_csv('../data/landing/university_locations.csv')"
   ]
  },
  {
   "cell_type": "code",
   "execution_count": 343,
   "metadata": {},
   "outputs": [],
   "source": [
    "# drop columns that we dont need \n",
    "university_df = university_df.drop(columns=['Campus', 'City or Town', 'Post Code', 'Name'])\n",
    "# rename columns \n",
    "university_df = university_df.rename(columns={'University': 'institute_name'})\n",
    "university_df['institute_name'] = university_df['institute_name'].str.lower()\n"
   ]
  },
  {
   "cell_type": "code",
   "execution_count": 345,
   "metadata": {},
   "outputs": [],
   "source": [
    "# extract the suburb information from address column\n",
    "pattern = r'(?:,\\s*(.*?)\\s*V)|(?:\\s+([^\\s]+)\\s*V)' # i want the text between , and VIC, if theres no , then between a space and VIC\n",
    "university_df['suburb'] = university_df['Address'].str.extract(pattern).bfill(axis=1).iloc[:, 0]\n",
    "university_df['suburb'] = university_df['suburb'].str.lower()\n",
    "\n",
    "# drop columnds that we dont need\n",
    "university_df = university_df.drop(columns=['Address'])\n",
    "\n",
    "# remove any punctuation\n",
    "university_df['suburb'] = university_df['suburb'].str.replace('[,\"\\']', '', regex=True)"
   ]
  },
  {
   "cell_type": "markdown",
   "metadata": {},
   "source": [
    "##### Combine into Tertiary Insitution location csv"
   ]
  },
  {
   "cell_type": "code",
   "execution_count": 396,
   "metadata": {},
   "outputs": [],
   "source": [
    "tertiary_df = pd.concat([tafe_df, university_df], ignore_index=True)\n",
    "\n",
    "# save as csv to data/raw folder \n",
    "tertiary_df.to_csv('../data/raw/tertiary_insitutions_suburbs.csv', index=False)"
   ]
  },
  {
   "cell_type": "markdown",
   "metadata": {},
   "source": [
    "### Preprocessing for Primary Secondary location"
   ]
  },
  {
   "cell_type": "code",
   "execution_count": 354,
   "metadata": {},
   "outputs": [],
   "source": [
    "# reading dataset\n",
    "# specify encoding to handle non-UTF-8 characters\n",
    "prim_sec_df = pd.read_csv('../data/landing/2023_primary_secondary_locations.csv', encoding='ISO-8859-1')"
   ]
  },
  {
   "cell_type": "code",
   "execution_count": null,
   "metadata": {},
   "outputs": [],
   "source": [
    "# list of columns to keep\n",
    "columns_to_keep = ['School_Name', 'School_Type', 'Address_Town', 'Address_Postcode', 'X', 'Y']\n",
    "# keep selected columns\n",
    "prim_sec_df = prim_sec_df[columns_to_keep]\n",
    "# change column names\n",
    "prim_sec_df = prim_sec_df.rename(columns={\n",
    "    'School_Name': 'school_name',\n",
    "    'School_Type': 'school_type',\n",
    "    'Address_Town': 'suburb',\n",
    "    'Address_Postcode': 'postcode',\n",
    "    'X': 'longitude',\n",
    "    'Y': 'latitude'\n",
    "})\n",
    "\n",
    "prim_sec_df['school_name'] = prim_sec_df['school_name'].str.lower()\n",
    "prim_sec_df['suburb'] = prim_sec_df['suburb'].str.lower()\n",
    "prim_sec_df['school_type'] = prim_sec_df['school_type'].str.lower()"
   ]
  },
  {
   "cell_type": "code",
   "execution_count": 371,
   "metadata": {},
   "outputs": [],
   "source": [
    "# split df into primary schools and secondary schools\n",
    "primary_schools_df = prim_sec_df[prim_sec_df['school_type'].isin(['primary', 'pri/sec'])]\n",
    "secondary_schools_df = prim_sec_df[prim_sec_df['school_type'].isin(['secondary', 'pri/sec'])]"
   ]
  },
  {
   "cell_type": "markdown",
   "metadata": {},
   "source": [
    "creating ranking for primary schools"
   ]
  },
  {
   "cell_type": "code",
   "execution_count": 416,
   "metadata": {},
   "outputs": [],
   "source": [
    "all_enrollments = pd.read_csv('../data/landing/All_schools_enrollments.csv', encoding='ISO-8859-1')"
   ]
  },
  {
   "cell_type": "code",
   "execution_count": 417,
   "metadata": {},
   "outputs": [
    {
     "name": "stdout",
     "output_type": "stream",
     "text": [
      "<class 'pandas.core.frame.DataFrame'>\n",
      "RangeIndex: 2290 entries, 0 to 2289\n",
      "Data columns (total 26 columns):\n",
      " #   Column                      Non-Null Count  Dtype  \n",
      "---  ------                      --------------  -----  \n",
      " 0   Education_Sector            2290 non-null   object \n",
      " 1   Entity_Type                 2290 non-null   int64  \n",
      " 2   School_No                   2290 non-null   int64  \n",
      " 3   School_Name                 2290 non-null   object \n",
      " 4   School_Type                 2290 non-null   object \n",
      " 5   School_Status               2290 non-null   object \n",
      " 6   \"Prep Total\"                2290 non-null   float64\n",
      " 7   \"Year 1 Total\"              2290 non-null   float64\n",
      " 8   \"Year 2 Total\"              2290 non-null   float64\n",
      " 9   \"Year 3 Total\"              2290 non-null   float64\n",
      " 10  \"Year 4 Total\"              2290 non-null   float64\n",
      " 11  \"Year 5 Total\"              2290 non-null   float64\n",
      " 12  \"Year 6 Total\"              2290 non-null   float64\n",
      " 13  \"Primary Ungraded Total\"    2290 non-null   float64\n",
      " 14  \"Primary Total\"             2290 non-null   float64\n",
      " 15  \"Year 7 Total\"              2290 non-null   float64\n",
      " 16  \"Year 8 Total\"              2290 non-null   float64\n",
      " 17  \"Year 9 Total\"              2290 non-null   float64\n",
      " 18  \"Year 10 Total\"             2290 non-null   float64\n",
      " 19  \"Year 11 Total\"             2290 non-null   float64\n",
      " 20  \"Year 12 Total\"             2290 non-null   float64\n",
      " 21  \"Secondary Ungraded Total\"  2290 non-null   float64\n",
      " 22  \"Secondary Total\"           2290 non-null   float64\n",
      " 23  \"Grand Total\"               2290 non-null   float64\n",
      " 24  Year                        2290 non-null   int64  \n",
      " 25  CENSUS_TYPE                 2290 non-null   object \n",
      "dtypes: float64(18), int64(3), object(5)\n",
      "memory usage: 465.3+ KB\n"
     ]
    }
   ],
   "source": [
    "all_enrollments.info()"
   ]
  },
  {
   "cell_type": "code",
   "execution_count": 423,
   "metadata": {},
   "outputs": [
    {
     "name": "stdout",
     "output_type": "stream",
     "text": [
      "                      school_name  total_enrollments  rank\n",
      "1665         alamanda k-9 college             2560.0     1\n",
      "1644        truganina p-9 college             1815.0     2\n",
      "2033  tarneit rise primary school             1743.0     3\n",
      "2099           haileybury college             1634.0     4\n",
      "2189        bacchus marsh grammar             1610.0     5\n"
     ]
    }
   ],
   "source": [
    "# Step 3: Keep only the columns: 'School_Name', 'School_Type', and 'Primary Total'\n",
    "prim_enrollments = all_enrollments[['School_Name', 'School_Type', '\"Primary Total\"']]\n",
    "\n",
    "# Step 4: Clean column names and values to lowercase\n",
    "prim_enrollments.columns = [col.lower().replace('\"', '').strip() for col in prim_enrollments.columns]\n",
    "prim_enrollments = prim_enrollments.apply(lambda col: col.str.lower() if col.dtype == 'object' else col)\n",
    "\n",
    "# Step 5: Filter for primary and Pri/Sec schools\n",
    "prim_enrollments = prim_enrollments[prim_enrollments['school_type'].isin(['primary', 'pri/sec'])]\n",
    "\n",
    "# Step 6: Rename 'primary total' to 'total_enrollments' and add a 'rank' column\n",
    "prim_enrollments = prim_enrollments.rename(columns={'primary total': 'total_enrollments'})\n",
    "prim_enrollments = prim_enrollments.sort_values(by='total_enrollments', ascending=False)\n",
    "prim_enrollments['rank'] = prim_enrollments['total_enrollments'].rank(ascending=False).astype(int)\n",
    "\n",
    "# Step 7: Drop the 'school_type' column\n",
    "prim_enrollments = prim_enrollments.drop(columns=['school_type'])\n",
    "\n",
    "# Optional: Print the result or save to file\n",
    "print(prim_enrollments.head())"
   ]
  },
  {
   "cell_type": "code",
   "execution_count": 424,
   "metadata": {},
   "outputs": [
    {
     "name": "stdout",
     "output_type": "stream",
     "text": [
      "<class 'pandas.core.frame.DataFrame'>\n",
      "Index: 1823 entries, 0 to 2301\n",
      "Data columns (total 6 columns):\n",
      " #   Column       Non-Null Count  Dtype  \n",
      "---  ------       --------------  -----  \n",
      " 0   school_name  1823 non-null   object \n",
      " 1   school_type  1823 non-null   object \n",
      " 2   suburb       1823 non-null   object \n",
      " 3   postcode     1823 non-null   int64  \n",
      " 4   longitude    1823 non-null   float64\n",
      " 5   latitude     1823 non-null   float64\n",
      "dtypes: float64(2), int64(1), object(3)\n",
      "memory usage: 99.7+ KB\n"
     ]
    }
   ],
   "source": [
    "primary_schools_df.info()"
   ]
  },
  {
   "cell_type": "markdown",
   "metadata": {},
   "source": [
    "fuzzy match school names to get ranking from primary enrollments df to primary school locations df"
   ]
  },
  {
   "cell_type": "code",
   "execution_count": 442,
   "metadata": {},
   "outputs": [],
   "source": [
    "# Step 1: Perform exact matching using 'school_name'\n",
    "merged_df = pd.merge(primary_schools_df, prim_enrollments[['school_name', 'rank']], \n",
    "                     on='school_name', how='left')\n",
    "\n",
    "# Step 2: Identify schools without exact matches\n",
    "unmatched_schools = merged_df[merged_df['rank'].isna()]['school_name'].tolist()\n",
    "\n",
    "# Step 3: Perform fuzzy matching for the unmatched schools and track match scores\n",
    "def fuzzy_match(school_name, choices, threshold=90):\n",
    "    match, score = process.extractOne(school_name, choices)\n",
    "    if score >= threshold:\n",
    "        return match, score\n",
    "    else:\n",
    "        return None, None\n",
    "\n",
    "# Get a list of school names from prim_enrollments for matching\n",
    "prim_enrollment_names = prim_enrollments['school_name'].tolist()\n",
    "\n",
    "# Create lists to store the best matches and their scores\n",
    "best_matches = []\n",
    "match_scores = []\n",
    "\n",
    "# Apply fuzzy matching for unmatched schools\n",
    "for school in unmatched_schools:\n",
    "    match, score = fuzzy_match(school, prim_enrollment_names)\n",
    "    best_matches.append(match)\n",
    "    match_scores.append(score)\n",
    "\n",
    "    if match:\n",
    "        # Get the rank for the matched school and update merged_df\n",
    "        rank = prim_enrollments[prim_enrollments['school_name'] == match]['rank'].values[0]\n",
    "        merged_df.loc[merged_df['school_name'] == school, 'rank'] = rank\n",
    "\n",
    "# Step 4: Remove rows where rank is NaN\n",
    "primary_schools_df_clean = merged_df.dropna(subset=['rank'])\n",
    "\n",
    "# Step 5: Handle duplicate ranks\n",
    "# Sort by 'rank' and 'school_name' to prioritize the lowest rank and higher-ranked schools\n",
    "primary_schools_df_clean = primary_schools_df_clean.sort_values(by=['rank', 'school_name'])\n",
    "\n",
    "# Create a set to track assigned ranks\n",
    "assigned_ranks = set()\n",
    "\n",
    "# Create a list to store the final rows\n",
    "final_rows = []\n",
    "\n",
    "# Iterate through the cleaned DataFrame to assign unique ranks\n",
    "for index, row in primary_schools_df_clean.iterrows():\n",
    "    if row['rank'] not in assigned_ranks:\n",
    "        # If the rank is unique, assign it and add to final_rows\n",
    "        final_rows.append(row)\n",
    "        assigned_ranks.add(row['rank'])\n",
    "    else:\n",
    "        # If the rank is already taken, skip for now and handle later\n",
    "        continue\n",
    "\n",
    "# Convert final_rows back to a DataFrame\n",
    "primary_schools_df_unique = pd.DataFrame(final_rows)\n",
    "\n",
    "# Step 6: For any remaining schools that couldn't be assigned a unique rank,\n",
    "# keep the entry with the highest rank (i.e., lowest numerical value)\n",
    "remaining_duplicates = primary_schools_df_clean[~primary_schools_df_clean.index.isin(primary_schools_df_unique.index)]\n",
    "\n",
    "# Sort remaining duplicates by 'rank' and keep the lowest rank for each school\n",
    "remaining_unique = remaining_duplicates.sort_values(by='rank').drop_duplicates(subset=['school_name'], keep='first')\n",
    "\n",
    "# Combine the final unique entries\n",
    "primary_schools_df_final = pd.concat([primary_schools_df_unique, remaining_unique]).sort_values(by='rank')\n",
    "\n",
    "# Step 7: Convert 'rank' to int\n",
    "primary_schools_df_final['rank'] = primary_schools_df_final['rank'].astype(int)\n"
   ]
  },
  {
   "cell_type": "code",
   "execution_count": 443,
   "metadata": {},
   "outputs": [
    {
     "name": "stdout",
     "output_type": "stream",
     "text": [
      "Updated primary_schools_df with unique ranks:\n",
      "                      school_name school_type         suburb  postcode  \\\n",
      "1090         alamanda k-9 college     pri/sec     point cook      3030   \n",
      "1070        truganina p-9 college     pri/sec      truganina      3029   \n",
      "1207  tarneit rise primary school     primary        tarneit      3029   \n",
      "3337           haileybury college     pri/sec    keysborough      3173   \n",
      "4811        bacchus marsh grammar     pri/sec  bacchus marsh      3340   \n",
      "\n",
      "      longitude  latitude  rank  \n",
      "1090  144.74133 -37.90824     1  \n",
      "1070  144.71909 -37.83877     2  \n",
      "1207  144.66582 -37.83618     3  \n",
      "3337  145.14643 -37.99598     4  \n",
      "4811  144.43159 -37.69027     5  \n"
     ]
    }
   ],
   "source": [
    "# Display the updated DataFrame with unique schools and ranks\n",
    "print(\"Updated primary_schools_df with unique ranks:\")\n",
    "print(primary_schools_df_final.head())"
   ]
  },
  {
   "cell_type": "code",
   "execution_count": 444,
   "metadata": {},
   "outputs": [],
   "source": [
    "# save as csv to data/raw folder \n",
    "primary_schools_df_final.to_csv('../data/raw/primary_school_locations.csv', index=False)"
   ]
  },
  {
   "cell_type": "markdown",
   "metadata": {},
   "source": [
    "### Preprocessing for Highschool rankings"
   ]
  },
  {
   "cell_type": "markdown",
   "metadata": {},
   "source": [
    "##### Creating highschool rankings using school completion and achievement information"
   ]
  },
  {
   "cell_type": "code",
   "execution_count": 211,
   "metadata": {},
   "outputs": [],
   "source": [
    "hs_achievement = pd.read_csv('../data/landing/2023SeniorSecondaryCompletionAndAchievementInformation.csv')"
   ]
  },
  {
   "cell_type": "code",
   "execution_count": 212,
   "metadata": {},
   "outputs": [],
   "source": [
    "# removing trailing and leading spaces from column names\n",
    "hs_achievement.columns = hs_achievement.columns.str.strip()\n",
    "# remove trailing and leading spaces from string entries in df\n",
    "hs_achievement = hs_achievement.apply(lambda col: col.map(lambda x: x.strip() if isinstance(x, str) else x))\n",
    "\n",
    "columns_to_keep = ['School', \n",
    "                   'Number of VCE and VCE Vocational Major (VM) studies at Units 3 and 4 level with enrolments', \n",
    "                   'Percentage of satisfactory VCE completions', \n",
    "                   'Median VCE study score', \n",
    "                   'Percentage of study scores of 40 and over']\n",
    "hs_achievement = hs_achievement[columns_to_keep]"
   ]
  },
  {
   "cell_type": "code",
   "execution_count": 213,
   "metadata": {},
   "outputs": [],
   "source": [
    "cols_to_convert = hs_achievement.columns.difference(['School'])\n",
    "# convert the non-school columns to numeric, coercing errors to NaN\n",
    "hs_achievement[cols_to_convert] = hs_achievement[cols_to_convert].apply(pd.to_numeric, errors='coerce')\n",
    "\n",
    "# fill missing values with the median of their respective columns\n",
    "for col in cols_to_convert:\n",
    "    median_value = hs_achievement[col].median()\n",
    "    # assign column with filled NaN values directly back to df\n",
    "    hs_achievement[col] = hs_achievement[col].fillna(median_value)"
   ]
  },
  {
   "cell_type": "code",
   "execution_count": 216,
   "metadata": {},
   "outputs": [],
   "source": [
    "# define weights for each column based on importance\n",
    "weights = {\n",
    "    'Percentage of study scores of 40 and over': 0.4,\n",
    "    'Median VCE study score': 0.3,\n",
    "    'Number of VCE and VCE Vocational Major (VM) studies at Units 3 and 4 level with enrolments': 0.15,\n",
    "    'Percentage of satisfactory VCE completions': 0.15\n",
    "}\n",
    "\n",
    "# normalise scores by dividing each by its maximum value, so they are on the same scale\n",
    "for col in weights.keys():\n",
    "    hs_achievement[col] = hs_achievement[col] / hs_achievement[col].max()\n",
    "\n",
    "# calculate total score as the weighted sum of the columns\n",
    "hs_achievement['total_score'] = (\n",
    "    hs_achievement['Percentage of study scores of 40 and over'] * weights['Percentage of study scores of 40 and over'] +\n",
    "    hs_achievement['Median VCE study score'] * weights['Median VCE study score'] +\n",
    "    hs_achievement['Number of VCE and VCE Vocational Major (VM) studies at Units 3 and 4 level with enrolments'] * weights['Number of VCE and VCE Vocational Major (VM) studies at Units 3 and 4 level with enrolments'] +\n",
    "    hs_achievement['Percentage of satisfactory VCE completions'] * weights['Percentage of satisfactory VCE completions']\n",
    ")\n",
    "\n",
    "# rank schools based on the total score (1 is best)\n",
    "hs_achievement['school_rank'] = hs_achievement['total_score'].rank(ascending=False)"
   ]
  },
  {
   "cell_type": "code",
   "execution_count": 217,
   "metadata": {},
   "outputs": [],
   "source": [
    "hs_achievement = hs_achievement.sort_values(by='school_rank')\n",
    "hs_achievement['school_rank'] = hs_achievement['school_rank'].round().astype(int)\n",
    "cols = hs_achievement.columns.tolist()\n",
    "# move 'school_rank' to the second position\n",
    "cols.insert(1, cols.pop(cols.index('school_rank')))\n",
    "# reorder df\n",
    "hs_achievement = hs_achievement[cols]"
   ]
  },
  {
   "cell_type": "code",
   "execution_count": 218,
   "metadata": {},
   "outputs": [],
   "source": [
    "cols = hs_achievement.columns.tolist()\n",
    "# move 'school_rank' to the second position\n",
    "cols.insert(1, cols.pop(cols.index('school_rank')))\n",
    "# reorder df\n",
    "hs_achievement = hs_achievement[cols]"
   ]
  },
  {
   "cell_type": "code",
   "execution_count": 219,
   "metadata": {},
   "outputs": [],
   "source": [
    "# rename the columns: lowercase and replace spaces with underscores\n",
    "hs_achievement.columns = hs_achievement.columns.str.lower().str.replace(' ', '_')\n",
    "# convert all entries in the 'school' column to lowercase\n",
    "hs_achievement['school'] = hs_achievement['school'].str.lower()"
   ]
  },
  {
   "cell_type": "code",
   "execution_count": 220,
   "metadata": {},
   "outputs": [],
   "source": [
    "hs_achievement = hs_achievement.rename(columns={\n",
    "    'school_rank': 'rank',\n",
    "    'school': 'school_name',\n",
    "})"
   ]
  },
  {
   "cell_type": "code",
   "execution_count": 221,
   "metadata": {},
   "outputs": [],
   "source": [
    "hs_achievement.to_csv('../data/raw/highschool_rankings.csv', index=False)"
   ]
  },
  {
   "cell_type": "markdown",
   "metadata": {},
   "source": [
    "##### fuzzy match school_names to map rankings to schools"
   ]
  },
  {
   "cell_type": "code",
   "execution_count": 298,
   "metadata": {},
   "outputs": [],
   "source": [
    "# Step 1: Define a function to remove common words for matching purposes\n",
    "def clean_school_name(name):\n",
    "    common_words = ['college', 'school', 'centre', 'senior','prep','year', 'secondary', 'primary', 'grammar', 'christian', 'catholic', 'p-9', 'p-12', '-9', 'sec']\n",
    "    tokens = name.split()\n",
    "    filtered_tokens = [token for token in tokens if token.lower() not in common_words]\n",
    "    return ' '.join(filtered_tokens)\n",
    "\n",
    "# Step 2: Create cleaned school name lists for matching\n",
    "achievement_schools_cleaned = [clean_school_name(school) for school in hs_achievement['school_name'].tolist()]\n",
    "secondary_schools_cleaned = [clean_school_name(school) for school in secondary_schools_df['school_name'].tolist()]\n",
    "\n",
    "# Step 3: Perform fuzzy matching using the cleaned school names\n",
    "best_matches = []\n",
    "match_scores = []\n",
    "\n",
    "for school in secondary_schools_cleaned:\n",
    "    match, score = fuzzy_match_school(school, achievement_schools_cleaned)\n",
    "    best_matches.append(match)  # Store the best match (from cleaned names)\n",
    "    match_scores.append(score)  # Store the match score\n",
    "\n",
    "# Step 4: Create a DataFrame to store the matches along with their scores\n",
    "match_df = pd.DataFrame({\n",
    "    'original_school_name_in_secondary': secondary_schools_df['school_name'],  # Original school names\n",
    "    'cleaned_school_name_in_secondary': secondary_schools_cleaned,  # Cleaned school names\n",
    "    'best_match_cleaned': best_matches,  # Best match (from cleaned names)\n",
    "    'match_score': match_scores  # Match score\n",
    "})\n",
    "\n",
    "# Step 5: Determine how many schools were matched and unmatched based on match_score\n",
    "threshold = 88  # Set your match score threshold for a valid match\n",
    "\n",
    "\n",
    "# Step 7: Now merge the ranks from hs_achievement_cleaned to assign them to secondary_schools_df\n",
    "hs_achievement_cleaned = pd.DataFrame({\n",
    "    'original_school_name_in_achievement': hs_achievement['school_name'],  # Original names\n",
    "    'cleaned_school_name_in_achievement': [clean_school_name(school) for school in hs_achievement['school_name'].tolist()],  # Cleaned names\n",
    "    'rank': hs_achievement['rank']  # Rank\n",
    "})\n",
    "\n",
    "# Merge the cleaned school name matches to get the rank\n",
    "match_df = match_df.merge(hs_achievement_cleaned[['cleaned_school_name_in_achievement', 'rank']], \n",
    "                          left_on='best_match_cleaned', right_on='cleaned_school_name_in_achievement', how='left')\n",
    "\n",
    "# Step 8: Drop the cleaned columns and keep the original school names and the rank\n",
    "final_secondary_schools_df = pd.merge(\n",
    "    secondary_schools_df, \n",
    "    match_df[['original_school_name_in_secondary', 'rank']], \n",
    "    left_on='school_name', \n",
    "    right_on='original_school_name_in_secondary', \n",
    "    how='left'\n",
    ")\n",
    "\n",
    "# Drop the extra 'original_school_name_in_secondary' column if needed\n",
    "final_secondary_schools_df = final_secondary_schools_df.drop(columns=['original_school_name_in_secondary'])\n"
   ]
  },
  {
   "cell_type": "code",
   "execution_count": 363,
   "metadata": {},
   "outputs": [
    {
     "name": "stdout",
     "output_type": "stream",
     "text": [
      "Cleaned DataFrame without duplicates:\n"
     ]
    },
    {
     "data": {
      "text/html": [
       "<div>\n",
       "<style scoped>\n",
       "    .dataframe tbody tr th:only-of-type {\n",
       "        vertical-align: middle;\n",
       "    }\n",
       "\n",
       "    .dataframe tbody tr th {\n",
       "        vertical-align: top;\n",
       "    }\n",
       "\n",
       "    .dataframe thead th {\n",
       "        text-align: right;\n",
       "    }\n",
       "</style>\n",
       "<table border=\"1\" class=\"dataframe\">\n",
       "  <thead>\n",
       "    <tr style=\"text-align: right;\">\n",
       "      <th></th>\n",
       "      <th>school_name</th>\n",
       "      <th>school_type</th>\n",
       "      <th>suburb</th>\n",
       "      <th>postcode</th>\n",
       "      <th>longitude</th>\n",
       "      <th>latitude</th>\n",
       "      <th>rank</th>\n",
       "    </tr>\n",
       "  </thead>\n",
       "  <tbody>\n",
       "    <tr>\n",
       "      <th>396</th>\n",
       "      <td>academy of mary immaculate</td>\n",
       "      <td>secondary</td>\n",
       "      <td>fitzroy</td>\n",
       "      <td>3065</td>\n",
       "      <td>144.97441</td>\n",
       "      <td>-37.80371</td>\n",
       "      <td>143</td>\n",
       "    </tr>\n",
       "    <tr>\n",
       "      <th>480</th>\n",
       "      <td>adass israel school</td>\n",
       "      <td>pri/sec</td>\n",
       "      <td>elsternwick</td>\n",
       "      <td>3185</td>\n",
       "      <td>145.00820</td>\n",
       "      <td>-37.88390</td>\n",
       "      <td>409</td>\n",
       "    </tr>\n",
       "    <tr>\n",
       "      <th>627</th>\n",
       "      <td>aitken college</td>\n",
       "      <td>pri/sec</td>\n",
       "      <td>greenvale</td>\n",
       "      <td>3059</td>\n",
       "      <td>144.89070</td>\n",
       "      <td>-37.62771</td>\n",
       "      <td>249</td>\n",
       "    </tr>\n",
       "    <tr>\n",
       "      <th>671</th>\n",
       "      <td>al iman college</td>\n",
       "      <td>pri/sec</td>\n",
       "      <td>melton south</td>\n",
       "      <td>3338</td>\n",
       "      <td>144.56548</td>\n",
       "      <td>-37.70712</td>\n",
       "      <td>365</td>\n",
       "    </tr>\n",
       "    <tr>\n",
       "      <th>654</th>\n",
       "      <td>al siraat college</td>\n",
       "      <td>pri/sec</td>\n",
       "      <td>epping</td>\n",
       "      <td>3076</td>\n",
       "      <td>145.03753</td>\n",
       "      <td>-37.62426</td>\n",
       "      <td>202</td>\n",
       "    </tr>\n",
       "    <tr>\n",
       "      <th>...</th>\n",
       "      <td>...</td>\n",
       "      <td>...</td>\n",
       "      <td>...</td>\n",
       "      <td>...</td>\n",
       "      <td>...</td>\n",
       "      <td>...</td>\n",
       "      <td>...</td>\n",
       "    </tr>\n",
       "    <tr>\n",
       "      <th>220</th>\n",
       "      <td>yea high school</td>\n",
       "      <td>secondary</td>\n",
       "      <td>yea</td>\n",
       "      <td>3717</td>\n",
       "      <td>145.40854</td>\n",
       "      <td>-37.21501</td>\n",
       "      <td>483</td>\n",
       "    </tr>\n",
       "    <tr>\n",
       "      <th>483</th>\n",
       "      <td>yeshivah college</td>\n",
       "      <td>pri/sec</td>\n",
       "      <td>st kilda east</td>\n",
       "      <td>3183</td>\n",
       "      <td>145.00034</td>\n",
       "      <td>-37.86812</td>\n",
       "      <td>77</td>\n",
       "    </tr>\n",
       "    <tr>\n",
       "      <th>638</th>\n",
       "      <td>yesodei hatorah college</td>\n",
       "      <td>pri/sec</td>\n",
       "      <td>elwood</td>\n",
       "      <td>3184</td>\n",
       "      <td>144.98349</td>\n",
       "      <td>-37.87323</td>\n",
       "      <td>49</td>\n",
       "    </tr>\n",
       "    <tr>\n",
       "      <th>681</th>\n",
       "      <td>youth2industry college</td>\n",
       "      <td>secondary</td>\n",
       "      <td>south melbourne</td>\n",
       "      <td>3205</td>\n",
       "      <td>144.96665</td>\n",
       "      <td>-37.83731</td>\n",
       "      <td>565</td>\n",
       "    </tr>\n",
       "    <tr>\n",
       "      <th>20</th>\n",
       "      <td>yuille park p-8 community college</td>\n",
       "      <td>pri/sec</td>\n",
       "      <td>wendouree</td>\n",
       "      <td>3355</td>\n",
       "      <td>143.82040</td>\n",
       "      <td>-37.52750</td>\n",
       "      <td>317</td>\n",
       "    </tr>\n",
       "  </tbody>\n",
       "</table>\n",
       "<p>597 rows × 7 columns</p>\n",
       "</div>"
      ],
      "text/plain": [
       "                           school_name school_type           suburb  postcode  \\\n",
       "396         academy of mary immaculate   secondary          fitzroy      3065   \n",
       "480                adass israel school     pri/sec      elsternwick      3185   \n",
       "627                     aitken college     pri/sec        greenvale      3059   \n",
       "671                    al iman college     pri/sec     melton south      3338   \n",
       "654                  al siraat college     pri/sec           epping      3076   \n",
       "..                                 ...         ...              ...       ...   \n",
       "220                    yea high school   secondary              yea      3717   \n",
       "483                   yeshivah college     pri/sec    st kilda east      3183   \n",
       "638            yesodei hatorah college     pri/sec           elwood      3184   \n",
       "681             youth2industry college   secondary  south melbourne      3205   \n",
       "20   yuille park p-8 community college     pri/sec        wendouree      3355   \n",
       "\n",
       "     longitude  latitude  rank  \n",
       "396  144.97441 -37.80371   143  \n",
       "480  145.00820 -37.88390   409  \n",
       "627  144.89070 -37.62771   249  \n",
       "671  144.56548 -37.70712   365  \n",
       "654  145.03753 -37.62426   202  \n",
       "..         ...       ...   ...  \n",
       "220  145.40854 -37.21501   483  \n",
       "483  145.00034 -37.86812    77  \n",
       "638  144.98349 -37.87323    49  \n",
       "681  144.96665 -37.83731   565  \n",
       "20   143.82040 -37.52750   317  \n",
       "\n",
       "[597 rows x 7 columns]"
      ]
     },
     "metadata": {},
     "output_type": "display_data"
    }
   ],
   "source": [
    "\n",
    "\n",
    "# Step 2: Sort the dataframe by 'school_name' and 'rank'\n",
    "final_secondary_schools_df = final_secondary_schools_df.sort_values(by=['school_name', 'rank'])\n",
    "\n",
    "# Step 3: Drop duplicates based on 'school_name', keeping the row with the highest rank (smallest number)\n",
    "final_secondary_schools_df_cleaned = final_secondary_schools_df.drop_duplicates(subset='school_name', keep='first')\n",
    "\n",
    "# Step 4: Identify rows where the rank is the same for repeated school names\n",
    "duplicates_same_rank = final_secondary_schools_df[final_secondary_schools_df.duplicated(subset=['school_name', 'rank'], keep=False)]\n",
    "\n",
    "# Step 5: Display the cleaned dataframe without duplicates\n",
    "print(\"Cleaned DataFrame without duplicates:\")\n",
    "display(final_secondary_schools_df_cleaned)"
   ]
  },
  {
   "cell_type": "code",
   "execution_count": 375,
   "metadata": {},
   "outputs": [],
   "source": [
    "final_secondary_schools_df_cleaned.to_csv('../data/raw/secondary_school_locations.csv', index=False)"
   ]
  },
  {
   "cell_type": "markdown",
   "metadata": {},
   "source": [
    "### Create features for final dataset"
   ]
  },
  {
   "cell_type": "code",
   "execution_count": 445,
   "metadata": {},
   "outputs": [
    {
     "name": "stdout",
     "output_type": "stream",
     "text": [
      "<class 'pandas.core.frame.DataFrame'>\n",
      "Index: 1706 entries, 1090 to 445\n",
      "Data columns (total 7 columns):\n",
      " #   Column       Non-Null Count  Dtype  \n",
      "---  ------       --------------  -----  \n",
      " 0   school_name  1706 non-null   object \n",
      " 1   school_type  1706 non-null   object \n",
      " 2   suburb       1706 non-null   object \n",
      " 3   postcode     1706 non-null   int64  \n",
      " 4   longitude    1706 non-null   float64\n",
      " 5   latitude     1706 non-null   float64\n",
      " 6   rank         1706 non-null   int64  \n",
      "dtypes: float64(2), int64(2), object(3)\n",
      "memory usage: 106.6+ KB\n"
     ]
    }
   ],
   "source": [
    "primary_schools_df_final.info()"
   ]
  },
  {
   "cell_type": "code",
   "execution_count": 378,
   "metadata": {},
   "outputs": [
    {
     "name": "stdout",
     "output_type": "stream",
     "text": [
      "<class 'pandas.core.frame.DataFrame'>\n",
      "Index: 597 entries, 396 to 20\n",
      "Data columns (total 7 columns):\n",
      " #   Column       Non-Null Count  Dtype  \n",
      "---  ------       --------------  -----  \n",
      " 0   school_name  597 non-null    object \n",
      " 1   school_type  597 non-null    object \n",
      " 2   suburb       597 non-null    object \n",
      " 3   postcode     597 non-null    int64  \n",
      " 4   longitude    596 non-null    float64\n",
      " 5   latitude     596 non-null    float64\n",
      " 6   rank         597 non-null    int64  \n",
      "dtypes: float64(2), int64(2), object(3)\n",
      "memory usage: 37.3+ KB\n"
     ]
    }
   ],
   "source": [
    "final_secondary_schools_df_cleaned.info()"
   ]
  },
  {
   "cell_type": "code",
   "execution_count": 398,
   "metadata": {},
   "outputs": [
    {
     "name": "stdout",
     "output_type": "stream",
     "text": [
      "<class 'pandas.core.frame.DataFrame'>\n",
      "RangeIndex: 131 entries, 0 to 130\n",
      "Data columns (total 2 columns):\n",
      " #   Column          Non-Null Count  Dtype \n",
      "---  ------          --------------  ----- \n",
      " 0   institute_name  131 non-null    object\n",
      " 1   suburb          131 non-null    object\n",
      "dtypes: object(2)\n",
      "memory usage: 2.2+ KB\n"
     ]
    }
   ],
   "source": [
    "tertiary_df.info()"
   ]
  },
  {
   "cell_type": "code",
   "execution_count": 460,
   "metadata": {},
   "outputs": [],
   "source": [
    "# Step 1: Get unique suburbs from all datasets\n",
    "suburbs_combined = pd.concat([\n",
    "    primary_schools_df_final['suburb'], \n",
    "    final_secondary_schools_df_cleaned['suburb'], \n",
    "    tertiary_df['suburb']\n",
    "]).drop_duplicates().reset_index(drop=True)\n",
    "\n",
    "# Step 2: Create a dataframe with unique suburbs\n",
    "final_df = pd.DataFrame(suburbs_combined, columns=['suburb'])\n",
    "\n",
    "# Step 3: Add primary school count per suburb\n",
    "primary_school_count = primary_schools_df_final.groupby('suburb').size().reset_index(name='primary_school_count')\n",
    "final_df = final_df.merge(primary_school_count, on='suburb', how='left')\n",
    "\n",
    "# Step 4: Add secondary school (highschool) count per suburb\n",
    "highschool_count = final_secondary_schools_df_cleaned.groupby('suburb').size().reset_index(name='highschool_count')\n",
    "final_df = final_df.merge(highschool_count, on='suburb', how='left')\n",
    "\n",
    "# Step 5: Add tertiary institution count per suburb\n",
    "tertiary_count = tertiary_df.groupby('suburb').size().reset_index(name='tertiary_institutions_count')\n",
    "final_df = final_df.merge(tertiary_count, on='suburb', how='left')\n",
    "\n",
    "# Step 6: Add average rank of highschools per suburb\n",
    "avg_highschool_rank = final_secondary_schools_df_cleaned.groupby('suburb')['rank'].mean().reset_index(name='average_highschool_rank')\n",
    "final_df = final_df.merge(avg_highschool_rank, on='suburb', how='left')\n",
    "\n",
    "# Step 7: Add median rank of highschools per suburb\n",
    "median_highschool_rank = final_secondary_schools_df_cleaned.groupby('suburb')['rank'].median().reset_index(name='median_highschool_rank')\n",
    "final_df = final_df.merge(median_highschool_rank, on='suburb', how='left')\n",
    "\n",
    "# Step 8: Add average and median rank for primary schools per suburb\n",
    "avg_primary_school_rank = primary_schools_df_final.groupby('suburb')['rank'].mean().reset_index(name='average_primary_school_rank')\n",
    "final_df = final_df.merge(avg_primary_school_rank, on='suburb', how='left')\n",
    "\n",
    "median_primary_school_rank = primary_schools_df_final.groupby('suburb')['rank'].median().reset_index(name='median_primary_school_rank')\n",
    "final_df = final_df.merge(median_primary_school_rank, on='suburb', how='left')\n",
    "\n",
    "# Step 9: Create combined 'average_school_rank' and 'median_school_rank' using both primary and highschool ranks\n",
    "final_df['average_school_rank'] = final_df[['average_primary_school_rank', 'average_highschool_rank']].mean(axis=1)\n",
    "final_df['median_school_rank'] = final_df[['median_primary_school_rank', 'median_highschool_rank']].median(axis=1)\n",
    "\n",
    "# Step 10: Calculate total educational institution count\n",
    "final_df['total_education_count'] = final_df[['primary_school_count', 'highschool_count', 'tertiary_institutions_count']].sum(axis=1)\n",
    "\n",
    "# Step 11: Rank suburbs based on total education institutions count\n",
    "final_df['suburb_education_rank'] = final_df['total_education_count'].rank(ascending=False)\n",
    "\n",
    "# Step 12: Rank suburbs based on median_school_rank\n",
    "final_df['suburb_median_school_rank'] = final_df['median_school_rank'].rank(ascending=True)\n",
    "\n",
    "# Step 13: Fill NaN values in the rank columns before converting to int\n",
    "final_df['suburb_education_rank'] = final_df['suburb_education_rank'].fillna(0)\n",
    "final_df['suburb_median_school_rank'] = final_df['suburb_median_school_rank'].fillna(0)\n",
    "\n",
    "# Step 14: Round rank columns to the nearest whole number and convert to int\n",
    "final_df['suburb_education_rank'] = final_df['suburb_education_rank'].round().astype(int)\n",
    "final_df['suburb_median_school_rank'] = final_df['suburb_median_school_rank'].round().astype(int)\n",
    "\n",
    "# Fill NaN values with 0 for counts and 'N/A' for rank columns where applicable\n",
    "final_df[['primary_school_count', 'highschool_count', 'tertiary_institutions_count']] = final_df[['primary_school_count', 'highschool_count', 'tertiary_institutions_count']].fillna(0)\n",
    "final_df[['average_highschool_rank', 'median_highschool_rank', 'average_primary_school_rank', 'median_primary_school_rank', 'average_school_rank', 'median_school_rank']] = final_df[['average_highschool_rank', 'median_highschool_rank', 'average_primary_school_rank', 'median_primary_school_rank', 'average_school_rank', 'median_school_rank']].fillna('N/A')\n"
   ]
  },
  {
   "cell_type": "code",
   "execution_count": 462,
   "metadata": {},
   "outputs": [],
   "source": [
    "# List of columns to convert to float, except for 'suburb'\n",
    "columns_to_convert = ['average_highschool_rank', 'median_highschool_rank', 'average_primary_school_rank', \n",
    "                      'median_primary_school_rank', 'average_school_rank', 'median_school_rank']\n",
    "\n",
    "# Convert these columns to float\n",
    "final_df[columns_to_convert] = final_df[columns_to_convert].apply(pd.to_numeric, errors='coerce')"
   ]
  },
  {
   "cell_type": "code",
   "execution_count": 464,
   "metadata": {},
   "outputs": [
    {
     "data": {
      "text/html": [
       "<div>\n",
       "<style scoped>\n",
       "    .dataframe tbody tr th:only-of-type {\n",
       "        vertical-align: middle;\n",
       "    }\n",
       "\n",
       "    .dataframe tbody tr th {\n",
       "        vertical-align: top;\n",
       "    }\n",
       "\n",
       "    .dataframe thead th {\n",
       "        text-align: right;\n",
       "    }\n",
       "</style>\n",
       "<table border=\"1\" class=\"dataframe\">\n",
       "  <thead>\n",
       "    <tr style=\"text-align: right;\">\n",
       "      <th></th>\n",
       "      <th>primary_school_count</th>\n",
       "      <th>highschool_count</th>\n",
       "      <th>tertiary_institutions_count</th>\n",
       "      <th>average_highschool_rank</th>\n",
       "      <th>median_highschool_rank</th>\n",
       "      <th>average_primary_school_rank</th>\n",
       "      <th>median_primary_school_rank</th>\n",
       "      <th>average_school_rank</th>\n",
       "      <th>median_school_rank</th>\n",
       "      <th>total_education_count</th>\n",
       "      <th>suburb_education_rank</th>\n",
       "      <th>suburb_median_school_rank</th>\n",
       "    </tr>\n",
       "  </thead>\n",
       "  <tbody>\n",
       "    <tr>\n",
       "      <th>count</th>\n",
       "      <td>944.000000</td>\n",
       "      <td>944.000000</td>\n",
       "      <td>944.000000</td>\n",
       "      <td>374.000000</td>\n",
       "      <td>374.000000</td>\n",
       "      <td>914.000000</td>\n",
       "      <td>914.000000</td>\n",
       "      <td>934.000000</td>\n",
       "      <td>934.000000</td>\n",
       "      <td>944.000000</td>\n",
       "      <td>944.00000</td>\n",
       "      <td>944.000000</td>\n",
       "    </tr>\n",
       "    <tr>\n",
       "      <th>mean</th>\n",
       "      <td>1.807203</td>\n",
       "      <td>0.632415</td>\n",
       "      <td>0.138771</td>\n",
       "      <td>282.005405</td>\n",
       "      <td>282.016043</td>\n",
       "      <td>1050.869209</td>\n",
       "      <td>1046.473742</td>\n",
       "      <td>931.804592</td>\n",
       "      <td>929.228319</td>\n",
       "      <td>2.578390</td>\n",
       "      <td>472.40678</td>\n",
       "      <td>462.554025</td>\n",
       "    </tr>\n",
       "    <tr>\n",
       "      <th>std</th>\n",
       "      <td>1.598286</td>\n",
       "      <td>1.033607</td>\n",
       "      <td>0.647060</td>\n",
       "      <td>156.878021</td>\n",
       "      <td>159.442325</td>\n",
       "      <td>508.642401</td>\n",
       "      <td>518.589531</td>\n",
       "      <td>534.038618</td>\n",
       "      <td>538.086732</td>\n",
       "      <td>2.719514</td>\n",
       "      <td>250.97864</td>\n",
       "      <td>272.558284</td>\n",
       "    </tr>\n",
       "    <tr>\n",
       "      <th>min</th>\n",
       "      <td>0.000000</td>\n",
       "      <td>0.000000</td>\n",
       "      <td>0.000000</td>\n",
       "      <td>1.000000</td>\n",
       "      <td>1.000000</td>\n",
       "      <td>17.000000</td>\n",
       "      <td>17.000000</td>\n",
       "      <td>17.000000</td>\n",
       "      <td>17.000000</td>\n",
       "      <td>1.000000</td>\n",
       "      <td>1.00000</td>\n",
       "      <td>0.000000</td>\n",
       "    </tr>\n",
       "    <tr>\n",
       "      <th>25%</th>\n",
       "      <td>1.000000</td>\n",
       "      <td>0.000000</td>\n",
       "      <td>0.000000</td>\n",
       "      <td>146.500000</td>\n",
       "      <td>144.125000</td>\n",
       "      <td>624.750000</td>\n",
       "      <td>615.000000</td>\n",
       "      <td>464.625000</td>\n",
       "      <td>458.187500</td>\n",
       "      <td>1.000000</td>\n",
       "      <td>249.00000</td>\n",
       "      <td>226.750000</td>\n",
       "    </tr>\n",
       "    <tr>\n",
       "      <th>50%</th>\n",
       "      <td>1.000000</td>\n",
       "      <td>0.000000</td>\n",
       "      <td>0.000000</td>\n",
       "      <td>285.250000</td>\n",
       "      <td>286.000000</td>\n",
       "      <td>1059.500000</td>\n",
       "      <td>1074.000000</td>\n",
       "      <td>840.250000</td>\n",
       "      <td>844.000000</td>\n",
       "      <td>1.000000</td>\n",
       "      <td>695.00000</td>\n",
       "      <td>462.500000</td>\n",
       "    </tr>\n",
       "    <tr>\n",
       "      <th>75%</th>\n",
       "      <td>2.000000</td>\n",
       "      <td>1.000000</td>\n",
       "      <td>0.000000</td>\n",
       "      <td>403.750000</td>\n",
       "      <td>407.000000</td>\n",
       "      <td>1528.000000</td>\n",
       "      <td>1528.000000</td>\n",
       "      <td>1474.250000</td>\n",
       "      <td>1474.250000</td>\n",
       "      <td>3.000000</td>\n",
       "      <td>695.00000</td>\n",
       "      <td>698.250000</td>\n",
       "    </tr>\n",
       "    <tr>\n",
       "      <th>max</th>\n",
       "      <td>13.000000</td>\n",
       "      <td>7.000000</td>\n",
       "      <td>13.000000</td>\n",
       "      <td>588.000000</td>\n",
       "      <td>588.000000</td>\n",
       "      <td>1820.000000</td>\n",
       "      <td>1820.000000</td>\n",
       "      <td>1820.000000</td>\n",
       "      <td>1820.000000</td>\n",
       "      <td>22.000000</td>\n",
       "      <td>695.00000</td>\n",
       "      <td>934.000000</td>\n",
       "    </tr>\n",
       "  </tbody>\n",
       "</table>\n",
       "</div>"
      ],
      "text/plain": [
       "       primary_school_count  highschool_count  tertiary_institutions_count  \\\n",
       "count            944.000000        944.000000                   944.000000   \n",
       "mean               1.807203          0.632415                     0.138771   \n",
       "std                1.598286          1.033607                     0.647060   \n",
       "min                0.000000          0.000000                     0.000000   \n",
       "25%                1.000000          0.000000                     0.000000   \n",
       "50%                1.000000          0.000000                     0.000000   \n",
       "75%                2.000000          1.000000                     0.000000   \n",
       "max               13.000000          7.000000                    13.000000   \n",
       "\n",
       "       average_highschool_rank  median_highschool_rank  \\\n",
       "count               374.000000              374.000000   \n",
       "mean                282.005405              282.016043   \n",
       "std                 156.878021              159.442325   \n",
       "min                   1.000000                1.000000   \n",
       "25%                 146.500000              144.125000   \n",
       "50%                 285.250000              286.000000   \n",
       "75%                 403.750000              407.000000   \n",
       "max                 588.000000              588.000000   \n",
       "\n",
       "       average_primary_school_rank  median_primary_school_rank  \\\n",
       "count                   914.000000                  914.000000   \n",
       "mean                   1050.869209                 1046.473742   \n",
       "std                     508.642401                  518.589531   \n",
       "min                      17.000000                   17.000000   \n",
       "25%                     624.750000                  615.000000   \n",
       "50%                    1059.500000                 1074.000000   \n",
       "75%                    1528.000000                 1528.000000   \n",
       "max                    1820.000000                 1820.000000   \n",
       "\n",
       "       average_school_rank  median_school_rank  total_education_count  \\\n",
       "count           934.000000          934.000000             944.000000   \n",
       "mean            931.804592          929.228319               2.578390   \n",
       "std             534.038618          538.086732               2.719514   \n",
       "min              17.000000           17.000000               1.000000   \n",
       "25%             464.625000          458.187500               1.000000   \n",
       "50%             840.250000          844.000000               1.000000   \n",
       "75%            1474.250000         1474.250000               3.000000   \n",
       "max            1820.000000         1820.000000              22.000000   \n",
       "\n",
       "       suburb_education_rank  suburb_median_school_rank  \n",
       "count              944.00000                 944.000000  \n",
       "mean               472.40678                 462.554025  \n",
       "std                250.97864                 272.558284  \n",
       "min                  1.00000                   0.000000  \n",
       "25%                249.00000                 226.750000  \n",
       "50%                695.00000                 462.500000  \n",
       "75%                695.00000                 698.250000  \n",
       "max                695.00000                 934.000000  "
      ]
     },
     "execution_count": 464,
     "metadata": {},
     "output_type": "execute_result"
    }
   ],
   "source": [
    "final_df.describe()"
   ]
  },
  {
   "cell_type": "code",
   "execution_count": 466,
   "metadata": {},
   "outputs": [],
   "source": [
    "final_df.to_csv('../data/raw/education_final_df.csv', index=False)"
   ]
  }
 ],
 "metadata": {
  "kernelspec": {
   "display_name": ".venv",
   "language": "python",
   "name": "python3"
  },
  "language_info": {
   "codemirror_mode": {
    "name": "ipython",
    "version": 3
   },
   "file_extension": ".py",
   "mimetype": "text/x-python",
   "name": "python",
   "nbconvert_exporter": "python",
   "pygments_lexer": "ipython3",
   "version": "3.12.4"
  }
 },
 "nbformat": 4,
 "nbformat_minor": 2
}
